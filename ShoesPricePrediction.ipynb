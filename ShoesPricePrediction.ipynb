{
 "cells": [
  {
   "cell_type": "markdown",
   "id": "0f821ccf",
   "metadata": {},
   "source": [
    "## About the dataset"
   ]
  },
  {
   "cell_type": "markdown",
   "id": "5754b761",
   "metadata": {},
   "source": [
    "## This dataset contains information about the sales of shoes in a particular region. The data includes information on the brand, model, type of shoe, gender, size, color, material, and price.\n",
    "\n",
    "### Column Details\n",
    "#### Brand: The brand of the shoe, such as Nike, Adidas, or Reebok.\n",
    "\n",
    "#### Model: The specific model name or number of the shoe, such as Air Jordan 1, Ultra Boost 21, or Classic Leather.\n",
    "\n",
    "#### Type: The type of shoe, such as running, casual, or skate. This column describes the intended use or function of the shoe.\n",
    "\n",
    "#### Gender: The gender the shoe is designed for, such as men, women, or unisex. This column specifies the target demographic for the shoe.\n",
    "\n",
    "#### Size: The size of the shoe, using US sizing. This column indicates the length of the shoe in inches or centimeters.\n",
    "\n",
    "#### Color: The color of the shoe's exterior. This column describes the predominant color or color combination of the shoe.\n",
    "\n",
    "#### Material: The primary material of the shoe, such as leather, mesh, or suede. This column indicates the material that comprises the majority of the shoe's construction.\n",
    "\n",
    "#### Price: The price of the shoe, in US dollars. This column specifies the cost of purchasing the shoe.\n",
    "\n",
    "#### The purpose of creating this dataset is solely for educational use, and any commercial use is strictly prohibited and this dataset was large language models generated and not collected from actual data sources."
   ]
  },
  {
   "cell_type": "markdown",
   "id": "62f38f61",
   "metadata": {},
   "source": [
    "Importing Libraries"
   ]
  },
  {
   "cell_type": "code",
   "execution_count": 515,
   "id": "86498765",
   "metadata": {},
   "outputs": [],
   "source": [
    "import numpy as np # array\n",
    "import pandas as pd # data frame manipulation\n",
    "import matplotlib.pyplot as plt # plotting\n",
    "import plotly.express as px # interactive plotting\n",
    "import seaborn as sns # data visualization"
   ]
  },
  {
   "cell_type": "markdown",
   "id": "3eef0654",
   "metadata": {},
   "source": [
    "Importing dataset"
   ]
  },
  {
   "cell_type": "code",
   "execution_count": 516,
   "id": "fba59c70",
   "metadata": {},
   "outputs": [],
   "source": [
    "shoe = pd.read_csv('Shoe prices.csv')"
   ]
  },
  {
   "cell_type": "code",
   "execution_count": 517,
   "id": "c567a62d",
   "metadata": {},
   "outputs": [
    {
     "data": {
      "text/html": [
       "<div>\n",
       "<style scoped>\n",
       "    .dataframe tbody tr th:only-of-type {\n",
       "        vertical-align: middle;\n",
       "    }\n",
       "\n",
       "    .dataframe tbody tr th {\n",
       "        vertical-align: top;\n",
       "    }\n",
       "\n",
       "    .dataframe thead th {\n",
       "        text-align: right;\n",
       "    }\n",
       "</style>\n",
       "<table border=\"1\" class=\"dataframe\">\n",
       "  <thead>\n",
       "    <tr style=\"text-align: right;\">\n",
       "      <th></th>\n",
       "      <th>Brand</th>\n",
       "      <th>Model</th>\n",
       "      <th>Type</th>\n",
       "      <th>Gender</th>\n",
       "      <th>Size</th>\n",
       "      <th>Color</th>\n",
       "      <th>Material</th>\n",
       "      <th>Price (USD)</th>\n",
       "    </tr>\n",
       "  </thead>\n",
       "  <tbody>\n",
       "    <tr>\n",
       "      <th>0</th>\n",
       "      <td>Nike</td>\n",
       "      <td>Air Jordan 1</td>\n",
       "      <td>Basketball</td>\n",
       "      <td>Men</td>\n",
       "      <td>US 10</td>\n",
       "      <td>Red/Black</td>\n",
       "      <td>Leather</td>\n",
       "      <td>$170.00</td>\n",
       "    </tr>\n",
       "    <tr>\n",
       "      <th>1</th>\n",
       "      <td>Adidas</td>\n",
       "      <td>Ultra Boost 21</td>\n",
       "      <td>Running</td>\n",
       "      <td>Men</td>\n",
       "      <td>US 9.5</td>\n",
       "      <td>Black</td>\n",
       "      <td>Primeknit</td>\n",
       "      <td>$180.00</td>\n",
       "    </tr>\n",
       "    <tr>\n",
       "      <th>2</th>\n",
       "      <td>Reebok</td>\n",
       "      <td>Classic Leather</td>\n",
       "      <td>Casual</td>\n",
       "      <td>Men</td>\n",
       "      <td>US 11</td>\n",
       "      <td>White</td>\n",
       "      <td>Leather</td>\n",
       "      <td>$75.00</td>\n",
       "    </tr>\n",
       "    <tr>\n",
       "      <th>3</th>\n",
       "      <td>Converse</td>\n",
       "      <td>Chuck Taylor</td>\n",
       "      <td>Casual</td>\n",
       "      <td>Women</td>\n",
       "      <td>US 8</td>\n",
       "      <td>Navy</td>\n",
       "      <td>Canvas</td>\n",
       "      <td>$55.00</td>\n",
       "    </tr>\n",
       "    <tr>\n",
       "      <th>4</th>\n",
       "      <td>Puma</td>\n",
       "      <td>Future Rider</td>\n",
       "      <td>Lifestyle</td>\n",
       "      <td>Women</td>\n",
       "      <td>US 7.5</td>\n",
       "      <td>Pink</td>\n",
       "      <td>Mesh</td>\n",
       "      <td>$80.00</td>\n",
       "    </tr>\n",
       "  </tbody>\n",
       "</table>\n",
       "</div>"
      ],
      "text/plain": [
       "      Brand            Model        Type Gender    Size      Color   Material  \\\n",
       "0      Nike     Air Jordan 1  Basketball    Men   US 10  Red/Black    Leather   \n",
       "1    Adidas   Ultra Boost 21     Running    Men  US 9.5      Black  Primeknit   \n",
       "2    Reebok  Classic Leather      Casual    Men   US 11      White    Leather   \n",
       "3  Converse     Chuck Taylor      Casual  Women    US 8       Navy     Canvas   \n",
       "4      Puma     Future Rider   Lifestyle  Women  US 7.5       Pink       Mesh   \n",
       "\n",
       "  Price (USD)  \n",
       "0    $170.00   \n",
       "1    $180.00   \n",
       "2     $75.00   \n",
       "3     $55.00   \n",
       "4     $80.00   "
      ]
     },
     "execution_count": 517,
     "metadata": {},
     "output_type": "execute_result"
    }
   ],
   "source": [
    "# head of the data set\n",
    "shoe.head()"
   ]
  },
  {
   "cell_type": "markdown",
   "id": "bad2df18",
   "metadata": {},
   "source": [
    "Analyzing and cleaning the data"
   ]
  },
  {
   "cell_type": "code",
   "execution_count": 518,
   "id": "99c25d26",
   "metadata": {},
   "outputs": [
    {
     "data": {
      "text/html": [
       "<div>\n",
       "<style scoped>\n",
       "    .dataframe tbody tr th:only-of-type {\n",
       "        vertical-align: middle;\n",
       "    }\n",
       "\n",
       "    .dataframe tbody tr th {\n",
       "        vertical-align: top;\n",
       "    }\n",
       "\n",
       "    .dataframe thead th {\n",
       "        text-align: right;\n",
       "    }\n",
       "</style>\n",
       "<table border=\"1\" class=\"dataframe\">\n",
       "  <thead>\n",
       "    <tr style=\"text-align: right;\">\n",
       "      <th></th>\n",
       "      <th>Brand</th>\n",
       "      <th>Model</th>\n",
       "      <th>Type</th>\n",
       "      <th>Gender</th>\n",
       "      <th>Size</th>\n",
       "      <th>Color</th>\n",
       "      <th>Material</th>\n",
       "      <th>Price (USD)</th>\n",
       "    </tr>\n",
       "  </thead>\n",
       "  <tbody>\n",
       "    <tr>\n",
       "      <th>0</th>\n",
       "      <td>Nike</td>\n",
       "      <td>Air Jordan 1</td>\n",
       "      <td>Basketball</td>\n",
       "      <td>Men</td>\n",
       "      <td>US 10</td>\n",
       "      <td>Red/Black</td>\n",
       "      <td>Leather</td>\n",
       "      <td>$170.00</td>\n",
       "    </tr>\n",
       "    <tr>\n",
       "      <th>1</th>\n",
       "      <td>Adidas</td>\n",
       "      <td>Ultra Boost 21</td>\n",
       "      <td>Running</td>\n",
       "      <td>Men</td>\n",
       "      <td>US 9.5</td>\n",
       "      <td>Black</td>\n",
       "      <td>Primeknit</td>\n",
       "      <td>$180.00</td>\n",
       "    </tr>\n",
       "    <tr>\n",
       "      <th>2</th>\n",
       "      <td>Reebok</td>\n",
       "      <td>Classic Leather</td>\n",
       "      <td>Casual</td>\n",
       "      <td>Men</td>\n",
       "      <td>US 11</td>\n",
       "      <td>White</td>\n",
       "      <td>Leather</td>\n",
       "      <td>$75.00</td>\n",
       "    </tr>\n",
       "    <tr>\n",
       "      <th>3</th>\n",
       "      <td>Converse</td>\n",
       "      <td>Chuck Taylor</td>\n",
       "      <td>Casual</td>\n",
       "      <td>Women</td>\n",
       "      <td>US 8</td>\n",
       "      <td>Navy</td>\n",
       "      <td>Canvas</td>\n",
       "      <td>$55.00</td>\n",
       "    </tr>\n",
       "    <tr>\n",
       "      <th>4</th>\n",
       "      <td>Puma</td>\n",
       "      <td>Future Rider</td>\n",
       "      <td>Lifestyle</td>\n",
       "      <td>Women</td>\n",
       "      <td>US 7.5</td>\n",
       "      <td>Pink</td>\n",
       "      <td>Mesh</td>\n",
       "      <td>$80.00</td>\n",
       "    </tr>\n",
       "  </tbody>\n",
       "</table>\n",
       "</div>"
      ],
      "text/plain": [
       "      Brand            Model        Type Gender    Size      Color   Material  \\\n",
       "0      Nike     Air Jordan 1  Basketball    Men   US 10  Red/Black    Leather   \n",
       "1    Adidas   Ultra Boost 21     Running    Men  US 9.5      Black  Primeknit   \n",
       "2    Reebok  Classic Leather      Casual    Men   US 11      White    Leather   \n",
       "3  Converse     Chuck Taylor      Casual  Women    US 8       Navy     Canvas   \n",
       "4      Puma     Future Rider   Lifestyle  Women  US 7.5       Pink       Mesh   \n",
       "\n",
       "  Price (USD)  \n",
       "0    $170.00   \n",
       "1    $180.00   \n",
       "2     $75.00   \n",
       "3     $55.00   \n",
       "4     $80.00   "
      ]
     },
     "execution_count": 518,
     "metadata": {},
     "output_type": "execute_result"
    }
   ],
   "source": [
    "shoe.head()"
   ]
  },
  {
   "cell_type": "code",
   "execution_count": 519,
   "id": "11eafef5",
   "metadata": {},
   "outputs": [
    {
     "name": "stdout",
     "output_type": "stream",
     "text": [
      "\n",
      "Missing Values:\n",
      " Brand          0\n",
      "Model          0\n",
      "Type           0\n",
      "Gender         0\n",
      "Size           0\n",
      "Color          0\n",
      "Material       0\n",
      "Price (USD)    0\n",
      "dtype: int64\n"
     ]
    }
   ],
   "source": [
    "print(\"\\nMissing Values:\\n\", shoe.isnull().sum())"
   ]
  },
  {
   "cell_type": "code",
   "execution_count": 520,
   "id": "94213ca0",
   "metadata": {},
   "outputs": [
    {
     "name": "stdout",
     "output_type": "stream",
     "text": [
      "<class 'pandas.core.frame.DataFrame'>\n",
      "RangeIndex: 1006 entries, 0 to 1005\n",
      "Data columns (total 8 columns):\n",
      " #   Column       Non-Null Count  Dtype \n",
      "---  ------       --------------  ----- \n",
      " 0   Brand        1006 non-null   object\n",
      " 1   Model        1006 non-null   object\n",
      " 2   Type         1006 non-null   object\n",
      " 3   Gender       1006 non-null   object\n",
      " 4   Size         1006 non-null   object\n",
      " 5   Color        1006 non-null   object\n",
      " 6   Material     1006 non-null   object\n",
      " 7   Price (USD)  1006 non-null   object\n",
      "dtypes: object(8)\n",
      "memory usage: 63.0+ KB\n"
     ]
    }
   ],
   "source": [
    "shoe.info()"
   ]
  },
  {
   "cell_type": "markdown",
   "id": "392a9177",
   "metadata": {},
   "source": [
    "Size and Price column of the data set is numeric but it is object in the data set"
   ]
  },
  {
   "cell_type": "code",
   "execution_count": 521,
   "id": "59bbc94b",
   "metadata": {},
   "outputs": [
    {
     "data": {
      "text/plain": [
       "array(['US 10', 'US 9.5', 'US 11', 'US 8', 'US 7.5', 'US 8.5', 'US 6.5',\n",
       "       'US 10.5', 'US 9', 'US 7', 'US 6', 'US 11.5', 'US 12'],\n",
       "      dtype=object)"
      ]
     },
     "execution_count": 521,
     "metadata": {},
     "output_type": "execute_result"
    }
   ],
   "source": [
    "# converting the Size column from object to float\n",
    "shoe['Size'].unique()"
   ]
  },
  {
   "cell_type": "code",
   "execution_count": 522,
   "id": "0663a9e2",
   "metadata": {},
   "outputs": [],
   "source": [
    "# replacing the US into empty string\n",
    "shoe[\"Size\"] = shoe[\"Size\"].str.replace(\"US \",\"\")"
   ]
  },
  {
   "cell_type": "code",
   "execution_count": 523,
   "id": "8a7c595c",
   "metadata": {},
   "outputs": [],
   "source": [
    "# changing the data type into float because it has some decimal in it\n",
    "shoe[\"Size\"] = shoe[\"Size\"].astype(float)"
   ]
  },
  {
   "cell_type": "code",
   "execution_count": 524,
   "id": "90ab69cb",
   "metadata": {},
   "outputs": [
    {
     "name": "stdout",
     "output_type": "stream",
     "text": [
      "the data type of Size column is float64\n"
     ]
    }
   ],
   "source": [
    "print(f\"the data type of Size column is {shoe['Size'].dtype}\")"
   ]
  },
  {
   "cell_type": "code",
   "execution_count": 525,
   "id": "bc5d3b33",
   "metadata": {},
   "outputs": [],
   "source": [
    "# first of all changing the column name Price (USD) to Price \n",
    "shoe.rename(columns = {'Price (USD)':'Price'}, inplace = True)"
   ]
  },
  {
   "cell_type": "code",
   "execution_count": 526,
   "id": "9ef930aa",
   "metadata": {},
   "outputs": [
    {
     "data": {
      "text/plain": [
       "array(['$170.00 ', '$180.00 ', '$75.00 ', '$55.00 ', '$80.00 ', '$65.00 ',\n",
       "       '$175.00 ', '$160.00 ', '$110.00 ', '$150.00 ', '$70.00 ',\n",
       "       '$50.00 ', '$90.00 ', '$140.00 ', '$120.00 ', '$130.00 ',\n",
       "       '$85.00 ', '$60.00 ', '$100.00 ', '$35.00 ', '$165.00 ',\n",
       "       '$220.00 ', '$200.00 ', '$55 ', '$105.00 ', '$135.00 ', '$54.99 ',\n",
       "       '$250.00 ', '$25.00 ', '$89.99 ', '$59.00 ', '$125.00 ', '$95.00 '],\n",
       "      dtype=object)"
      ]
     },
     "execution_count": 526,
     "metadata": {},
     "output_type": "execute_result"
    }
   ],
   "source": [
    "# Now we will be converting the Price column from object to float\n",
    "shoe['Price'].unique()"
   ]
  },
  {
   "cell_type": "code",
   "execution_count": 527,
   "id": "2e8efc5f",
   "metadata": {},
   "outputs": [],
   "source": [
    "shoe[\"Price\"] = shoe[\"Price\"].str.replace(\"$\",\"\")\n",
    "shoe[\"Price\"] = shoe[\"Price\"].astype(float)"
   ]
  },
  {
   "cell_type": "code",
   "execution_count": 528,
   "id": "ec05fddc",
   "metadata": {},
   "outputs": [
    {
     "name": "stdout",
     "output_type": "stream",
     "text": [
      "<class 'pandas.core.frame.DataFrame'>\n",
      "RangeIndex: 1006 entries, 0 to 1005\n",
      "Data columns (total 8 columns):\n",
      " #   Column    Non-Null Count  Dtype  \n",
      "---  ------    --------------  -----  \n",
      " 0   Brand     1006 non-null   object \n",
      " 1   Model     1006 non-null   object \n",
      " 2   Type      1006 non-null   object \n",
      " 3   Gender    1006 non-null   object \n",
      " 4   Size      1006 non-null   float64\n",
      " 5   Color     1006 non-null   object \n",
      " 6   Material  1006 non-null   object \n",
      " 7   Price     1006 non-null   float64\n",
      "dtypes: float64(2), object(6)\n",
      "memory usage: 63.0+ KB\n"
     ]
    }
   ],
   "source": [
    "shoe.info()"
   ]
  },
  {
   "cell_type": "code",
   "execution_count": 529,
   "id": "64d16d0c",
   "metadata": {},
   "outputs": [
    {
     "data": {
      "text/html": [
       "<div>\n",
       "<style scoped>\n",
       "    .dataframe tbody tr th:only-of-type {\n",
       "        vertical-align: middle;\n",
       "    }\n",
       "\n",
       "    .dataframe tbody tr th {\n",
       "        vertical-align: top;\n",
       "    }\n",
       "\n",
       "    .dataframe thead th {\n",
       "        text-align: right;\n",
       "    }\n",
       "</style>\n",
       "<table border=\"1\" class=\"dataframe\">\n",
       "  <thead>\n",
       "    <tr style=\"text-align: right;\">\n",
       "      <th></th>\n",
       "      <th>Size</th>\n",
       "      <th>Price</th>\n",
       "    </tr>\n",
       "  </thead>\n",
       "  <tbody>\n",
       "    <tr>\n",
       "      <th>count</th>\n",
       "      <td>1006.000000</td>\n",
       "      <td>1006.000000</td>\n",
       "    </tr>\n",
       "    <tr>\n",
       "      <th>mean</th>\n",
       "      <td>8.912028</td>\n",
       "      <td>101.306143</td>\n",
       "    </tr>\n",
       "    <tr>\n",
       "      <th>std</th>\n",
       "      <td>1.449297</td>\n",
       "      <td>39.215451</td>\n",
       "    </tr>\n",
       "    <tr>\n",
       "      <th>min</th>\n",
       "      <td>6.000000</td>\n",
       "      <td>25.000000</td>\n",
       "    </tr>\n",
       "    <tr>\n",
       "      <th>25%</th>\n",
       "      <td>8.000000</td>\n",
       "      <td>70.000000</td>\n",
       "    </tr>\n",
       "    <tr>\n",
       "      <th>50%</th>\n",
       "      <td>9.000000</td>\n",
       "      <td>90.000000</td>\n",
       "    </tr>\n",
       "    <tr>\n",
       "      <th>75%</th>\n",
       "      <td>10.000000</td>\n",
       "      <td>130.000000</td>\n",
       "    </tr>\n",
       "    <tr>\n",
       "      <th>max</th>\n",
       "      <td>12.000000</td>\n",
       "      <td>250.000000</td>\n",
       "    </tr>\n",
       "  </tbody>\n",
       "</table>\n",
       "</div>"
      ],
      "text/plain": [
       "              Size        Price\n",
       "count  1006.000000  1006.000000\n",
       "mean      8.912028   101.306143\n",
       "std       1.449297    39.215451\n",
       "min       6.000000    25.000000\n",
       "25%       8.000000    70.000000\n",
       "50%       9.000000    90.000000\n",
       "75%      10.000000   130.000000\n",
       "max      12.000000   250.000000"
      ]
     },
     "execution_count": 529,
     "metadata": {},
     "output_type": "execute_result"
    }
   ],
   "source": [
    "shoe.describe()"
   ]
  },
  {
   "cell_type": "code",
   "execution_count": 530,
   "id": "c411461f",
   "metadata": {},
   "outputs": [
    {
     "name": "stdout",
     "output_type": "stream",
     "text": [
      "      Brand            Model    Type Gender  Size Color   Material  Price\n",
      "595  Adidas  Adilette Shower  Slides  Women   6.0  Pink  Synthetic   25.0\n",
      "\n",
      "    Brand                 Model     Type Gender  Size        Color Material  \\\n",
      "555  Nike  ZoomX Vaporfly Next%  Running    Men  10.0  Black/White     Mesh   \n",
      "\n",
      "     Price  \n",
      "555  250.0  \n"
     ]
    }
   ],
   "source": [
    "print(shoe[shoe[\"Price\"] ==25])\n",
    "print()\n",
    "print(shoe[shoe[\"Price\"] ==250])"
   ]
  },
  {
   "cell_type": "code",
   "execution_count": 531,
   "id": "d0127d51",
   "metadata": {},
   "outputs": [
    {
     "data": {
      "text/plain": [
       "0            Air Jordan 1\n",
       "1          Ultra Boost 21\n",
       "2         Classic Leather\n",
       "3            Chuck Taylor\n",
       "4            Future Rider\n",
       "              ...        \n",
       "1001    Fresh Foam 880v11\n",
       "1002      Gel-Kayano Lite\n",
       "1003             Venom 94\n",
       "1004              Summits\n",
       "1005           Air Max 97\n",
       "Name: Model, Length: 1006, dtype: object"
      ]
     },
     "execution_count": 531,
     "metadata": {},
     "output_type": "execute_result"
    }
   ],
   "source": [
    "shoe[\"Model\"]"
   ]
  },
  {
   "cell_type": "markdown",
   "id": "4456ba40",
   "metadata": {},
   "source": [
    "#### Insights:\n",
    "##### Brand: In the Brand, it has number of shoes name brand like Adidas, Nike etc.\n",
    "\n",
    "##### Model: It is has the Model name of the Shoe.\n",
    "\n",
    "##### Type: It is the type of the shoe like Running, Slides etc.\n",
    "\n",
    "##### Gender: It is the categorical column that has men and woman in their column.\n",
    "\n",
    "##### Size: It is numerical column that has the size of the shoe.\n",
    "\n",
    "##### Color: It is the color of the shoe.\n",
    "\n",
    "##### Material: It is the material of the shoe that is used to made that specific shoe.\n",
    "\n",
    "##### Price: It is the price of the shoe. the highest price is 250$. It is also numerical column."
   ]
  },
  {
   "cell_type": "markdown",
   "id": "21590906",
   "metadata": {},
   "source": [
    "## Visualizations:\n"
   ]
  },
  {
   "cell_type": "code",
   "execution_count": 532,
   "id": "62a15b02",
   "metadata": {},
   "outputs": [
    {
     "data": {
      "text/plain": [
       "Index(['Brand', 'Model', 'Type', 'Gender', 'Size', 'Color', 'Material',\n",
       "       'Price'],\n",
       "      dtype='object')"
      ]
     },
     "execution_count": 532,
     "metadata": {},
     "output_type": "execute_result"
    }
   ],
   "source": [
    "shoe.columns"
   ]
  },
  {
   "cell_type": "code",
   "execution_count": 533,
   "id": "5b0ad709",
   "metadata": {},
   "outputs": [
    {
     "data": {
      "text/plain": [
       "<Axes: xlabel='Brand', ylabel='Count'>"
      ]
     },
     "execution_count": 533,
     "metadata": {},
     "output_type": "execute_result"
    },
    {
     "data": {
      "image/png": "[encoded data removed]",
      "text/plain": [
       "<Figure size 1200x600 with 1 Axes>"
      ]
     },
     "metadata": {},
     "output_type": "display_data"
    }
   ],
   "source": [
    "plt.figure(figsize=(12, 6))\n",
    "sns.histplot(shoe , x = 'Brand', hue='Brand', multiple='stack', bins=20)"
   ]
  },
  {
   "cell_type": "markdown",
   "id": "7216a56c",
   "metadata": {},
   "source": [
    "#### Nike has the highest number of entries in the dataset. but all the Shoe brand have same entries in the data. There is such difference in it."
   ]
  },
  {
   "cell_type": "code",
   "execution_count": 534,
   "id": "6cdca027",
   "metadata": {},
   "outputs": [
    {
     "data": {
      "text/plain": [
       "Text(0.5, 1.0, 'Shoe Prices')"
      ]
     },
     "execution_count": 534,
     "metadata": {},
     "output_type": "execute_result"
    },
    {
     "data": {
      "image/png": "[encoded data removed]",
      "text/plain": [
       "<Figure size 1200x600 with 1 Axes>"
      ]
     },
     "metadata": {},
     "output_type": "display_data"
    }
   ],
   "source": [
    "plt.figure(figsize=(12, 6))\n",
    "sns.barplot( shoe,x= 'Brand', y= 'Price',hue='Brand')\n",
    "\n",
    "# Customize the plot\n",
    "plt.xlabel('Shoe')\n",
    "plt.ylabel('Price')\n",
    "plt.title('Shoe Prices')"
   ]
  },
  {
   "cell_type": "code",
   "execution_count": null,
   "id": "3e0ca2bf",
   "metadata": {},
   "outputs": [],
   "source": []
  },
  {
   "cell_type": "markdown",
   "id": "c8376f62",
   "metadata": {},
   "source": [
    "#### The Adidas has the highest price of shoes in the data set. the second one is Asics, the third one is Nike."
   ]
  },
  {
   "cell_type": "code",
   "execution_count": 536,
   "id": "dffb0d5c",
   "metadata": {},
   "outputs": [],
   "source": [
    "contigency = pd.crosstab(shoe['Gender']  , shoe['Color'] )"
   ]
  },
  {
   "cell_type": "code",
   "execution_count": 537,
   "id": "e1ca3122",
   "metadata": {},
   "outputs": [
    {
     "data": {
      "text/html": [
       "<div>\n",
       "<style scoped>\n",
       "    .dataframe tbody tr th:only-of-type {\n",
       "        vertical-align: middle;\n",
       "    }\n",
       "\n",
       "    .dataframe tbody tr th {\n",
       "        vertical-align: top;\n",
       "    }\n",
       "\n",
       "    .dataframe thead th {\n",
       "        text-align: right;\n",
       "    }\n",
       "</style>\n",
       "<table border=\"1\" class=\"dataframe\">\n",
       "  <thead>\n",
       "    <tr style=\"text-align: right;\">\n",
       "      <th>Color</th>\n",
       "      <th>Beige</th>\n",
       "      <th>Black</th>\n",
       "      <th>Black/Blue</th>\n",
       "      <th>Black/Gold</th>\n",
       "      <th>Black/Gold/Red</th>\n",
       "      <th>Black/Green</th>\n",
       "      <th>Black/Grey</th>\n",
       "      <th>Black/Gum</th>\n",
       "      <th>Black/Pink</th>\n",
       "      <th>Black/Red</th>\n",
       "      <th>...</th>\n",
       "      <th>White/Grey</th>\n",
       "      <th>White/Navy</th>\n",
       "      <th>White/Navy/Red</th>\n",
       "      <th>White/Pink</th>\n",
       "      <th>White/Red</th>\n",
       "      <th>White/Red/Blue</th>\n",
       "      <th>White/Red/Navy</th>\n",
       "      <th>Yellow</th>\n",
       "      <th>Yellow/Black</th>\n",
       "      <th>Zebra</th>\n",
       "    </tr>\n",
       "    <tr>\n",
       "      <th>Gender</th>\n",
       "      <th></th>\n",
       "      <th></th>\n",
       "      <th></th>\n",
       "      <th></th>\n",
       "      <th></th>\n",
       "      <th></th>\n",
       "      <th></th>\n",
       "      <th></th>\n",
       "      <th></th>\n",
       "      <th></th>\n",
       "      <th></th>\n",
       "      <th></th>\n",
       "      <th></th>\n",
       "      <th></th>\n",
       "      <th></th>\n",
       "      <th></th>\n",
       "      <th></th>\n",
       "      <th></th>\n",
       "      <th></th>\n",
       "      <th></th>\n",
       "      <th></th>\n",
       "    </tr>\n",
       "  </thead>\n",
       "  <tbody>\n",
       "    <tr>\n",
       "      <th>Men</th>\n",
       "      <td>2</td>\n",
       "      <td>114</td>\n",
       "      <td>1</td>\n",
       "      <td>2</td>\n",
       "      <td>0</td>\n",
       "      <td>2</td>\n",
       "      <td>9</td>\n",
       "      <td>1</td>\n",
       "      <td>0</td>\n",
       "      <td>7</td>\n",
       "      <td>...</td>\n",
       "      <td>2</td>\n",
       "      <td>9</td>\n",
       "      <td>6</td>\n",
       "      <td>0</td>\n",
       "      <td>5</td>\n",
       "      <td>1</td>\n",
       "      <td>2</td>\n",
       "      <td>3</td>\n",
       "      <td>0</td>\n",
       "      <td>1</td>\n",
       "    </tr>\n",
       "    <tr>\n",
       "      <th>Women</th>\n",
       "      <td>2</td>\n",
       "      <td>64</td>\n",
       "      <td>0</td>\n",
       "      <td>1</td>\n",
       "      <td>1</td>\n",
       "      <td>0</td>\n",
       "      <td>3</td>\n",
       "      <td>0</td>\n",
       "      <td>15</td>\n",
       "      <td>0</td>\n",
       "      <td>...</td>\n",
       "      <td>4</td>\n",
       "      <td>3</td>\n",
       "      <td>0</td>\n",
       "      <td>7</td>\n",
       "      <td>1</td>\n",
       "      <td>0</td>\n",
       "      <td>0</td>\n",
       "      <td>5</td>\n",
       "      <td>1</td>\n",
       "      <td>0</td>\n",
       "    </tr>\n",
       "  </tbody>\n",
       "</table>\n",
       "<p>2 rows × 82 columns</p>\n",
       "</div>"
      ],
      "text/plain": [
       "Color   Beige  Black  Black/Blue  Black/Gold  Black/Gold/Red  Black/Green  \\\n",
       "Gender                                                                      \n",
       "Men         2    114           1           2               0            2   \n",
       "Women       2     64           0           1               1            0   \n",
       "\n",
       "Color   Black/Grey  Black/Gum  Black/Pink  Black/Red  ...  White/Grey  \\\n",
       "Gender                                                ...               \n",
       "Men              9          1           0          7  ...           2   \n",
       "Women            3          0          15          0  ...           4   \n",
       "\n",
       "Color   White/Navy  White/Navy/Red  White/Pink  White/Red  White/Red/Blue  \\\n",
       "Gender                                                                      \n",
       "Men              9               6           0          5               1   \n",
       "Women            3               0           7          1               0   \n",
       "\n",
       "Color   White/Red/Navy  Yellow  Yellow/Black  Zebra  \n",
       "Gender                                               \n",
       "Men                  2       3             0      1  \n",
       "Women                0       5             1      0  \n",
       "\n",
       "[2 rows x 82 columns]"
      ]
     },
     "execution_count": 537,
     "metadata": {},
     "output_type": "execute_result"
    }
   ],
   "source": [
    "contigency"
   ]
  },
  {
   "cell_type": "code",
   "execution_count": 538,
   "id": "6b5ce95d",
   "metadata": {},
   "outputs": [
    {
     "data": {
      "text/plain": [
       "Color\n",
       "Black              178\n",
       "White              139\n",
       "Grey               101\n",
       "Black/White        100\n",
       "Pink                64\n",
       "                  ... \n",
       "Brown                1\n",
       "Green/Black          1\n",
       "Clay Brown           1\n",
       "Natural Ivory        1\n",
       "Collegiate Navy      1\n",
       "Name: count, Length: 82, dtype: int64"
      ]
     },
     "execution_count": 538,
     "metadata": {},
     "output_type": "execute_result"
    }
   ],
   "source": [
    "shoe['Color'].value_counts().sort_values(ascending=False)"
   ]
  },
  {
   "cell_type": "markdown",
   "id": "d0cd047d",
   "metadata": {},
   "source": [
    "#### Black and white color of the shoes is the most common color of the shoes in both Genders."
   ]
  },
  {
   "cell_type": "code",
   "execution_count": 539,
   "id": "8fc3520b",
   "metadata": {},
   "outputs": [
    {
     "data": {
      "text/plain": [
       "Gender\n",
       "Men      54878.99\n",
       "Women    47034.99\n",
       "Name: Price, dtype: float64"
      ]
     },
     "execution_count": 539,
     "metadata": {},
     "output_type": "execute_result"
    }
   ],
   "source": [
    "shoe.groupby(shoe['Gender'])['Price'].sum()"
   ]
  },
  {
   "cell_type": "markdown",
   "id": "9861bb04",
   "metadata": {},
   "source": [
    "#### There is no significance difference in purchases done by both genders. this show that Not only man loves shoes to wear but the woman too."
   ]
  },
  {
   "cell_type": "code",
   "execution_count": 540,
   "id": "24e6e9ba",
   "metadata": {},
   "outputs": [
    {
     "data": {
      "text/plain": [
       "np.float64(8.912027833001988)"
      ]
     },
     "execution_count": 540,
     "metadata": {},
     "output_type": "execute_result"
    }
   ],
   "source": [
    "shoe['Size'].mean()"
   ]
  },
  {
   "cell_type": "markdown",
   "id": "ea74ab87",
   "metadata": {},
   "source": [
    "#### The most common shoe size is 8.9. It is the most common shoe size choose by both gender.\n",
    "\n"
   ]
  },
  {
   "cell_type": "code",
   "execution_count": 541,
   "id": "18c19378",
   "metadata": {},
   "outputs": [
    {
     "data": {
      "text/plain": [
       "Price  Size\n",
       "25.0   6.0     1\n",
       "35.0   6.0     2\n",
       "50.0   9.5     8\n",
       "       8.5     7\n",
       "       6.5     5\n",
       "              ..\n",
       "220.0  11.0    2\n",
       "       7.0     1\n",
       "       7.5     1\n",
       "       8.0     1\n",
       "250.0  10.0    1\n",
       "Name: count, Length: 231, dtype: int64"
      ]
     },
     "execution_count": 541,
     "metadata": {},
     "output_type": "execute_result"
    }
   ],
   "source": [
    "shoe.groupby('Price')['Size'].value_counts()"
   ]
  },
  {
   "cell_type": "code",
   "execution_count": 542,
   "id": "f539f71b",
   "metadata": {},
   "outputs": [
    {
     "data": {
      "text/plain": [
       "<Axes: xlabel='Size', ylabel='Price'>"
      ]
     },
     "execution_count": 542,
     "metadata": {},
     "output_type": "execute_result"
    },
    {
     "data": {
      "image/png": "[encoded data removed]",
      "text/plain": [
       "<Figure size 640x480 with 1 Axes>"
      ]
     },
     "metadata": {},
     "output_type": "display_data"
    }
   ],
   "source": [
    "sns.scatterplot(shoe, x='Size' , y='Price')"
   ]
  },
  {
   "cell_type": "code",
   "execution_count": 543,
   "id": "7f627be0",
   "metadata": {},
   "outputs": [
    {
     "data": {
      "application/vnd.plotly.v1+json": {
       "config": {
        "plotlyServerURL": "https://plot.ly"
       },
       "data": [
        {
         "hovertemplate": "Size=%{x}<br>Price=%{y}<extra></extra>",
         "legendgroup": "",
         "marker": {
          "color": "#636efa",
          "symbol": "circle"
         },
         "mode": "markers",
         "name": "",
         "showlegend": false,
         "type": "scattergl",
         "x": [
          10,
          9.5,
          11,
          8,
          7.5,
          8.5,
          6.5,
          10.5,
          9,
          9,
          7,
          9,
          8.5,
          10,
          9.5,
          6,
          11.5,
          8,
          10,
          7.5,
          10,
          8.5,
          11,
          7.5,
          9.5,
          8,
          10,
          9,
          8.5,
          7,
          9,
          7.5,
          10,
          9,
          9,
          7,
          9,
          8.5,
          9.5,
          7.5,
          11,
          9,
          9.5,
          10,
          8.5,
          8,
          7.5,
          7,
          11,
          8,
          10,
          6,
          10.5,
          7.5,
          9.5,
          6.5,
          12,
          7,
          9.5,
          9,
          11,
          7,
          9,
          8.5,
          10,
          7,
          8,
          11,
          8.5,
          8.5,
          6,
          10,
          7.5,
          9,
          9,
          9.5,
          7,
          10.5,
          7,
          10,
          7.5,
          10,
          8.5,
          7.5,
          9,
          11,
          6,
          10,
          8,
          9.5,
          7,
          9.5,
          12,
          7.5,
          8,
          10.5,
          7,
          6.5,
          11,
          8,
          9,
          8.5,
          7.5,
          8.5,
          6.5,
          9,
          9.5,
          10,
          9.5,
          8.5,
          11,
          7,
          11,
          8.5,
          9.5,
          6,
          9.5,
          7.5,
          10,
          9,
          10,
          8,
          11,
          8,
          9.5,
          7.5,
          10,
          9,
          9.5,
          7.5,
          8,
          6.5,
          11,
          8,
          10.5,
          8,
          8,
          7.5,
          11,
          9,
          9.5,
          8.5,
          11,
          8.5,
          9,
          7,
          10,
          9,
          10.5,
          7.5,
          11,
          7.5,
          9.5,
          7.5,
          10,
          8.5,
          9.5,
          6.5,
          11,
          9.5,
          10,
          8.5,
          11,
          9.5,
          11.5,
          8.5,
          9,
          10,
          7.5,
          10,
          8,
          9,
          7,
          8.5,
          7.5,
          11.5,
          9.5,
          9.5,
          6.5,
          10,
          9,
          10.5,
          8.5,
          10,
          8,
          9.5,
          6.5,
          11,
          7.5,
          10,
          9,
          10,
          8,
          10,
          7,
          10.5,
          9,
          9,
          8.5,
          12,
          8.5,
          11,
          7,
          9.5,
          7.5,
          11.5,
          8.5,
          8.5,
          10,
          9,
          10.5,
          7,
          9.5,
          8.5,
          9,
          11,
          8.5,
          8.5,
          7,
          9,
          8.5,
          10,
          11,
          8,
          9.5,
          7,
          10.5,
          6,
          8.5,
          7.5,
          9,
          9,
          12,
          6,
          10,
          8,
          8.5,
          7,
          9.5,
          9,
          11,
          8.5,
          10.5,
          11,
          9,
          10,
          7.5,
          10.5,
          9,
          9.5,
          8,
          11,
          6.5,
          12,
          8.5,
          9,
          12,
          9,
          8.5,
          7.5,
          11,
          7,
          8,
          11,
          8.5,
          9.5,
          7,
          10,
          6.5,
          7,
          8,
          7.5,
          11,
          12,
          9.5,
          10,
          9.5,
          8.5,
          10.5,
          12,
          6.5,
          11,
          8.5,
          8.5,
          9.5,
          7,
          10,
          8.5,
          8.5,
          9.5,
          7,
          11,
          8,
          7.5,
          10,
          6.5,
          9,
          8.5,
          11,
          7,
          10.5,
          9,
          9,
          8,
          9,
          9.5,
          7.5,
          11,
          8.5,
          8,
          10,
          6.5,
          10,
          7.5,
          9,
          8,
          8.5,
          7,
          9,
          10,
          6.5,
          9.5,
          8.5,
          9.5,
          7.5,
          9,
          7,
          11,
          8,
          10.5,
          7,
          10,
          8,
          9,
          8.5,
          7.5,
          10,
          8,
          11,
          6.5,
          9.5,
          7.5,
          9.5,
          8.5,
          12,
          9,
          11,
          8.5,
          12,
          7,
          8.5,
          9,
          10.5,
          7,
          9.5,
          6.5,
          9,
          6.5,
          11,
          7.5,
          10,
          8.5,
          10,
          9,
          11,
          7.5,
          9.5,
          9,
          8.5,
          11,
          10,
          7,
          8.5,
          7.5,
          9,
          6.5,
          10,
          6,
          9.5,
          7.5,
          11,
          8,
          12,
          9,
          9.5,
          8.5,
          7,
          9,
          9.5,
          11,
          7.5,
          10,
          8.5,
          10.5,
          6,
          9.5,
          6.5,
          10.5,
          8.5,
          8.5,
          8,
          9,
          7.5,
          9.5,
          7.5,
          9.5,
          7,
          8,
          8.5,
          10,
          6.5,
          11.5,
          9.5,
          9.5,
          8,
          11.5,
          7.5,
          10,
          6,
          8.5,
          7,
          9,
          8,
          11,
          11,
          8,
          10.5,
          7.5,
          10.5,
          9,
          9.5,
          7.5,
          9,
          8.5,
          11,
          7,
          9.5,
          6.5,
          11,
          8.5,
          10,
          8,
          8.5,
          7.5,
          10,
          9,
          8.5,
          10.5,
          7,
          11,
          9.5,
          9.5,
          6,
          8.5,
          7,
          8,
          7,
          11,
          9,
          9,
          9.5,
          7,
          12,
          8,
          11,
          7,
          10,
          8.5,
          8.5,
          9,
          7,
          9,
          7.5,
          11,
          8,
          9.5,
          9,
          8.5,
          7.5,
          9.5,
          8.5,
          10,
          6,
          10,
          7.5,
          9.5,
          7.5,
          10,
          8.5,
          8,
          7.5,
          9.5,
          8,
          10,
          7.5,
          10,
          8.5,
          11,
          7.5,
          9.5,
          8.5,
          7,
          9.5,
          8,
          11,
          11,
          10,
          9,
          9,
          9.5,
          7,
          8,
          7.5,
          11,
          8,
          9.5,
          6.5,
          10,
          7,
          10.5,
          8.5,
          7.5,
          11.5,
          8.5,
          9,
          9,
          11,
          6.5,
          9.5,
          8,
          10,
          7,
          12,
          7.5,
          11,
          9,
          10,
          8.5,
          8.5,
          9,
          9,
          8,
          9.5,
          9,
          10,
          9.5,
          8,
          10,
          7.5,
          11,
          7.5,
          8,
          9,
          9.5,
          6.5,
          10,
          7.5,
          11.5,
          6.5,
          10,
          8,
          9.5,
          7,
          8.5,
          11,
          8,
          10.5,
          7,
          12,
          7.5,
          9.5,
          9,
          9.5,
          7,
          10,
          8.5,
          9,
          11.5,
          6.5,
          8.5,
          8,
          10.5,
          7,
          12,
          9,
          8.5,
          12,
          6.5,
          10,
          7.5,
          9.5,
          7.5,
          11,
          8,
          10.5,
          6,
          11,
          7.5,
          8,
          9,
          8.5,
          6.5,
          12,
          8,
          11,
          12,
          8,
          11,
          7.5,
          10.5,
          9.5,
          9.5,
          8,
          8.5,
          7,
          10,
          7,
          12,
          8.5,
          9.5,
          8,
          8,
          7,
          10.5,
          9.5,
          10.5,
          8.5,
          11,
          7,
          6.5,
          9.5,
          7.5,
          9.5,
          9.5,
          8.5,
          6.5,
          11,
          8.5,
          9,
          7,
          10.5,
          9,
          10,
          7,
          8.5,
          9.5,
          11,
          7.5,
          8,
          8,
          10,
          12,
          9.5,
          9,
          7.5,
          11,
          8,
          9.5,
          6.5,
          8,
          7.5,
          10.5,
          7.5,
          10,
          9,
          11,
          9,
          10.5,
          7.5,
          10,
          8.5,
          9,
          8.5,
          11,
          7.5,
          10,
          8.5,
          9.5,
          6,
          11.5,
          8.5,
          7.5,
          11.5,
          8.5,
          9,
          8.5,
          10,
          7,
          9,
          11,
          7.5,
          9,
          8.5,
          10,
          8,
          10,
          7.5,
          11,
          8.5,
          9,
          6.5,
          9.5,
          9,
          7,
          9,
          9.5,
          11,
          8.5,
          9.5,
          7.5,
          10,
          6.5,
          9.5,
          8.5,
          10.5,
          7.5,
          11.5,
          8,
          12,
          9,
          9.5,
          7,
          10.5,
          7.5,
          11,
          12,
          7,
          11,
          9,
          10.5,
          8,
          9.5,
          8.5,
          10,
          7,
          10.5,
          8.5,
          12,
          7,
          8.5,
          9.5,
          9.5,
          9,
          7,
          10.5,
          11,
          8,
          10.5,
          7.5,
          8.5,
          9,
          9,
          9.5,
          7.5,
          12,
          7.5,
          11,
          9,
          7,
          10,
          6.5,
          12,
          8.5,
          9,
          7.5,
          11,
          8,
          8.5,
          9.5,
          6.5,
          10.5,
          9,
          10,
          8,
          9,
          7.5,
          9,
          7.5,
          10,
          8,
          9.5,
          11,
          6.5,
          8.5,
          9,
          7,
          10,
          8.5,
          9.5,
          8.5,
          8.5,
          11,
          7,
          9,
          8.5,
          11,
          7.5,
          9,
          6,
          8,
          9,
          10,
          8.5,
          9.5,
          7.5,
          11,
          8.5,
          9,
          12,
          7.5,
          9,
          7.5,
          12,
          9.5,
          10,
          8,
          10.5,
          7,
          8.5,
          7.5,
          10,
          8.5,
          11.5,
          8,
          9,
          7.5,
          10,
          7.5,
          11.5,
          8.5,
          9.5,
          9,
          7.5,
          10,
          9,
          10.5,
          8,
          10,
          7,
          11,
          7.5,
          8.5,
          8.5,
          9.5,
          8,
          9.5,
          9,
          7,
          11.5,
          8.5,
          10.5,
          8,
          8,
          10,
          7,
          9.5,
          6.5,
          9.5,
          8,
          9,
          7,
          10,
          11.5,
          8.5,
          11,
          7.5,
          11,
          7,
          10.5,
          8.5,
          9,
          7.5,
          9,
          7,
          11,
          8,
          12,
          6,
          9.5,
          9,
          10,
          6.5,
          11,
          8,
          10,
          7,
          10.5,
          7,
          10.5,
          8.5,
          11.5,
          9,
          9,
          7,
          9,
          8,
          8,
          8.5,
          9.5,
          6.5,
          12,
          7.5,
          8,
          8.5,
          10,
          9,
          9.5,
          11,
          8,
          10.5,
          9.5,
          9,
          10,
          7.5,
          9.5,
          7.5,
          8,
          6.5,
          11.5,
          8.5,
          9,
          7,
          9.5,
          8.5,
          10,
          8.5,
          11,
          8,
          10.5,
          9.5,
          9,
          10,
          7.5,
          9.5,
          7.5,
          8,
          6.5,
          11.5,
          8.5,
          9,
          7,
          9.5,
          8.5,
          10,
          8.5,
          11,
          7.5,
          9.5,
          9.5,
          10,
          8,
          6.5,
          11.5,
          8,
          7.5,
          9.5,
          8.5,
          10,
          9.5,
          7.5,
          9,
          9,
          9,
          7.5,
          11,
          8,
          11,
          8.5,
          9.5,
          7,
          10,
          9,
          8.5,
          7.5,
          11,
          6.5,
          12,
          7.5,
          10.5,
          8,
          8.5,
          6,
          10,
          9,
          12,
          9,
          8,
          10.5,
          8.5,
          7,
          10.5,
          9,
          9.5,
          8.5,
          11,
          8.5,
          8.5,
          7.5,
          7,
          6,
          9.5,
          10,
          9.5,
          7.5,
          8,
          7.5
         ],
         "xaxis": "x",
         "y": [
          170,
          180,
          75,
          55,
          80,
          65,
          175,
          160,
          65,
          110,
          150,
          80,
          70,
          75,
          110,
          50,
          150,
          150,
          70,
          70,
          90,
          140,
          120,
          65,
          80,
          70,
          90,
          120,
          75,
          65,
          150,
          170,
          130,
          85,
          90,
          50,
          80,
          160,
          65,
          60,
          90,
          140,
          120,
          65,
          65,
          70,
          100,
          160,
          70,
          60,
          100,
          35,
          130,
          85,
          130,
          55,
          165,
          120,
          75,
          50,
          90,
          130,
          130,
          85,
          130,
          70,
          150,
          170,
          65,
          90,
          120,
          220,
          65,
          65,
          120,
          50,
          100,
          120,
          60,
          65,
          85,
          90,
          140,
          130,
          65,
          120,
          70,
          80,
          100,
          75,
          75,
          160,
          80,
          65,
          85,
          80,
          55,
          100,
          170,
          65,
          60,
          200,
          160,
          80,
          120,
          85,
          90,
          70,
          175,
          70,
          75,
          60,
          120,
          180,
          80,
          65,
          110,
          50,
          80,
          120,
          60,
          80,
          90,
          140,
          130,
          65,
          90,
          65,
          130,
          180,
          65,
          60,
          180,
          180,
          60,
          110,
          65,
          50,
          165,
          90,
          60,
          55,
          90,
          130,
          120,
          85,
          130,
          65,
          80,
          70,
          75,
          90,
          100,
          85,
          70,
          65,
          140,
          50,
          120,
          70,
          70,
          65,
          150,
          160,
          140,
          90,
          70,
          100,
          65,
          90,
          120,
          85,
          105,
          100,
          180,
          60,
          75,
          130,
          65,
          165,
          180,
          75,
          70,
          100,
          140,
          130,
          65,
          80,
          70,
          100,
          75,
          60,
          70,
          150,
          180,
          100,
          85,
          130,
          50,
          120,
          160,
          75,
          60,
          100,
          80,
          120,
          70,
          65,
          70,
          165,
          160,
          75,
          70,
          90,
          130,
          75,
          85,
          120,
          50,
          100,
          120,
          75,
          90,
          140,
          130,
          60,
          90,
          70,
          100,
          120,
          70,
          75,
          160,
          35,
          65,
          85,
          110,
          55,
          175,
          120,
          65,
          70,
          120,
          90,
          220,
          130,
          65,
          130,
          70,
          135,
          120,
          65,
          65,
          120,
          130,
          100,
          85,
          90,
          50,
          130,
          120,
          65,
          60,
          90,
          140,
          110,
          65,
          90,
          70,
          110,
          85,
          65,
          85,
          150,
          85,
          130,
          80,
          110,
          50,
          165,
          90,
          65,
          60,
          100,
          90,
          140,
          130,
          85,
          130,
          70,
          80,
          120,
          65,
          90,
          130,
          120,
          120,
          110,
          80,
          55,
          175,
          160,
          70,
          65,
          150,
          90,
          130,
          120,
          85,
          90,
          70,
          90,
          90,
          65,
          65,
          160,
          85,
          130,
          100,
          120,
          50,
          100,
          180,
          60,
          60,
          90,
          140,
          120,
          85,
          130,
          70,
          175,
          150,
          60,
          90,
          100,
          80,
          65,
          120,
          120,
          50,
          165,
          120,
          70,
          65,
          160,
          90,
          220,
          120,
          85,
          80,
          70,
          130,
          80,
          65,
          65,
          160,
          130,
          80,
          65,
          130,
          50,
          135,
          120,
          65,
          60,
          160,
          180,
          130,
          75,
          90,
          65,
          90,
          120,
          80,
          54.99,
          100,
          130,
          200,
          110,
          90,
          50,
          150,
          150,
          75,
          120,
          130,
          130,
          110,
          65,
          65,
          80,
          150,
          65,
          60,
          90,
          220,
          200,
          85,
          110,
          50,
          100,
          160,
          60,
          70,
          100,
          140,
          100,
          65,
          90,
          70,
          130,
          120,
          75,
          60,
          170,
          150,
          80,
          85,
          80,
          50,
          165,
          120,
          60,
          90,
          140,
          120,
          65,
          130,
          70,
          165,
          120,
          70,
          65,
          170,
          80,
          90,
          65,
          80,
          55,
          130,
          80,
          65,
          65,
          160,
          90,
          220,
          130,
          65,
          100,
          70,
          130,
          170,
          75,
          110,
          120,
          140,
          130,
          55,
          80,
          50,
          120,
          160,
          65,
          90,
          220,
          130,
          60,
          100,
          70,
          90,
          120,
          75,
          90,
          160,
          180,
          90,
          70,
          110,
          50,
          130,
          160,
          70,
          65,
          150,
          160,
          130,
          130,
          100,
          110,
          70,
          90,
          160,
          75,
          60,
          100,
          80,
          60,
          85,
          90,
          55,
          130,
          120,
          85,
          60,
          90,
          220,
          120,
          85,
          130,
          70,
          80,
          170,
          75,
          60,
          160,
          180,
          130,
          65,
          120,
          50,
          110,
          160,
          60,
          55,
          160,
          100,
          220,
          130,
          65,
          120,
          70,
          85,
          90,
          70,
          70,
          120,
          140,
          100,
          85,
          130,
          55,
          130,
          160,
          65,
          160,
          140,
          130,
          65,
          120,
          50,
          100,
          120,
          70,
          90,
          250,
          220,
          90,
          85,
          80,
          65,
          165,
          160,
          65,
          90,
          130,
          130,
          65,
          130,
          65,
          90,
          110,
          60,
          100,
          120,
          130,
          120,
          85,
          120,
          50,
          165,
          170,
          75,
          65,
          100,
          180,
          65,
          85,
          90,
          70,
          160,
          120,
          70,
          70,
          150,
          25,
          130,
          75,
          65,
          50,
          130,
          75,
          65,
          85,
          160,
          90,
          220,
          130,
          65,
          100,
          70,
          89.99,
          120,
          75,
          60,
          85,
          180,
          90,
          75,
          65,
          50,
          110,
          160,
          60,
          60,
          90,
          140,
          130,
          85,
          80,
          70,
          165,
          120,
          70,
          70,
          120,
          80,
          65,
          70,
          65,
          55,
          80,
          70,
          70,
          70,
          90,
          220,
          90,
          65,
          80,
          55,
          100,
          160,
          65,
          90,
          160,
          130,
          65,
          85,
          80,
          65,
          150,
          140,
          60,
          60,
          90,
          220,
          150,
          75,
          100,
          50,
          100,
          150,
          75,
          65,
          160,
          180,
          130,
          75,
          130,
          70,
          80,
          120,
          65,
          65,
          90,
          220,
          130,
          55,
          120,
          65,
          90,
          180,
          75,
          60,
          120,
          140,
          90,
          85,
          110,
          50,
          130,
          180,
          75,
          65,
          100,
          90,
          220,
          120,
          65,
          100,
          70,
          80,
          120,
          75,
          70,
          150,
          180,
          75,
          85,
          65,
          55,
          100,
          180,
          70,
          90,
          140,
          130,
          65,
          130,
          65,
          90,
          160,
          75,
          90,
          180,
          130,
          60,
          85,
          65,
          50,
          90,
          75,
          70,
          60,
          90,
          140,
          130,
          65,
          90,
          65,
          160,
          85,
          65,
          65,
          150,
          180,
          200,
          100,
          90,
          50,
          80,
          150,
          170,
          140,
          130,
          65,
          100,
          70,
          100,
          180,
          70,
          90,
          160,
          220,
          65,
          85,
          130,
          55,
          80,
          70,
          65,
          60,
          90,
          90,
          130,
          120,
          75,
          90,
          70,
          130,
          80,
          75,
          65,
          120,
          220,
          65,
          85,
          65,
          50,
          120,
          160,
          75,
          90,
          120,
          170,
          80,
          120,
          85,
          90,
          70,
          80,
          160,
          75,
          59,
          90,
          140,
          130,
          65,
          130,
          50,
          100,
          120,
          65,
          125,
          120,
          100,
          140,
          130,
          65,
          120,
          65,
          100,
          120,
          80,
          60,
          90,
          85,
          60,
          85,
          130,
          50,
          80,
          120,
          95,
          70,
          90,
          140,
          130,
          85,
          65,
          70,
          90,
          80,
          75,
          80,
          160,
          180,
          120,
          65,
          90,
          50,
          135,
          160,
          75,
          60,
          90,
          130,
          130,
          65,
          130,
          70,
          100,
          180,
          75,
          95,
          100,
          180,
          65,
          85,
          120,
          50,
          110,
          70,
          70,
          80,
          160,
          160,
          85,
          130,
          85,
          80,
          65,
          90,
          80,
          70,
          60,
          90,
          130,
          100,
          120,
          110,
          50,
          130,
          160,
          65,
          60,
          90,
          130,
          130,
          85,
          90,
          70,
          90,
          160,
          75,
          65,
          120,
          180,
          80,
          65,
          130,
          50,
          90,
          150,
          75,
          90,
          130,
          130,
          85,
          90,
          70,
          90,
          160,
          75,
          65,
          120,
          180,
          80,
          65,
          130,
          50,
          90,
          150,
          75,
          90,
          130,
          130,
          85,
          120,
          70,
          100,
          120,
          75,
          90,
          120,
          85,
          65,
          65,
          110,
          50,
          130,
          160,
          75,
          65,
          170,
          90,
          220,
          130,
          85,
          80,
          70,
          130,
          120,
          65,
          90,
          120,
          80,
          65,
          65,
          65,
          50,
          135,
          75,
          65,
          90,
          140,
          130,
          70,
          80,
          70,
          130,
          150,
          80,
          65,
          160,
          180,
          90,
          85,
          90,
          50,
          130,
          160,
          70,
          55,
          170
         ],
         "yaxis": "y"
        }
       ],
       "layout": {
        "legend": {
         "tracegroupgap": 0
        },
        "margin": {
         "t": 60
        },
        "template": {
         "data": {
          "bar": [
           {
            "error_x": {
             "color": "#2a3f5f"
            },
            "error_y": {
             "color": "#2a3f5f"
            },
            "marker": {
             "line": {
              "color": "#E5ECF6",
              "width": 0.5
             },
             "pattern": {
              "fillmode": "overlay",
              "size": 10,
              "solidity": 0.2
             }
            },
            "type": "bar"
           }
          ],
          "barpolar": [
           {
            "marker": {
             "line": {
              "color": "#E5ECF6",
              "width": 0.5
             },
             "pattern": {
              "fillmode": "overlay",
              "size": 10,
              "solidity": 0.2
             }
            },
            "type": "barpolar"
           }
          ],
          "carpet": [
           {
            "aaxis": {
             "endlinecolor": "#2a3f5f",
             "gridcolor": "white",
             "linecolor": "white",
             "minorgridcolor": "white",
             "startlinecolor": "#2a3f5f"
            },
            "baxis": {
             "endlinecolor": "#2a3f5f",
             "gridcolor": "white",
             "linecolor": "white",
             "minorgridcolor": "white",
             "startlinecolor": "#2a3f5f"
            },
            "type": "carpet"
           }
          ],
          "choropleth": [
           {
            "colorbar": {
             "outlinewidth": 0,
             "ticks": ""
            },
            "type": "choropleth"
           }
          ],
          "contour": [
           {
            "colorbar": {
             "outlinewidth": 0,
             "ticks": ""
            },
            "colorscale": [
             [
              0,
              "#0d0887"
             ],
             [
              0.1111111111111111,
              "#46039f"
             ],
             [
              0.2222222222222222,
              "#7201a8"
             ],
             [
              0.3333333333333333,
              "#9c179e"
             ],
             [
              0.4444444444444444,
              "#bd3786"
             ],
             [
              0.5555555555555556,
              "#d8576b"
             ],
             [
              0.6666666666666666,
              "#ed7953"
             ],
             [
              0.7777777777777778,
              "#fb9f3a"
             ],
             [
              0.8888888888888888,
              "#fdca26"
             ],
             [
              1,
              "#f0f921"
             ]
            ],
            "type": "contour"
           }
          ],
          "contourcarpet": [
           {
            "colorbar": {
             "outlinewidth": 0,
             "ticks": ""
            },
            "type": "contourcarpet"
           }
          ],
          "heatmap": [
           {
            "colorbar": {
             "outlinewidth": 0,
             "ticks": ""
            },
            "colorscale": [
             [
              0,
              "#0d0887"
             ],
             [
              0.1111111111111111,
              "#46039f"
             ],
             [
              0.2222222222222222,
              "#7201a8"
             ],
             [
              0.3333333333333333,
              "#9c179e"
             ],
             [
              0.4444444444444444,
              "#bd3786"
             ],
             [
              0.5555555555555556,
              "#d8576b"
             ],
             [
              0.6666666666666666,
              "#ed7953"
             ],
             [
              0.7777777777777778,
              "#fb9f3a"
             ],
             [
              0.8888888888888888,
              "#fdca26"
             ],
             [
              1,
              "#f0f921"
             ]
            ],
            "type": "heatmap"
           }
          ],
          "heatmapgl": [
           {
            "colorbar": {
             "outlinewidth": 0,
             "ticks": ""
            },
            "colorscale": [
             [
              0,
              "#0d0887"
             ],
             [
              0.1111111111111111,
              "#46039f"
             ],
             [
              0.2222222222222222,
              "#7201a8"
             ],
             [
              0.3333333333333333,
              "#9c179e"
             ],
             [
              0.4444444444444444,
              "#bd3786"
             ],
             [
              0.5555555555555556,
              "#d8576b"
             ],
             [
              0.6666666666666666,
              "#ed7953"
             ],
             [
              0.7777777777777778,
              "#fb9f3a"
             ],
             [
              0.8888888888888888,
              "#fdca26"
             ],
             [
              1,
              "#f0f921"
             ]
            ],
            "type": "heatmapgl"
           }
          ],
          "histogram": [
           {
            "marker": {
             "pattern": {
              "fillmode": "overlay",
              "size": 10,
              "solidity": 0.2
             }
            },
            "type": "histogram"
           }
          ],
          "histogram2d": [
           {
            "colorbar": {
             "outlinewidth": 0,
             "ticks": ""
            },
            "colorscale": [
             [
              0,
              "#0d0887"
             ],
             [
              0.1111111111111111,
              "#46039f"
             ],
             [
              0.2222222222222222,
              "#7201a8"
             ],
             [
              0.3333333333333333,
              "#9c179e"
             ],
             [
              0.4444444444444444,
              "#bd3786"
             ],
             [
              0.5555555555555556,
              "#d8576b"
             ],
             [
              0.6666666666666666,
              "#ed7953"
             ],
             [
              0.7777777777777778,
              "#fb9f3a"
             ],
             [
              0.8888888888888888,
              "#fdca26"
             ],
             [
              1,
              "#f0f921"
             ]
            ],
            "type": "histogram2d"
           }
          ],
          "histogram2dcontour": [
           {
            "colorbar": {
             "outlinewidth": 0,
             "ticks": ""
            },
            "colorscale": [
             [
              0,
              "#0d0887"
             ],
             [
              0.1111111111111111,
              "#46039f"
             ],
             [
              0.2222222222222222,
              "#7201a8"
             ],
             [
              0.3333333333333333,
              "#9c179e"
             ],
             [
              0.4444444444444444,
              "#bd3786"
             ],
             [
              0.5555555555555556,
              "#d8576b"
             ],
             [
              0.6666666666666666,
              "#ed7953"
             ],
             [
              0.7777777777777778,
              "#fb9f3a"
             ],
             [
              0.8888888888888888,
              "#fdca26"
             ],
             [
              1,
              "#f0f921"
             ]
            ],
            "type": "histogram2dcontour"
           }
          ],
          "mesh3d": [
           {
            "colorbar": {
             "outlinewidth": 0,
             "ticks": ""
            },
            "type": "mesh3d"
           }
          ],
          "parcoords": [
           {
            "line": {
             "colorbar": {
              "outlinewidth": 0,
              "ticks": ""
             }
            },
            "type": "parcoords"
           }
          ],
          "pie": [
           {
            "automargin": true,
            "type": "pie"
           }
          ],
          "scatter": [
           {
            "fillpattern": {
             "fillmode": "overlay",
             "size": 10,
             "solidity": 0.2
            },
            "type": "scatter"
           }
          ],
          "scatter3d": [
           {
            "line": {
             "colorbar": {
              "outlinewidth": 0,
              "ticks": ""
             }
            },
            "marker": {
             "colorbar": {
              "outlinewidth": 0,
              "ticks": ""
             }
            },
            "type": "scatter3d"
           }
          ],
          "scattercarpet": [
           {
            "marker": {
             "colorbar": {
              "outlinewidth": 0,
              "ticks": ""
             }
            },
            "type": "scattercarpet"
           }
          ],
          "scattergeo": [
           {
            "marker": {
             "colorbar": {
              "outlinewidth": 0,
              "ticks": ""
             }
            },
            "type": "scattergeo"
           }
          ],
          "scattergl": [
           {
            "marker": {
             "colorbar": {
              "outlinewidth": 0,
              "ticks": ""
             }
            },
            "type": "scattergl"
           }
          ],
          "scattermapbox": [
           {
            "marker": {
             "colorbar": {
              "outlinewidth": 0,
              "ticks": ""
             }
            },
            "type": "scattermapbox"
           }
          ],
          "scatterpolar": [
           {
            "marker": {
             "colorbar": {
              "outlinewidth": 0,
              "ticks": ""
             }
            },
            "type": "scatterpolar"
           }
          ],
          "scatterpolargl": [
           {
            "marker": {
             "colorbar": {
              "outlinewidth": 0,
              "ticks": ""
             }
            },
            "type": "scatterpolargl"
           }
          ],
          "scatterternary": [
           {
            "marker": {
             "colorbar": {
              "outlinewidth": 0,
              "ticks": ""
             }
            },
            "type": "scatterternary"
           }
          ],
          "surface": [
           {
            "colorbar": {
             "outlinewidth": 0,
             "ticks": ""
            },
            "colorscale": [
             [
              0,
              "#0d0887"
             ],
             [
              0.1111111111111111,
              "#46039f"
             ],
             [
              0.2222222222222222,
              "#7201a8"
             ],
             [
              0.3333333333333333,
              "#9c179e"
             ],
             [
              0.4444444444444444,
              "#bd3786"
             ],
             [
              0.5555555555555556,
              "#d8576b"
             ],
             [
              0.6666666666666666,
              "#ed7953"
             ],
             [
              0.7777777777777778,
              "#fb9f3a"
             ],
             [
              0.8888888888888888,
              "#fdca26"
             ],
             [
              1,
              "#f0f921"
             ]
            ],
            "type": "surface"
           }
          ],
          "table": [
           {
            "cells": {
             "fill": {
              "color": "#EBF0F8"
             },
             "line": {
              "color": "white"
             }
            },
            "header": {
             "fill": {
              "color": "#C8D4E3"
             },
             "line": {
              "color": "white"
             }
            },
            "type": "table"
           }
          ]
         },
         "layout": {
          "annotationdefaults": {
           "arrowcolor": "#2a3f5f",
           "arrowhead": 0,
           "arrowwidth": 1
          },
          "autotypenumbers": "strict",
          "coloraxis": {
           "colorbar": {
            "outlinewidth": 0,
            "ticks": ""
           }
          },
          "colorscale": {
           "diverging": [
            [
             0,
             "#8e0152"
            ],
            [
             0.1,
             "#c51b7d"
            ],
            [
             0.2,
             "#de77ae"
            ],
            [
             0.3,
             "#f1b6da"
            ],
            [
             0.4,
             "#fde0ef"
            ],
            [
             0.5,
             "#f7f7f7"
            ],
            [
             0.6,
             "#e6f5d0"
            ],
            [
             0.7,
             "#b8e186"
            ],
            [
             0.8,
             "#7fbc41"
            ],
            [
             0.9,
             "#4d9221"
            ],
            [
             1,
             "#276419"
            ]
           ],
           "sequential": [
            [
             0,
             "#0d0887"
            ],
            [
             0.1111111111111111,
             "#46039f"
            ],
            [
             0.2222222222222222,
             "#7201a8"
            ],
            [
             0.3333333333333333,
             "#9c179e"
            ],
            [
             0.4444444444444444,
             "#bd3786"
            ],
            [
             0.5555555555555556,
             "#d8576b"
            ],
            [
             0.6666666666666666,
             "#ed7953"
            ],
            [
             0.7777777777777778,
             "#fb9f3a"
            ],
            [
             0.8888888888888888,
             "#fdca26"
            ],
            [
             1,
             "#f0f921"
            ]
           ],
           "sequentialminus": [
            [
             0,
             "#0d0887"
            ],
            [
             0.1111111111111111,
             "#46039f"
            ],
            [
             0.2222222222222222,
             "#7201a8"
            ],
            [
             0.3333333333333333,
             "#9c179e"
            ],
            [
             0.4444444444444444,
             "#bd3786"
            ],
            [
             0.5555555555555556,
             "#d8576b"
            ],
            [
             0.6666666666666666,
             "#ed7953"
            ],
            [
             0.7777777777777778,
             "#fb9f3a"
            ],
            [
             0.8888888888888888,
             "#fdca26"
            ],
            [
             1,
             "#f0f921"
            ]
           ]
          },
          "colorway": [
           "#636efa",
           "#EF553B",
           "#00cc96",
           "#ab63fa",
           "#FFA15A",
           "#19d3f3",
           "#FF6692",
           "#B6E880",
           "#FF97FF",
           "#FECB52"
          ],
          "font": {
           "color": "#2a3f5f"
          },
          "geo": {
           "bgcolor": "white",
           "lakecolor": "white",
           "landcolor": "#E5ECF6",
           "showlakes": true,
           "showland": true,
           "subunitcolor": "white"
          },
          "hoverlabel": {
           "align": "left"
          },
          "hovermode": "closest",
          "mapbox": {
           "style": "light"
          },
          "paper_bgcolor": "white",
          "plot_bgcolor": "#E5ECF6",
          "polar": {
           "angularaxis": {
            "gridcolor": "white",
            "linecolor": "white",
            "ticks": ""
           },
           "bgcolor": "#E5ECF6",
           "radialaxis": {
            "gridcolor": "white",
            "linecolor": "white",
            "ticks": ""
           }
          },
          "scene": {
           "xaxis": {
            "backgroundcolor": "#E5ECF6",
            "gridcolor": "white",
            "gridwidth": 2,
            "linecolor": "white",
            "showbackground": true,
            "ticks": "",
            "zerolinecolor": "white"
           },
           "yaxis": {
            "backgroundcolor": "#E5ECF6",
            "gridcolor": "white",
            "gridwidth": 2,
            "linecolor": "white",
            "showbackground": true,
            "ticks": "",
            "zerolinecolor": "white"
           },
           "zaxis": {
            "backgroundcolor": "#E5ECF6",
            "gridcolor": "white",
            "gridwidth": 2,
            "linecolor": "white",
            "showbackground": true,
            "ticks": "",
            "zerolinecolor": "white"
           }
          },
          "shapedefaults": {
           "line": {
            "color": "#2a3f5f"
           }
          },
          "ternary": {
           "aaxis": {
            "gridcolor": "white",
            "linecolor": "white",
            "ticks": ""
           },
           "baxis": {
            "gridcolor": "white",
            "linecolor": "white",
            "ticks": ""
           },
           "bgcolor": "#E5ECF6",
           "caxis": {
            "gridcolor": "white",
            "linecolor": "white",
            "ticks": ""
           }
          },
          "title": {
           "x": 0.05
          },
          "xaxis": {
           "automargin": true,
           "gridcolor": "white",
           "linecolor": "white",
           "ticks": "",
           "title": {
            "standoff": 15
           },
           "zerolinecolor": "white",
           "zerolinewidth": 2
          },
          "yaxis": {
           "automargin": true,
           "gridcolor": "white",
           "linecolor": "white",
           "ticks": "",
           "title": {
            "standoff": 15
           },
           "zerolinecolor": "white",
           "zerolinewidth": 2
          }
         }
        },
        "xaxis": {
         "anchor": "y",
         "domain": [
          0,
          1
         ],
         "title": {
          "text": "Size"
         }
        },
        "yaxis": {
         "anchor": "x",
         "domain": [
          0,
          1
         ],
         "title": {
          "text": "Price"
         }
        }
       }
      }
     },
     "metadata": {},
     "output_type": "display_data"
    }
   ],
   "source": [
    "px.scatter(shoe, x='Size' , y='Price')"
   ]
  },
  {
   "cell_type": "markdown",
   "id": "a12fe879",
   "metadata": {},
   "source": [
    "#### As you can see above there is no significant difference between Price and Size. There is only some shoe sizes that has high price"
   ]
  },
  {
   "cell_type": "code",
   "execution_count": 544,
   "id": "5ec9a5f8",
   "metadata": {},
   "outputs": [
    {
     "data": {
      "text/plain": [
       "Type\n",
       "Running           332\n",
       "Casual            243\n",
       "Skate             100\n",
       "Fashion            86\n",
       "Lifestyle          76\n",
       "Basketball         52\n",
       "Walking            46\n",
       "Training           34\n",
       "Crossfit           11\n",
       "Trail               6\n",
       "Weightlifting       4\n",
       "Slides              3\n",
       "CrossFit            3\n",
       "Trail Running       3\n",
       "Retro               3\n",
       "Hiking              2\n",
       "Cross-training      1\n",
       "Racing              1\n",
       "Name: count, dtype: int64"
      ]
     },
     "execution_count": 544,
     "metadata": {},
     "output_type": "execute_result"
    }
   ],
   "source": [
    "shoe['Type'].value_counts()"
   ]
  },
  {
   "cell_type": "code",
   "execution_count": 545,
   "id": "ce1d1f61",
   "metadata": {},
   "outputs": [
    {
     "data": {
      "application/vnd.plotly.v1+json": {
       "config": {
        "plotlyServerURL": "https://plot.ly"
       },
       "data": [
        {
         "alignmentgroup": "True",
         "bingroup": "x",
         "hovertemplate": "Type=%{x}<br>count=%{y}<extra></extra>",
         "legendgroup": "",
         "marker": {
          "color": "#636efa",
          "pattern": {
           "shape": ""
          }
         },
         "name": "",
         "offsetgroup": "",
         "orientation": "v",
         "showlegend": false,
         "type": "histogram",
         "x": [
          "Basketball",
          "Running",
          "Casual",
          "Casual",
          "Lifestyle",
          "Skate",
          "Running",
          "Running",
          "Fashion",
          "Running",
          "Running",
          "Casual",
          "Casual",
          "Skate",
          "Lifestyle",
          "Skate",
          "Running",
          "Running",
          "Fashion",
          "Walking",
          "Casual",
          "Running",
          "Running",
          "Casual",
          "Running",
          "Skate",
          "Lifestyle",
          "Running",
          "Fashion",
          "Walking",
          "Running",
          "Running",
          "Cross-training",
          "Casual",
          "Lifestyle",
          "Skate",
          "Casual",
          "Running",
          "Fashion",
          "Walking",
          "Casual",
          "Running",
          "Running",
          "Casual",
          "Casual",
          "Skate",
          "Casual",
          "Running",
          "Casual",
          "Walking",
          "Running",
          "Slides",
          "Crossfit",
          "Casual",
          "Basketball",
          "Skate",
          "Running",
          "Running",
          "Casual",
          "Training",
          "Basketball",
          "Lifestyle",
          "Training",
          "Casual",
          "Basketball",
          "Skate",
          "Running",
          "Running",
          "Casual",
          "Running",
          "Lifestyle",
          "Lifestyle",
          "Casual",
          "Casual",
          "Running",
          "Skate",
          "Running",
          "Running",
          "Casual",
          "Walking",
          "Lifestyle",
          "Basketball",
          "Lifestyle",
          "Training",
          "Casual",
          "Basketball",
          "Skate",
          "Casual",
          "Casual",
          "Fashion",
          "Running",
          "Running",
          "Basketball",
          "Casual",
          "Casual",
          "Running",
          "Skate",
          "Running",
          "Running",
          "Fashion",
          "Walking",
          "Running",
          "Running",
          "Casual",
          "Running",
          "Casual",
          "Lifestyle",
          "Skate",
          "Running",
          "Trail",
          "Fashion",
          "Running",
          "Running",
          "Running",
          "Casual",
          "Casual",
          "Lifestyle",
          "Skate",
          "Running",
          "Running",
          "Fashion",
          "Walking",
          "Basketball",
          "Running",
          "Training",
          "Casual",
          "Running",
          "Skate",
          "Running",
          "Running",
          "Fashion",
          "Walking",
          "Running",
          "Running",
          "Casual",
          "Casual",
          "Casual",
          "Skate",
          "Running",
          "Running",
          "Casual",
          "Running",
          "Casual",
          "Running",
          "Running",
          "Casual",
          "Basketball",
          "Skate",
          "Casual",
          "Running",
          "Fashion",
          "Running",
          "Casual",
          "Casual",
          "Running",
          "Casual",
          "Running",
          "Skate",
          "Running",
          "Trail",
          "Fashion",
          "Training",
          "Basketball",
          "Running",
          "Lifestyle",
          "Casual",
          "Casual",
          "Running",
          "Skate",
          "Casual",
          "Running",
          "Fashion",
          "Running",
          "Casual",
          "Running",
          "Casual",
          "Casual",
          "Basketball",
          "Skate",
          "Running",
          "Running",
          "Basketball",
          "Casual",
          "Basketball",
          "Lifestyle",
          "Training",
          "Casual",
          "Running",
          "Skate",
          "Lifestyle",
          "Running",
          "Walking",
          "Running",
          "Running",
          "Running",
          "Running",
          "Casual",
          "Basketball",
          "Skate",
          "Running",
          "Running",
          "Fashion",
          "Walking",
          "Casual",
          "Casual",
          "Running",
          "Casual",
          "Casual",
          "Skate",
          "Running",
          "Running",
          "Fashion",
          "Walking",
          "Casual",
          "Casual",
          "Casual",
          "Casual",
          "Running",
          "Skate",
          "Running",
          "Running",
          "Fashion",
          "Casual",
          "Lifestyle",
          "Training",
          "Casual",
          "Running",
          "Skate",
          "Lifestyle",
          "Running",
          "Fashion",
          "Walking",
          "Running",
          "Slides",
          "Casual",
          "Casual",
          "Lifestyle",
          "Skate",
          "Running",
          "Running",
          "Fashion",
          "Training",
          "Running",
          "Basketball",
          "Fashion",
          "Training",
          "Casual",
          "Basketball",
          "Skate",
          "Trail",
          "Running",
          "Fashion",
          "Walking",
          "Running",
          "Casual",
          "Running",
          "Casual",
          "Running",
          "Skate",
          "Running",
          "Running",
          "Fashion",
          "Running",
          "Basketball",
          "Running",
          "Trail",
          "Casual",
          "Running",
          "Skate",
          "Running",
          "Running",
          "Fashion",
          "Running",
          "Running",
          "Casual",
          "Training",
          "Casual",
          "Lifestyle",
          "Casual",
          "Running",
          "Running",
          "Casual",
          "Walking",
          "Casual",
          "Casual",
          "Lifestyle",
          "Crossfit",
          "Casual",
          "Running",
          "Skate",
          "Casual",
          "Running",
          "Fashion",
          "Running",
          "Running",
          "Running",
          "Running",
          "Casual",
          "Casual",
          "Skate",
          "Running",
          "Running",
          "Fashion",
          "Walking",
          "Running",
          "Casual",
          "Lifestyle",
          "Running",
          "Casual",
          "Running",
          "Skate",
          "Lifestyle",
          "Running",
          "Fashion",
          "Walking",
          "Running",
          "Casual",
          "Crossfit",
          "Casual",
          "Lifestyle",
          "Skate",
          "Running",
          "Running",
          "Fashion",
          "Walking",
          "Casual",
          "Lifestyle",
          "Running",
          "Casual",
          "Basketball",
          "Skate",
          "Running",
          "Running",
          "Casual",
          "Running",
          "Casual",
          "Casual",
          "Casual",
          "Basketball",
          "Running",
          "Skate",
          "Running",
          "Running",
          "Casual",
          "Walking",
          "Running",
          "Basketball",
          "Fashion",
          "Running",
          "Casual",
          "Running",
          "Skate",
          "Running",
          "Running",
          "Fashion",
          "Walking",
          "Running",
          "Casual",
          "Casual",
          "Casual",
          "Basketball",
          "Casual",
          "Trail Running",
          "Running",
          "Fashion",
          "Walking",
          "Running",
          "Running",
          "Training",
          "Casual",
          "Running",
          "Skate",
          "Lifestyle",
          "Running",
          "Fashion",
          "Walking",
          "Casual",
          "Lifestyle",
          "Weightlifting",
          "Casual",
          "Lifestyle",
          "Casual",
          "Running",
          "Running",
          "Fashion",
          "Running",
          "Lifestyle",
          "Crossfit",
          "Basketball",
          "Casual",
          "Skate",
          "Casual",
          "Running",
          "Fashion",
          "Running",
          "Casual",
          "Lifestyle",
          "Weightlifting",
          "Casual",
          "Lifestyle",
          "Skate",
          "Running",
          "Running",
          "Fashion",
          "Walking",
          "Basketball",
          "Running",
          "Casual",
          "Casual",
          "Running",
          "Skate",
          "Running",
          "Running",
          "Fashion",
          "Walking",
          "Running",
          "Casual",
          "Casual",
          "Casual",
          "Lifestyle",
          "Skate",
          "Running",
          "Running",
          "Fashion",
          "Basketball",
          "Running",
          "Running",
          "Casual",
          "Basketball",
          "Skate",
          "Running",
          "Running",
          "Fashion",
          "Lifestyle",
          "Running",
          "Casual",
          "Casual",
          "Casual",
          "Basketball",
          "Skate",
          "Running",
          "Running",
          "Casual",
          "Training",
          "Running",
          "Casual",
          "Fashion",
          "Training",
          "Casual",
          "Running",
          "Skate",
          "Running",
          "Running",
          "Fashion",
          "Running",
          "Running",
          "Fashion",
          "Training",
          "Casual",
          "Lifestyle",
          "Skate",
          "Running",
          "Running",
          "Fashion",
          "Casual",
          "Fashion",
          "CrossFit",
          "Casual",
          "Running",
          "Skate",
          "Casual",
          "Running",
          "Fashion",
          "Walking",
          "Running",
          "Running",
          "Casual",
          "Casual",
          "Fashion",
          "Skate",
          "Running",
          "Running",
          "Fashion",
          "Walking",
          "Running",
          "Running",
          "Lifestyle",
          "Training",
          "Basketball",
          "Basketball",
          "Skate",
          "Casual",
          "Running",
          "Fashion",
          "Walking",
          "Casual",
          "Casual",
          "Casual",
          "Casual",
          "Basketball",
          "Skate",
          "Running",
          "Running",
          "Hiking",
          "Training",
          "Basketball",
          "Lifestyle",
          "Running",
          "Casual",
          "Basketball",
          "Skate",
          "Casual",
          "Running",
          "Fashion",
          "Walking",
          "Running",
          "Running",
          "Training",
          "Casual",
          "Running",
          "Skate",
          "Running",
          "Running",
          "Casual",
          "Running",
          "Running",
          "Basketball",
          "Lifestyle",
          "CrossFit",
          "Casual",
          "Running",
          "Skate",
          "Casual",
          "Running",
          "Casual",
          "Walking",
          "Running",
          "Lifestyle",
          "Running",
          "Skate",
          "Basketball",
          "Skate",
          "Running",
          "Running",
          "Running",
          "Running",
          "Lifestyle",
          "CrossFit",
          "Casual",
          "Running",
          "Skate",
          "Casual",
          "Running",
          "Fashion",
          "Running",
          "Running",
          "Fashion",
          "Casual",
          "Casual",
          "Lifestyle",
          "Skate",
          "Running",
          "Running",
          "Fashion",
          "Basketball",
          "Lifestyle",
          "Training",
          "Casual",
          "Basketball",
          "Skate",
          "Lifestyle",
          "Lifestyle",
          "Fashion",
          "Running",
          "Running",
          "Basketball",
          "Running",
          "Casual",
          "Lifestyle",
          "Skate",
          "Running",
          "Running",
          "Fashion",
          "Walking",
          "Skate",
          "Running",
          "Casual",
          "Casual",
          "Running",
          "Skate",
          "Running",
          "Running",
          "Fashion",
          "Walking",
          "Running",
          "Slides",
          "Training",
          "Casual",
          "Casual",
          "Skate",
          "Running",
          "Trail",
          "Fashion",
          "Running",
          "Running",
          "Casual",
          "Fashion",
          "Training",
          "Casual",
          "Running",
          "Skate",
          "Casual",
          "Running",
          "Fashion",
          "Walking",
          "Casual",
          "Running",
          "Casual",
          "Basketball",
          "Casual",
          "Skate",
          "Racing",
          "Running",
          "Casual",
          "Running",
          "Casual",
          "Lifestyle",
          "Training",
          "Casual",
          "Fashion",
          "Skate",
          "Running",
          "Running",
          "Hiking",
          "Running",
          "Running",
          "Casual",
          "Casual",
          "Casual",
          "Casual",
          "Skate",
          "Casual",
          "Running",
          "Running",
          "Training",
          "Casual",
          "Lifestyle",
          "Retro",
          "Casual",
          "Running",
          "Skate",
          "Retro",
          "Running",
          "Fashion",
          "Running",
          "Running",
          "Lifestyle",
          "Casual",
          "Skate",
          "Retro",
          "Skate",
          "Running",
          "Running",
          "Casual",
          "Walking",
          "Basketball",
          "Lifestyle",
          "Weightlifting",
          "Casual",
          "Running",
          "Skate",
          "Casual",
          "Running",
          "Fashion",
          "Running",
          "Running",
          "Running",
          "Crossfit",
          "Skate",
          "Basketball",
          "Skate",
          "Casual",
          "Running",
          "Casual",
          "Walking",
          "Casual",
          "Lifestyle",
          "Crossfit",
          "Casual",
          "Basketball",
          "Skate",
          "Lifestyle",
          "Running",
          "Fashion",
          "Walking",
          "Running",
          "Lifestyle",
          "Casual",
          "Basketball",
          "Lifestyle",
          "Skate",
          "Running",
          "Running",
          "Fashion",
          "Training",
          "Skate",
          "Casual",
          "Fashion",
          "Running",
          "Casual",
          "Running",
          "Skate",
          "Casual",
          "Running",
          "Fashion",
          "Lifestyle",
          "Running",
          "Running",
          "Casual",
          "Casual",
          "Casual",
          "Skate",
          "Running",
          "Running",
          "Fashion",
          "Casual",
          "Lifestyle",
          "Training",
          "Casual",
          "Basketball",
          "Skate",
          "Lifestyle",
          "Running",
          "Fashion",
          "Running",
          "Running",
          "Basketball",
          "Casual",
          "Casual",
          "Casual",
          "Skate",
          "Running",
          "Running",
          "Fashion",
          "Walking",
          "Casual",
          "Lifestyle",
          "Training",
          "Casual",
          "Running",
          "Skate",
          "Running",
          "Running",
          "Fashion",
          "Walking",
          "Running",
          "Running",
          "Weightlifting",
          "Basketball",
          "Lifestyle",
          "Casual",
          "Casual",
          "Running",
          "Running",
          "Lifestyle",
          "Training",
          "Casual",
          "Running",
          "Skate",
          "Lifestyle",
          "Running",
          "Casual",
          "Running",
          "Running",
          "Lifestyle",
          "Casual",
          "Casual",
          "Basketball",
          "Skate",
          "Lifestyle",
          "Running",
          "Fashion",
          "Walking",
          "Casual",
          "Casual",
          "Casual",
          "Running",
          "Casual",
          "Running",
          "Skate",
          "Running",
          "Running",
          "Fashion",
          "Walking",
          "Running",
          "Casual",
          "Casual",
          "Casual",
          "Fashion",
          "Skate",
          "Running",
          "Running",
          "Fashion",
          "Running",
          "Casual",
          "Running",
          "Casual",
          "Running",
          "Casual",
          "Running",
          "Skate",
          "Casual",
          "Running",
          "Fashion",
          "Walking",
          "Casual",
          "Running",
          "Training",
          "Casual",
          "Basketball",
          "Casual",
          "Running",
          "Running",
          "Fashion",
          "Running",
          "Running",
          "Casual",
          "Running",
          "Crossfit",
          "Casual",
          "Running",
          "Skate",
          "Casual",
          "Running",
          "Casual",
          "Walking",
          "Casual",
          "Casual",
          "Casual",
          "Casual",
          "Basketball",
          "Casual",
          "Casual",
          "Running",
          "Basketball",
          "Walking",
          "Casual",
          "Lifestyle",
          "Training",
          "Casual",
          "Casual",
          "Skate",
          "Lifestyle",
          "Running",
          "Fashion",
          "Walking",
          "Running",
          "Running",
          "Running",
          "Casual",
          "Running",
          "Skate",
          "Trail Running",
          "Running",
          "Fashion",
          "Running",
          "Casual",
          "Running",
          "Training",
          "Casual",
          "Basketball",
          "Skate",
          "Casual",
          "Running",
          "Fashion",
          "Running",
          "Casual",
          "Running",
          "Casual",
          "Casual",
          "Running",
          "Skate",
          "Running",
          "Trail Running",
          "Casual",
          "Walking",
          "Running",
          "Running",
          "Casual",
          "Training",
          "Casual",
          "Running",
          "Skate",
          "Lifestyle",
          "Running",
          "Fashion",
          "Running",
          "Casual",
          "Casual",
          "Running",
          "Basketball",
          "Lifestyle",
          "Skate",
          "Running",
          "Running",
          "Fashion",
          "Walking",
          "Casual",
          "Lifestyle",
          "Crossfit",
          "Casual",
          "Running",
          "Skate",
          "Lifestyle",
          "Running",
          "Fashion",
          "Training",
          "Running",
          "Running",
          "Casual",
          "Casual",
          "Basketball",
          "Skate",
          "Running",
          "Running",
          "Fashion",
          "Casual",
          "Lifestyle",
          "Crossfit",
          "Casual",
          "Running",
          "Skate",
          "Lifestyle",
          "Running",
          "Fashion",
          "Training",
          "Running",
          "Running",
          "Casual",
          "Casual",
          "Basketball",
          "Skate",
          "Running",
          "Running",
          "Fashion",
          "Casual",
          "Lifestyle",
          "Crossfit",
          "Casual",
          "Running",
          "Skate",
          "Lifestyle",
          "Running",
          "Fashion",
          "Running",
          "Running",
          "Casual",
          "Casual",
          "Casual",
          "Lifestyle",
          "Skate",
          "Running",
          "Running",
          "Fashion",
          "Walking",
          "Running",
          "Lifestyle",
          "Lifestyle",
          "Training",
          "Casual",
          "Lifestyle",
          "Skate",
          "Running",
          "Running",
          "Fashion",
          "Running",
          "Running",
          "Casual",
          "Casual",
          "Casual",
          "Lifestyle",
          "Skate",
          "Trail",
          "Running",
          "Fashion",
          "Casual",
          "Lifestyle",
          "Crossfit",
          "Casual",
          "Running",
          "Skate",
          "Running",
          "Running",
          "Fashion",
          "Walking",
          "Running",
          "Running",
          "Casual",
          "Casual",
          "Lifestyle",
          "Skate",
          "Running",
          "Running",
          "Fashion",
          "Training",
          "Running"
         ],
         "xaxis": "x",
         "yaxis": "y"
        }
       ],
       "layout": {
        "barmode": "relative",
        "legend": {
         "tracegroupgap": 0
        },
        "margin": {
         "t": 60
        },
        "template": {
         "data": {
          "bar": [
           {
            "error_x": {
             "color": "#2a3f5f"
            },
            "error_y": {
             "color": "#2a3f5f"
            },
            "marker": {
             "line": {
              "color": "#E5ECF6",
              "width": 0.5
             },
             "pattern": {
              "fillmode": "overlay",
              "size": 10,
              "solidity": 0.2
             }
            },
            "type": "bar"
           }
          ],
          "barpolar": [
           {
            "marker": {
             "line": {
              "color": "#E5ECF6",
              "width": 0.5
             },
             "pattern": {
              "fillmode": "overlay",
              "size": 10,
              "solidity": 0.2
             }
            },
            "type": "barpolar"
           }
          ],
          "carpet": [
           {
            "aaxis": {
             "endlinecolor": "#2a3f5f",
             "gridcolor": "white",
             "linecolor": "white",
             "minorgridcolor": "white",
             "startlinecolor": "#2a3f5f"
            },
            "baxis": {
             "endlinecolor": "#2a3f5f",
             "gridcolor": "white",
             "linecolor": "white",
             "minorgridcolor": "white",
             "startlinecolor": "#2a3f5f"
            },
            "type": "carpet"
           }
          ],
          "choropleth": [
           {
            "colorbar": {
             "outlinewidth": 0,
             "ticks": ""
            },
            "type": "choropleth"
           }
          ],
          "contour": [
           {
            "colorbar": {
             "outlinewidth": 0,
             "ticks": ""
            },
            "colorscale": [
             [
              0,
              "#0d0887"
             ],
             [
              0.1111111111111111,
              "#46039f"
             ],
             [
              0.2222222222222222,
              "#7201a8"
             ],
             [
              0.3333333333333333,
              "#9c179e"
             ],
             [
              0.4444444444444444,
              "#bd3786"
             ],
             [
              0.5555555555555556,
              "#d8576b"
             ],
             [
              0.6666666666666666,
              "#ed7953"
             ],
             [
              0.7777777777777778,
              "#fb9f3a"
             ],
             [
              0.8888888888888888,
              "#fdca26"
             ],
             [
              1,
              "#f0f921"
             ]
            ],
            "type": "contour"
           }
          ],
          "contourcarpet": [
           {
            "colorbar": {
             "outlinewidth": 0,
             "ticks": ""
            },
            "type": "contourcarpet"
           }
          ],
          "heatmap": [
           {
            "colorbar": {
             "outlinewidth": 0,
             "ticks": ""
            },
            "colorscale": [
             [
              0,
              "#0d0887"
             ],
             [
              0.1111111111111111,
              "#46039f"
             ],
             [
              0.2222222222222222,
              "#7201a8"
             ],
             [
              0.3333333333333333,
              "#9c179e"
             ],
             [
              0.4444444444444444,
              "#bd3786"
             ],
             [
              0.5555555555555556,
              "#d8576b"
             ],
             [
              0.6666666666666666,
              "#ed7953"
             ],
             [
              0.7777777777777778,
              "#fb9f3a"
             ],
             [
              0.8888888888888888,
              "#fdca26"
             ],
             [
              1,
              "#f0f921"
             ]
            ],
            "type": "heatmap"
           }
          ],
          "heatmapgl": [
           {
            "colorbar": {
             "outlinewidth": 0,
             "ticks": ""
            },
            "colorscale": [
             [
              0,
              "#0d0887"
             ],
             [
              0.1111111111111111,
              "#46039f"
             ],
             [
              0.2222222222222222,
              "#7201a8"
             ],
             [
              0.3333333333333333,
              "#9c179e"
             ],
             [
              0.4444444444444444,
              "#bd3786"
             ],
             [
              0.5555555555555556,
              "#d8576b"
             ],
             [
              0.6666666666666666,
              "#ed7953"
             ],
             [
              0.7777777777777778,
              "#fb9f3a"
             ],
             [
              0.8888888888888888,
              "#fdca26"
             ],
             [
              1,
              "#f0f921"
             ]
            ],
            "type": "heatmapgl"
           }
          ],
          "histogram": [
           {
            "marker": {
             "pattern": {
              "fillmode": "overlay",
              "size": 10,
              "solidity": 0.2
             }
            },
            "type": "histogram"
           }
          ],
          "histogram2d": [
           {
            "colorbar": {
             "outlinewidth": 0,
             "ticks": ""
            },
            "colorscale": [
             [
              0,
              "#0d0887"
             ],
             [
              0.1111111111111111,
              "#46039f"
             ],
             [
              0.2222222222222222,
              "#7201a8"
             ],
             [
              0.3333333333333333,
              "#9c179e"
             ],
             [
              0.4444444444444444,
              "#bd3786"
             ],
             [
              0.5555555555555556,
              "#d8576b"
             ],
             [
              0.6666666666666666,
              "#ed7953"
             ],
             [
              0.7777777777777778,
              "#fb9f3a"
             ],
             [
              0.8888888888888888,
              "#fdca26"
             ],
             [
              1,
              "#f0f921"
             ]
            ],
            "type": "histogram2d"
           }
          ],
          "histogram2dcontour": [
           {
            "colorbar": {
             "outlinewidth": 0,
             "ticks": ""
            },
            "colorscale": [
             [
              0,
              "#0d0887"
             ],
             [
              0.1111111111111111,
              "#46039f"
             ],
             [
              0.2222222222222222,
              "#7201a8"
             ],
             [
              0.3333333333333333,
              "#9c179e"
             ],
             [
              0.4444444444444444,
              "#bd3786"
             ],
             [
              0.5555555555555556,
              "#d8576b"
             ],
             [
              0.6666666666666666,
              "#ed7953"
             ],
             [
              0.7777777777777778,
              "#fb9f3a"
             ],
             [
              0.8888888888888888,
              "#fdca26"
             ],
             [
              1,
              "#f0f921"
             ]
            ],
            "type": "histogram2dcontour"
           }
          ],
          "mesh3d": [
           {
            "colorbar": {
             "outlinewidth": 0,
             "ticks": ""
            },
            "type": "mesh3d"
           }
          ],
          "parcoords": [
           {
            "line": {
             "colorbar": {
              "outlinewidth": 0,
              "ticks": ""
             }
            },
            "type": "parcoords"
           }
          ],
          "pie": [
           {
            "automargin": true,
            "type": "pie"
           }
          ],
          "scatter": [
           {
            "fillpattern": {
             "fillmode": "overlay",
             "size": 10,
             "solidity": 0.2
            },
            "type": "scatter"
           }
          ],
          "scatter3d": [
           {
            "line": {
             "colorbar": {
              "outlinewidth": 0,
              "ticks": ""
             }
            },
            "marker": {
             "colorbar": {
              "outlinewidth": 0,
              "ticks": ""
             }
            },
            "type": "scatter3d"
           }
          ],
          "scattercarpet": [
           {
            "marker": {
             "colorbar": {
              "outlinewidth": 0,
              "ticks": ""
             }
            },
            "type": "scattercarpet"
           }
          ],
          "scattergeo": [
           {
            "marker": {
             "colorbar": {
              "outlinewidth": 0,
              "ticks": ""
             }
            },
            "type": "scattergeo"
           }
          ],
          "scattergl": [
           {
            "marker": {
             "colorbar": {
              "outlinewidth": 0,
              "ticks": ""
             }
            },
            "type": "scattergl"
           }
          ],
          "scattermapbox": [
           {
            "marker": {
             "colorbar": {
              "outlinewidth": 0,
              "ticks": ""
             }
            },
            "type": "scattermapbox"
           }
          ],
          "scatterpolar": [
           {
            "marker": {
             "colorbar": {
              "outlinewidth": 0,
              "ticks": ""
             }
            },
            "type": "scatterpolar"
           }
          ],
          "scatterpolargl": [
           {
            "marker": {
             "colorbar": {
              "outlinewidth": 0,
              "ticks": ""
             }
            },
            "type": "scatterpolargl"
           }
          ],
          "scatterternary": [
           {
            "marker": {
             "colorbar": {
              "outlinewidth": 0,
              "ticks": ""
             }
            },
            "type": "scatterternary"
           }
          ],
          "surface": [
           {
            "colorbar": {
             "outlinewidth": 0,
             "ticks": ""
            },
            "colorscale": [
             [
              0,
              "#0d0887"
             ],
             [
              0.1111111111111111,
              "#46039f"
             ],
             [
              0.2222222222222222,
              "#7201a8"
             ],
             [
              0.3333333333333333,
              "#9c179e"
             ],
             [
              0.4444444444444444,
              "#bd3786"
             ],
             [
              0.5555555555555556,
              "#d8576b"
             ],
             [
              0.6666666666666666,
              "#ed7953"
             ],
             [
              0.7777777777777778,
              "#fb9f3a"
             ],
             [
              0.8888888888888888,
              "#fdca26"
             ],
             [
              1,
              "#f0f921"
             ]
            ],
            "type": "surface"
           }
          ],
          "table": [
           {
            "cells": {
             "fill": {
              "color": "#EBF0F8"
             },
             "line": {
              "color": "white"
             }
            },
            "header": {
             "fill": {
              "color": "#C8D4E3"
             },
             "line": {
              "color": "white"
             }
            },
            "type": "table"
           }
          ]
         },
         "layout": {
          "annotationdefaults": {
           "arrowcolor": "#2a3f5f",
           "arrowhead": 0,
           "arrowwidth": 1
          },
          "autotypenumbers": "strict",
          "coloraxis": {
           "colorbar": {
            "outlinewidth": 0,
            "ticks": ""
           }
          },
          "colorscale": {
           "diverging": [
            [
             0,
             "#8e0152"
            ],
            [
             0.1,
             "#c51b7d"
            ],
            [
             0.2,
             "#de77ae"
            ],
            [
             0.3,
             "#f1b6da"
            ],
            [
             0.4,
             "#fde0ef"
            ],
            [
             0.5,
             "#f7f7f7"
            ],
            [
             0.6,
             "#e6f5d0"
            ],
            [
             0.7,
             "#b8e186"
            ],
            [
             0.8,
             "#7fbc41"
            ],
            [
             0.9,
             "#4d9221"
            ],
            [
             1,
             "#276419"
            ]
           ],
           "sequential": [
            [
             0,
             "#0d0887"
            ],
            [
             0.1111111111111111,
             "#46039f"
            ],
            [
             0.2222222222222222,
             "#7201a8"
            ],
            [
             0.3333333333333333,
             "#9c179e"
            ],
            [
             0.4444444444444444,
             "#bd3786"
            ],
            [
             0.5555555555555556,
             "#d8576b"
            ],
            [
             0.6666666666666666,
             "#ed7953"
            ],
            [
             0.7777777777777778,
             "#fb9f3a"
            ],
            [
             0.8888888888888888,
             "#fdca26"
            ],
            [
             1,
             "#f0f921"
            ]
           ],
           "sequentialminus": [
            [
             0,
             "#0d0887"
            ],
            [
             0.1111111111111111,
             "#46039f"
            ],
            [
             0.2222222222222222,
             "#7201a8"
            ],
            [
             0.3333333333333333,
             "#9c179e"
            ],
            [
             0.4444444444444444,
             "#bd3786"
            ],
            [
             0.5555555555555556,
             "#d8576b"
            ],
            [
             0.6666666666666666,
             "#ed7953"
            ],
            [
             0.7777777777777778,
             "#fb9f3a"
            ],
            [
             0.8888888888888888,
             "#fdca26"
            ],
            [
             1,
             "#f0f921"
            ]
           ]
          },
          "colorway": [
           "#636efa",
           "#EF553B",
           "#00cc96",
           "#ab63fa",
           "#FFA15A",
           "#19d3f3",
           "#FF6692",
           "#B6E880",
           "#FF97FF",
           "#FECB52"
          ],
          "font": {
           "color": "#2a3f5f"
          },
          "geo": {
           "bgcolor": "white",
           "lakecolor": "white",
           "landcolor": "#E5ECF6",
           "showlakes": true,
           "showland": true,
           "subunitcolor": "white"
          },
          "hoverlabel": {
           "align": "left"
          },
          "hovermode": "closest",
          "mapbox": {
           "style": "light"
          },
          "paper_bgcolor": "white",
          "plot_bgcolor": "#E5ECF6",
          "polar": {
           "angularaxis": {
            "gridcolor": "white",
            "linecolor": "white",
            "ticks": ""
           },
           "bgcolor": "#E5ECF6",
           "radialaxis": {
            "gridcolor": "white",
            "linecolor": "white",
            "ticks": ""
           }
          },
          "scene": {
           "xaxis": {
            "backgroundcolor": "#E5ECF6",
            "gridcolor": "white",
            "gridwidth": 2,
            "linecolor": "white",
            "showbackground": true,
            "ticks": "",
            "zerolinecolor": "white"
           },
           "yaxis": {
            "backgroundcolor": "#E5ECF6",
            "gridcolor": "white",
            "gridwidth": 2,
            "linecolor": "white",
            "showbackground": true,
            "ticks": "",
            "zerolinecolor": "white"
           },
           "zaxis": {
            "backgroundcolor": "#E5ECF6",
            "gridcolor": "white",
            "gridwidth": 2,
            "linecolor": "white",
            "showbackground": true,
            "ticks": "",
            "zerolinecolor": "white"
           }
          },
          "shapedefaults": {
           "line": {
            "color": "#2a3f5f"
           }
          },
          "ternary": {
           "aaxis": {
            "gridcolor": "white",
            "linecolor": "white",
            "ticks": ""
           },
           "baxis": {
            "gridcolor": "white",
            "linecolor": "white",
            "ticks": ""
           },
           "bgcolor": "#E5ECF6",
           "caxis": {
            "gridcolor": "white",
            "linecolor": "white",
            "ticks": ""
           }
          },
          "title": {
           "x": 0.05
          },
          "xaxis": {
           "automargin": true,
           "gridcolor": "white",
           "linecolor": "white",
           "ticks": "",
           "title": {
            "standoff": 15
           },
           "zerolinecolor": "white",
           "zerolinewidth": 2
          },
          "yaxis": {
           "automargin": true,
           "gridcolor": "white",
           "linecolor": "white",
           "ticks": "",
           "title": {
            "standoff": 15
           },
           "zerolinecolor": "white",
           "zerolinewidth": 2
          }
         }
        },
        "xaxis": {
         "anchor": "y",
         "domain": [
          0,
          1
         ],
         "title": {
          "text": "Type"
         }
        },
        "yaxis": {
         "anchor": "x",
         "domain": [
          0,
          1
         ],
         "title": {
          "text": "count"
         }
        }
       }
      }
     },
     "metadata": {},
     "output_type": "display_data"
    }
   ],
   "source": [
    "px.histogram(shoe , 'Type')"
   ]
  },
  {
   "cell_type": "code",
   "execution_count": 546,
   "id": "3dcdff04",
   "metadata": {},
   "outputs": [
    {
     "data": {
      "text/plain": [
       "Type\n",
       "Running           332\n",
       "Casual            243\n",
       "Skate             100\n",
       "Fashion            86\n",
       "Lifestyle          76\n",
       "Basketball         52\n",
       "Walking            46\n",
       "Training           34\n",
       "Crossfit           11\n",
       "Trail               6\n",
       "Weightlifting       4\n",
       "Slides              3\n",
       "CrossFit            3\n",
       "Trail Running       3\n",
       "Retro               3\n",
       "Hiking              2\n",
       "Cross-training      1\n",
       "Racing              1\n",
       "Name: count, dtype: int64"
      ]
     },
     "execution_count": 546,
     "metadata": {},
     "output_type": "execute_result"
    }
   ],
   "source": [
    "shoe['Type'].value_counts()"
   ]
  },
  {
   "cell_type": "markdown",
   "id": "8503875a",
   "metadata": {},
   "source": [
    "#### As you can see above the Running Type shoe is the most common shoe type in data. These are the others type shoes :\n",
    "\n",
    "##### Running\n",
    "##### Casual\n",
    "##### Skate\n",
    "##### Fashion\n",
    "##### Lifestyle\n",
    "##### Basketball\n",
    "##### Walking\n",
    "##### Training\n",
    "##### Crossfit"
   ]
  },
  {
   "cell_type": "code",
   "execution_count": 547,
   "id": "4029db73",
   "metadata": {},
   "outputs": [
    {
     "data": {
      "text/plain": [
       "Type\n",
       "Weightlifting     187.500000\n",
       "Cross-training    130.000000\n",
       "Crossfit          130.000000\n",
       "CrossFit          130.000000\n",
       "Running           129.081325\n",
       "Lifestyle         122.828947\n",
       "Trail Running     113.333333\n",
       "Basketball        112.692308\n",
       "Training          110.294118\n",
       "Racing            110.000000\n",
       "Trail              99.166667\n",
       "Retro              90.000000\n",
       "Fashion            83.895349\n",
       "Casual             79.938230\n",
       "Hiking             77.500000\n",
       "Walking            64.978043\n",
       "Skate              62.200000\n",
       "Slides             31.666667\n",
       "Name: Price, dtype: float64"
      ]
     },
     "execution_count": 547,
     "metadata": {},
     "output_type": "execute_result"
    }
   ],
   "source": [
    "shoe.groupby('Type')['Price'].mean().sort_values(ascending=False)"
   ]
  },
  {
   "cell_type": "code",
   "execution_count": 548,
   "id": "13e8ff32",
   "metadata": {},
   "outputs": [
    {
     "data": {
      "application/vnd.plotly.v1+json": {
       "config": {
        "plotlyServerURL": "https://plot.ly"
       },
       "data": [
        {
         "alignmentgroup": "True",
         "bingroup": "x",
         "histfunc": "sum",
         "hovertemplate": "Type=%{x}<br>sum of Price=%{y}<extra></extra>",
         "legendgroup": "",
         "marker": {
          "color": "#636efa",
          "pattern": {
           "shape": ""
          }
         },
         "name": "",
         "offsetgroup": "",
         "orientation": "v",
         "showlegend": false,
         "type": "histogram",
         "x": [
          "Basketball",
          "Casual",
          "Cross-training",
          "CrossFit",
          "Crossfit",
          "Fashion",
          "Hiking",
          "Lifestyle",
          "Racing",
          "Retro",
          "Running",
          "Skate",
          "Slides",
          "Trail",
          "Trail Running",
          "Training",
          "Walking",
          "Weightlifting"
         ],
         "xaxis": "x",
         "y": [
          112.6923076923077,
          79.9382304526749,
          130,
          130,
          130,
          83.8953488372093,
          77.5,
          122.82894736842105,
          110,
          90,
          129.08132530120483,
          62.2,
          31.666666666666668,
          99.16666666666667,
          113.33333333333333,
          110.29411764705883,
          64.97804347826086,
          187.5
         ],
         "yaxis": "y"
        }
       ],
       "layout": {
        "barmode": "relative",
        "legend": {
         "tracegroupgap": 0
        },
        "margin": {
         "t": 60
        },
        "template": {
         "data": {
          "bar": [
           {
            "error_x": {
             "color": "#2a3f5f"
            },
            "error_y": {
             "color": "#2a3f5f"
            },
            "marker": {
             "line": {
              "color": "#E5ECF6",
              "width": 0.5
             },
             "pattern": {
              "fillmode": "overlay",
              "size": 10,
              "solidity": 0.2
             }
            },
            "type": "bar"
           }
          ],
          "barpolar": [
           {
            "marker": {
             "line": {
              "color": "#E5ECF6",
              "width": 0.5
             },
             "pattern": {
              "fillmode": "overlay",
              "size": 10,
              "solidity": 0.2
             }
            },
            "type": "barpolar"
           }
          ],
          "carpet": [
           {
            "aaxis": {
             "endlinecolor": "#2a3f5f",
             "gridcolor": "white",
             "linecolor": "white",
             "minorgridcolor": "white",
             "startlinecolor": "#2a3f5f"
            },
            "baxis": {
             "endlinecolor": "#2a3f5f",
             "gridcolor": "white",
             "linecolor": "white",
             "minorgridcolor": "white",
             "startlinecolor": "#2a3f5f"
            },
            "type": "carpet"
           }
          ],
          "choropleth": [
           {
            "colorbar": {
             "outlinewidth": 0,
             "ticks": ""
            },
            "type": "choropleth"
           }
          ],
          "contour": [
           {
            "colorbar": {
             "outlinewidth": 0,
             "ticks": ""
            },
            "colorscale": [
             [
              0,
              "#0d0887"
             ],
             [
              0.1111111111111111,
              "#46039f"
             ],
             [
              0.2222222222222222,
              "#7201a8"
             ],
             [
              0.3333333333333333,
              "#9c179e"
             ],
             [
              0.4444444444444444,
              "#bd3786"
             ],
             [
              0.5555555555555556,
              "#d8576b"
             ],
             [
              0.6666666666666666,
              "#ed7953"
             ],
             [
              0.7777777777777778,
              "#fb9f3a"
             ],
             [
              0.8888888888888888,
              "#fdca26"
             ],
             [
              1,
              "#f0f921"
             ]
            ],
            "type": "contour"
           }
          ],
          "contourcarpet": [
           {
            "colorbar": {
             "outlinewidth": 0,
             "ticks": ""
            },
            "type": "contourcarpet"
           }
          ],
          "heatmap": [
           {
            "colorbar": {
             "outlinewidth": 0,
             "ticks": ""
            },
            "colorscale": [
             [
              0,
              "#0d0887"
             ],
             [
              0.1111111111111111,
              "#46039f"
             ],
             [
              0.2222222222222222,
              "#7201a8"
             ],
             [
              0.3333333333333333,
              "#9c179e"
             ],
             [
              0.4444444444444444,
              "#bd3786"
             ],
             [
              0.5555555555555556,
              "#d8576b"
             ],
             [
              0.6666666666666666,
              "#ed7953"
             ],
             [
              0.7777777777777778,
              "#fb9f3a"
             ],
             [
              0.8888888888888888,
              "#fdca26"
             ],
             [
              1,
              "#f0f921"
             ]
            ],
            "type": "heatmap"
           }
          ],
          "heatmapgl": [
           {
            "colorbar": {
             "outlinewidth": 0,
             "ticks": ""
            },
            "colorscale": [
             [
              0,
              "#0d0887"
             ],
             [
              0.1111111111111111,
              "#46039f"
             ],
             [
              0.2222222222222222,
              "#7201a8"
             ],
             [
              0.3333333333333333,
              "#9c179e"
             ],
             [
              0.4444444444444444,
              "#bd3786"
             ],
             [
              0.5555555555555556,
              "#d8576b"
             ],
             [
              0.6666666666666666,
              "#ed7953"
             ],
             [
              0.7777777777777778,
              "#fb9f3a"
             ],
             [
              0.8888888888888888,
              "#fdca26"
             ],
             [
              1,
              "#f0f921"
             ]
            ],
            "type": "heatmapgl"
           }
          ],
          "histogram": [
           {
            "marker": {
             "pattern": {
              "fillmode": "overlay",
              "size": 10,
              "solidity": 0.2
             }
            },
            "type": "histogram"
           }
          ],
          "histogram2d": [
           {
            "colorbar": {
             "outlinewidth": 0,
             "ticks": ""
            },
            "colorscale": [
             [
              0,
              "#0d0887"
             ],
             [
              0.1111111111111111,
              "#46039f"
             ],
             [
              0.2222222222222222,
              "#7201a8"
             ],
             [
              0.3333333333333333,
              "#9c179e"
             ],
             [
              0.4444444444444444,
              "#bd3786"
             ],
             [
              0.5555555555555556,
              "#d8576b"
             ],
             [
              0.6666666666666666,
              "#ed7953"
             ],
             [
              0.7777777777777778,
              "#fb9f3a"
             ],
             [
              0.8888888888888888,
              "#fdca26"
             ],
             [
              1,
              "#f0f921"
             ]
            ],
            "type": "histogram2d"
           }
          ],
          "histogram2dcontour": [
           {
            "colorbar": {
             "outlinewidth": 0,
             "ticks": ""
            },
            "colorscale": [
             [
              0,
              "#0d0887"
             ],
             [
              0.1111111111111111,
              "#46039f"
             ],
             [
              0.2222222222222222,
              "#7201a8"
             ],
             [
              0.3333333333333333,
              "#9c179e"
             ],
             [
              0.4444444444444444,
              "#bd3786"
             ],
             [
              0.5555555555555556,
              "#d8576b"
             ],
             [
              0.6666666666666666,
              "#ed7953"
             ],
             [
              0.7777777777777778,
              "#fb9f3a"
             ],
             [
              0.8888888888888888,
              "#fdca26"
             ],
             [
              1,
              "#f0f921"
             ]
            ],
            "type": "histogram2dcontour"
           }
          ],
          "mesh3d": [
           {
            "colorbar": {
             "outlinewidth": 0,
             "ticks": ""
            },
            "type": "mesh3d"
           }
          ],
          "parcoords": [
           {
            "line": {
             "colorbar": {
              "outlinewidth": 0,
              "ticks": ""
             }
            },
            "type": "parcoords"
           }
          ],
          "pie": [
           {
            "automargin": true,
            "type": "pie"
           }
          ],
          "scatter": [
           {
            "fillpattern": {
             "fillmode": "overlay",
             "size": 10,
             "solidity": 0.2
            },
            "type": "scatter"
           }
          ],
          "scatter3d": [
           {
            "line": {
             "colorbar": {
              "outlinewidth": 0,
              "ticks": ""
             }
            },
            "marker": {
             "colorbar": {
              "outlinewidth": 0,
              "ticks": ""
             }
            },
            "type": "scatter3d"
           }
          ],
          "scattercarpet": [
           {
            "marker": {
             "colorbar": {
              "outlinewidth": 0,
              "ticks": ""
             }
            },
            "type": "scattercarpet"
           }
          ],
          "scattergeo": [
           {
            "marker": {
             "colorbar": {
              "outlinewidth": 0,
              "ticks": ""
             }
            },
            "type": "scattergeo"
           }
          ],
          "scattergl": [
           {
            "marker": {
             "colorbar": {
              "outlinewidth": 0,
              "ticks": ""
             }
            },
            "type": "scattergl"
           }
          ],
          "scattermapbox": [
           {
            "marker": {
             "colorbar": {
              "outlinewidth": 0,
              "ticks": ""
             }
            },
            "type": "scattermapbox"
           }
          ],
          "scatterpolar": [
           {
            "marker": {
             "colorbar": {
              "outlinewidth": 0,
              "ticks": ""
             }
            },
            "type": "scatterpolar"
           }
          ],
          "scatterpolargl": [
           {
            "marker": {
             "colorbar": {
              "outlinewidth": 0,
              "ticks": ""
             }
            },
            "type": "scatterpolargl"
           }
          ],
          "scatterternary": [
           {
            "marker": {
             "colorbar": {
              "outlinewidth": 0,
              "ticks": ""
             }
            },
            "type": "scatterternary"
           }
          ],
          "surface": [
           {
            "colorbar": {
             "outlinewidth": 0,
             "ticks": ""
            },
            "colorscale": [
             [
              0,
              "#0d0887"
             ],
             [
              0.1111111111111111,
              "#46039f"
             ],
             [
              0.2222222222222222,
              "#7201a8"
             ],
             [
              0.3333333333333333,
              "#9c179e"
             ],
             [
              0.4444444444444444,
              "#bd3786"
             ],
             [
              0.5555555555555556,
              "#d8576b"
             ],
             [
              0.6666666666666666,
              "#ed7953"
             ],
             [
              0.7777777777777778,
              "#fb9f3a"
             ],
             [
              0.8888888888888888,
              "#fdca26"
             ],
             [
              1,
              "#f0f921"
             ]
            ],
            "type": "surface"
           }
          ],
          "table": [
           {
            "cells": {
             "fill": {
              "color": "#EBF0F8"
             },
             "line": {
              "color": "white"
             }
            },
            "header": {
             "fill": {
              "color": "#C8D4E3"
             },
             "line": {
              "color": "white"
             }
            },
            "type": "table"
           }
          ]
         },
         "layout": {
          "annotationdefaults": {
           "arrowcolor": "#2a3f5f",
           "arrowhead": 0,
           "arrowwidth": 1
          },
          "autotypenumbers": "strict",
          "coloraxis": {
           "colorbar": {
            "outlinewidth": 0,
            "ticks": ""
           }
          },
          "colorscale": {
           "diverging": [
            [
             0,
             "#8e0152"
            ],
            [
             0.1,
             "#c51b7d"
            ],
            [
             0.2,
             "#de77ae"
            ],
            [
             0.3,
             "#f1b6da"
            ],
            [
             0.4,
             "#fde0ef"
            ],
            [
             0.5,
             "#f7f7f7"
            ],
            [
             0.6,
             "#e6f5d0"
            ],
            [
             0.7,
             "#b8e186"
            ],
            [
             0.8,
             "#7fbc41"
            ],
            [
             0.9,
             "#4d9221"
            ],
            [
             1,
             "#276419"
            ]
           ],
           "sequential": [
            [
             0,
             "#0d0887"
            ],
            [
             0.1111111111111111,
             "#46039f"
            ],
            [
             0.2222222222222222,
             "#7201a8"
            ],
            [
             0.3333333333333333,
             "#9c179e"
            ],
            [
             0.4444444444444444,
             "#bd3786"
            ],
            [
             0.5555555555555556,
             "#d8576b"
            ],
            [
             0.6666666666666666,
             "#ed7953"
            ],
            [
             0.7777777777777778,
             "#fb9f3a"
            ],
            [
             0.8888888888888888,
             "#fdca26"
            ],
            [
             1,
             "#f0f921"
            ]
           ],
           "sequentialminus": [
            [
             0,
             "#0d0887"
            ],
            [
             0.1111111111111111,
             "#46039f"
            ],
            [
             0.2222222222222222,
             "#7201a8"
            ],
            [
             0.3333333333333333,
             "#9c179e"
            ],
            [
             0.4444444444444444,
             "#bd3786"
            ],
            [
             0.5555555555555556,
             "#d8576b"
            ],
            [
             0.6666666666666666,
             "#ed7953"
            ],
            [
             0.7777777777777778,
             "#fb9f3a"
            ],
            [
             0.8888888888888888,
             "#fdca26"
            ],
            [
             1,
             "#f0f921"
            ]
           ]
          },
          "colorway": [
           "#636efa",
           "#EF553B",
           "#00cc96",
           "#ab63fa",
           "#FFA15A",
           "#19d3f3",
           "#FF6692",
           "#B6E880",
           "#FF97FF",
           "#FECB52"
          ],
          "font": {
           "color": "#2a3f5f"
          },
          "geo": {
           "bgcolor": "white",
           "lakecolor": "white",
           "landcolor": "#E5ECF6",
           "showlakes": true,
           "showland": true,
           "subunitcolor": "white"
          },
          "hoverlabel": {
           "align": "left"
          },
          "hovermode": "closest",
          "mapbox": {
           "style": "light"
          },
          "paper_bgcolor": "white",
          "plot_bgcolor": "#E5ECF6",
          "polar": {
           "angularaxis": {
            "gridcolor": "white",
            "linecolor": "white",
            "ticks": ""
           },
           "bgcolor": "#E5ECF6",
           "radialaxis": {
            "gridcolor": "white",
            "linecolor": "white",
            "ticks": ""
           }
          },
          "scene": {
           "xaxis": {
            "backgroundcolor": "#E5ECF6",
            "gridcolor": "white",
            "gridwidth": 2,
            "linecolor": "white",
            "showbackground": true,
            "ticks": "",
            "zerolinecolor": "white"
           },
           "yaxis": {
            "backgroundcolor": "#E5ECF6",
            "gridcolor": "white",
            "gridwidth": 2,
            "linecolor": "white",
            "showbackground": true,
            "ticks": "",
            "zerolinecolor": "white"
           },
           "zaxis": {
            "backgroundcolor": "#E5ECF6",
            "gridcolor": "white",
            "gridwidth": 2,
            "linecolor": "white",
            "showbackground": true,
            "ticks": "",
            "zerolinecolor": "white"
           }
          },
          "shapedefaults": {
           "line": {
            "color": "#2a3f5f"
           }
          },
          "ternary": {
           "aaxis": {
            "gridcolor": "white",
            "linecolor": "white",
            "ticks": ""
           },
           "baxis": {
            "gridcolor": "white",
            "linecolor": "white",
            "ticks": ""
           },
           "bgcolor": "#E5ECF6",
           "caxis": {
            "gridcolor": "white",
            "linecolor": "white",
            "ticks": ""
           }
          },
          "title": {
           "x": 0.05
          },
          "xaxis": {
           "automargin": true,
           "gridcolor": "white",
           "linecolor": "white",
           "ticks": "",
           "title": {
            "standoff": 15
           },
           "zerolinecolor": "white",
           "zerolinewidth": 2
          },
          "yaxis": {
           "automargin": true,
           "gridcolor": "white",
           "linecolor": "white",
           "ticks": "",
           "title": {
            "standoff": 15
           },
           "zerolinecolor": "white",
           "zerolinewidth": 2
          }
         }
        },
        "xaxis": {
         "anchor": "y",
         "domain": [
          0,
          1
         ],
         "title": {
          "text": "Type"
         }
        },
        "yaxis": {
         "anchor": "x",
         "domain": [
          0,
          1
         ],
         "title": {
          "text": "sum of Price"
         }
        }
       }
      }
     },
     "metadata": {},
     "output_type": "display_data"
    }
   ],
   "source": [
    "shoe_01 = shoe.groupby('Type')['Price'].mean().reset_index()\n",
    "px.histogram(shoe_01 , x = 'Type' , y = 'Price')"
   ]
  },
  {
   "cell_type": "code",
   "execution_count": 549,
   "id": "c442b840",
   "metadata": {},
   "outputs": [
    {
     "data": {
      "text/html": [
       "<div>\n",
       "<style scoped>\n",
       "    .dataframe tbody tr th:only-of-type {\n",
       "        vertical-align: middle;\n",
       "    }\n",
       "\n",
       "    .dataframe tbody tr th {\n",
       "        vertical-align: top;\n",
       "    }\n",
       "\n",
       "    .dataframe thead th {\n",
       "        text-align: right;\n",
       "    }\n",
       "</style>\n",
       "<table border=\"1\" class=\"dataframe\">\n",
       "  <thead>\n",
       "    <tr style=\"text-align: right;\">\n",
       "      <th></th>\n",
       "      <th>Type</th>\n",
       "      <th>Price</th>\n",
       "    </tr>\n",
       "  </thead>\n",
       "  <tbody>\n",
       "    <tr>\n",
       "      <th>17</th>\n",
       "      <td>Weightlifting</td>\n",
       "      <td>187.500000</td>\n",
       "    </tr>\n",
       "    <tr>\n",
       "      <th>2</th>\n",
       "      <td>Cross-training</td>\n",
       "      <td>130.000000</td>\n",
       "    </tr>\n",
       "    <tr>\n",
       "      <th>4</th>\n",
       "      <td>Crossfit</td>\n",
       "      <td>130.000000</td>\n",
       "    </tr>\n",
       "    <tr>\n",
       "      <th>3</th>\n",
       "      <td>CrossFit</td>\n",
       "      <td>130.000000</td>\n",
       "    </tr>\n",
       "    <tr>\n",
       "      <th>10</th>\n",
       "      <td>Running</td>\n",
       "      <td>129.081325</td>\n",
       "    </tr>\n",
       "    <tr>\n",
       "      <th>7</th>\n",
       "      <td>Lifestyle</td>\n",
       "      <td>122.828947</td>\n",
       "    </tr>\n",
       "    <tr>\n",
       "      <th>14</th>\n",
       "      <td>Trail Running</td>\n",
       "      <td>113.333333</td>\n",
       "    </tr>\n",
       "    <tr>\n",
       "      <th>0</th>\n",
       "      <td>Basketball</td>\n",
       "      <td>112.692308</td>\n",
       "    </tr>\n",
       "    <tr>\n",
       "      <th>15</th>\n",
       "      <td>Training</td>\n",
       "      <td>110.294118</td>\n",
       "    </tr>\n",
       "    <tr>\n",
       "      <th>8</th>\n",
       "      <td>Racing</td>\n",
       "      <td>110.000000</td>\n",
       "    </tr>\n",
       "    <tr>\n",
       "      <th>13</th>\n",
       "      <td>Trail</td>\n",
       "      <td>99.166667</td>\n",
       "    </tr>\n",
       "    <tr>\n",
       "      <th>9</th>\n",
       "      <td>Retro</td>\n",
       "      <td>90.000000</td>\n",
       "    </tr>\n",
       "    <tr>\n",
       "      <th>5</th>\n",
       "      <td>Fashion</td>\n",
       "      <td>83.895349</td>\n",
       "    </tr>\n",
       "    <tr>\n",
       "      <th>1</th>\n",
       "      <td>Casual</td>\n",
       "      <td>79.938230</td>\n",
       "    </tr>\n",
       "    <tr>\n",
       "      <th>6</th>\n",
       "      <td>Hiking</td>\n",
       "      <td>77.500000</td>\n",
       "    </tr>\n",
       "    <tr>\n",
       "      <th>16</th>\n",
       "      <td>Walking</td>\n",
       "      <td>64.978043</td>\n",
       "    </tr>\n",
       "    <tr>\n",
       "      <th>11</th>\n",
       "      <td>Skate</td>\n",
       "      <td>62.200000</td>\n",
       "    </tr>\n",
       "    <tr>\n",
       "      <th>12</th>\n",
       "      <td>Slides</td>\n",
       "      <td>31.666667</td>\n",
       "    </tr>\n",
       "  </tbody>\n",
       "</table>\n",
       "</div>"
      ],
      "text/plain": [
       "              Type       Price\n",
       "17   Weightlifting  187.500000\n",
       "2   Cross-training  130.000000\n",
       "4         Crossfit  130.000000\n",
       "3         CrossFit  130.000000\n",
       "10         Running  129.081325\n",
       "7        Lifestyle  122.828947\n",
       "14   Trail Running  113.333333\n",
       "0       Basketball  112.692308\n",
       "15        Training  110.294118\n",
       "8           Racing  110.000000\n",
       "13           Trail   99.166667\n",
       "9            Retro   90.000000\n",
       "5          Fashion   83.895349\n",
       "1           Casual   79.938230\n",
       "6           Hiking   77.500000\n",
       "16         Walking   64.978043\n",
       "11           Skate   62.200000\n",
       "12          Slides   31.666667"
      ]
     },
     "execution_count": 549,
     "metadata": {},
     "output_type": "execute_result"
    }
   ],
   "source": [
    "shoe.groupby('Type')['Price'].mean().reset_index().sort_values(by='Price',ascending=False)"
   ]
  },
  {
   "cell_type": "markdown",
   "id": "fc877f42",
   "metadata": {},
   "source": [
    "Weightlifting has the highest shoe price average in the data set."
   ]
  },
  {
   "cell_type": "code",
   "execution_count": 550,
   "id": "d3210c51",
   "metadata": {},
   "outputs": [
    {
     "data": {
      "text/plain": [
       "<Axes: xlabel='Size', ylabel='Count'>"
      ]
     },
     "execution_count": 550,
     "metadata": {},
     "output_type": "execute_result"
    },
    {
     "data": {
      "image/png": "[encoded data removed]",
      "text/plain": [
       "<Figure size 640x480 with 1 Axes>"
      ]
     },
     "metadata": {},
     "output_type": "display_data"
    }
   ],
   "source": [
    "sns.histplot(shoe , x = 'Size' , hue='Gender')"
   ]
  },
  {
   "cell_type": "code",
   "execution_count": 551,
   "id": "04366da8",
   "metadata": {},
   "outputs": [
    {
     "data": {
      "application/vnd.plotly.v1+json": {
       "config": {
        "plotlyServerURL": "https://plot.ly"
       },
       "data": [
        {
         "alignmentgroup": "True",
         "bingroup": "x",
         "hovertemplate": "Gender=Men<br>Size=%{x}<br>count=%{y}<extra></extra>",
         "legendgroup": "Men",
         "marker": {
          "color": "#636efa",
          "pattern": {
           "shape": ""
          }
         },
         "name": "Men",
         "offsetgroup": "Men",
         "orientation": "v",
         "showlegend": true,
         "type": "histogram",
         "x": [
          10,
          9.5,
          11,
          8.5,
          10.5,
          9,
          9,
          10,
          9.5,
          11.5,
          10,
          10,
          11,
          9.5,
          10,
          8.5,
          9,
          10,
          9,
          9,
          9.5,
          11,
          9.5,
          10,
          8,
          11,
          10,
          10.5,
          9.5,
          12,
          9.5,
          11,
          9,
          10,
          11,
          8.5,
          10,
          9,
          9.5,
          10.5,
          10,
          10,
          8.5,
          9,
          11,
          10,
          9.5,
          9.5,
          12,
          8,
          10.5,
          11,
          9,
          8.5,
          9,
          10,
          9.5,
          11,
          11,
          9.5,
          9.5,
          10,
          10,
          11,
          9.5,
          10,
          9.5,
          8,
          11,
          10.5,
          8,
          11,
          9.5,
          11,
          9,
          10,
          10.5,
          11,
          9.5,
          10,
          9.5,
          11,
          10,
          11,
          11.5,
          9,
          10,
          10,
          9,
          8.5,
          11.5,
          9.5,
          10,
          10.5,
          10,
          9.5,
          11,
          10,
          10,
          10,
          10.5,
          9,
          12,
          11,
          9.5,
          11.5,
          8.5,
          10,
          10.5,
          9.5,
          9,
          11,
          8.5,
          9,
          10,
          11,
          9.5,
          10.5,
          8.5,
          9,
          12,
          10,
          8.5,
          9.5,
          11,
          10.5,
          11,
          9,
          10,
          10.5,
          9.5,
          11,
          12,
          9,
          12,
          8.5,
          11,
          8,
          11,
          9.5,
          10,
          8,
          11,
          12,
          10,
          9.5,
          10.5,
          12,
          11,
          8.5,
          9.5,
          10,
          8.5,
          9.5,
          11,
          10,
          9,
          11,
          10.5,
          9,
          9,
          9.5,
          11,
          8.5,
          10,
          10,
          9,
          8.5,
          10,
          9.5,
          9.5,
          9,
          11,
          8,
          10.5,
          10,
          9,
          8.5,
          10,
          11,
          9.5,
          9.5,
          12,
          11,
          12,
          8.5,
          10.5,
          9.5,
          9,
          11,
          10,
          10,
          11,
          9,
          11,
          10,
          8.5,
          9,
          10,
          9.5,
          11,
          12,
          9.5,
          8.5,
          9,
          11,
          10,
          10.5,
          9.5,
          10.5,
          8.5,
          9,
          9.5,
          9.5,
          8.5,
          10,
          11.5,
          9.5,
          11.5,
          10,
          8.5,
          9,
          11,
          11,
          10.5,
          10.5,
          9.5,
          9,
          11,
          9.5,
          11,
          10,
          8.5,
          10,
          9,
          10.5,
          11,
          9.5,
          8.5,
          8,
          11,
          9,
          9.5,
          12,
          11,
          10,
          8.5,
          9,
          9,
          11,
          9.5,
          8.5,
          9.5,
          10,
          10,
          9.5,
          10,
          8,
          9.5,
          10,
          10,
          11,
          9.5,
          8.5,
          9.5,
          11,
          11,
          10,
          9,
          9.5,
          8,
          11,
          9.5,
          10,
          10.5,
          8.5,
          11.5,
          9,
          11,
          9.5,
          10,
          12,
          11,
          10,
          8.5,
          9,
          9.5,
          10,
          9.5,
          10,
          11,
          8,
          9.5,
          10,
          11.5,
          10,
          9.5,
          8.5,
          11,
          10.5,
          12,
          9.5,
          9.5,
          10,
          9,
          11.5,
          8.5,
          10.5,
          12,
          9,
          12,
          10,
          9.5,
          11,
          10.5,
          11,
          8,
          8.5,
          12,
          11,
          12,
          11,
          10.5,
          9.5,
          8.5,
          10,
          12,
          9.5,
          8,
          10.5,
          10.5,
          11,
          9.5,
          9.5,
          8.5,
          11,
          9,
          10.5,
          10,
          8.5,
          9.5,
          11,
          8,
          10,
          12,
          9,
          11,
          9.5,
          8,
          10.5,
          10,
          11,
          9,
          10.5,
          10,
          9,
          11,
          10,
          9.5,
          11.5,
          8.5,
          11.5,
          9,
          8.5,
          10,
          9,
          11,
          9,
          10,
          10,
          11,
          9,
          9,
          9,
          9.5,
          11,
          9.5,
          10,
          9.5,
          10.5,
          11.5,
          12,
          9.5,
          10.5,
          11,
          12,
          11,
          9,
          10.5,
          9.5,
          10,
          10.5,
          12,
          8.5,
          9.5,
          9,
          10.5,
          11,
          10.5,
          8.5,
          9.5,
          12,
          11,
          9,
          10,
          12,
          9,
          11,
          8,
          9.5,
          10.5,
          10,
          9,
          9,
          10,
          9.5,
          11,
          8.5,
          9,
          10,
          9.5,
          8.5,
          11,
          9,
          11,
          9,
          8,
          10,
          9.5,
          11,
          9,
          12,
          9,
          12,
          10,
          10.5,
          8.5,
          10,
          11.5,
          9,
          10,
          11.5,
          9.5,
          9,
          10,
          10.5,
          10,
          11,
          8.5,
          9.5,
          9.5,
          9,
          11.5,
          10.5,
          8,
          10,
          9.5,
          9.5,
          9,
          10,
          11.5,
          11,
          11,
          10.5,
          9,
          9,
          11,
          12,
          9.5,
          10,
          11,
          10,
          10.5,
          10.5,
          11.5,
          9,
          9,
          8,
          9.5,
          12,
          8,
          10,
          9.5,
          11,
          10.5,
          9.5,
          10,
          9.5,
          8,
          11.5,
          9,
          9.5,
          10,
          11,
          10.5,
          9.5,
          10,
          9.5,
          8,
          11.5,
          9,
          9.5,
          10,
          11,
          9.5,
          10,
          8,
          11.5,
          9.5,
          10,
          9.5,
          9,
          9,
          11,
          11,
          9.5,
          10,
          8.5,
          11,
          12,
          10.5,
          8.5,
          10,
          12,
          9,
          10.5,
          8.5,
          10.5,
          9.5,
          11,
          8.5,
          7,
          9.5,
          9.5,
          8
         ],
         "xaxis": "x",
         "yaxis": "y"
        },
        {
         "alignmentgroup": "True",
         "bingroup": "x",
         "hovertemplate": "Gender=Women<br>Size=%{x}<br>count=%{y}<extra></extra>",
         "legendgroup": "Women",
         "marker": {
          "color": "#EF553B",
          "pattern": {
           "shape": ""
          }
         },
         "name": "Women",
         "offsetgroup": "Women",
         "orientation": "v",
         "showlegend": true,
         "type": "histogram",
         "x": [
          8,
          7.5,
          6.5,
          9,
          7,
          8.5,
          6,
          8,
          7.5,
          8.5,
          7.5,
          8,
          9,
          7,
          7.5,
          9,
          7,
          8.5,
          7.5,
          9,
          8.5,
          7.5,
          7,
          8,
          6,
          7.5,
          6.5,
          7,
          9,
          7,
          8.5,
          7,
          8,
          8.5,
          6,
          7.5,
          9,
          7,
          7,
          7.5,
          7.5,
          6,
          8,
          7,
          7.5,
          7,
          6.5,
          8,
          8.5,
          7.5,
          6.5,
          9.5,
          8.5,
          7,
          8.5,
          6,
          7.5,
          9,
          8,
          8,
          7.5,
          9,
          7.5,
          6.5,
          8,
          8,
          7.5,
          9,
          8.5,
          8.5,
          7,
          9,
          7.5,
          7.5,
          7.5,
          8.5,
          6.5,
          9.5,
          8.5,
          9.5,
          8.5,
          7.5,
          8,
          7,
          7.5,
          9.5,
          6.5,
          9,
          8.5,
          8,
          6.5,
          7.5,
          9,
          8,
          7,
          9,
          8.5,
          8.5,
          7,
          7.5,
          8.5,
          9,
          7,
          8.5,
          8.5,
          7,
          8.5,
          8,
          7,
          6,
          7.5,
          9,
          6,
          8,
          7,
          9,
          8.5,
          7.5,
          9,
          8,
          6.5,
          8.5,
          9,
          7.5,
          7,
          8.5,
          7,
          6.5,
          7,
          7.5,
          9.5,
          8.5,
          6.5,
          8.5,
          7,
          8.5,
          7,
          8,
          7.5,
          6.5,
          8.5,
          7,
          9,
          8,
          7.5,
          8,
          6.5,
          7.5,
          8,
          7,
          9,
          6.5,
          8.5,
          7.5,
          7,
          7,
          8,
          7.5,
          8,
          6.5,
          7.5,
          8.5,
          9,
          8.5,
          7,
          9,
          7,
          6.5,
          6.5,
          7.5,
          8.5,
          9,
          7.5,
          9.5,
          8.5,
          7,
          7.5,
          6.5,
          6,
          7.5,
          8,
          9,
          7,
          9.5,
          7.5,
          8.5,
          6,
          6.5,
          8.5,
          8,
          7.5,
          7.5,
          7,
          8,
          6.5,
          9.5,
          8,
          7.5,
          6,
          7,
          8,
          8,
          7.5,
          9,
          7.5,
          8.5,
          7,
          6.5,
          8.5,
          8,
          7.5,
          8.5,
          7,
          9.5,
          6,
          7,
          7,
          9,
          7,
          8,
          7,
          8.5,
          7,
          7.5,
          8,
          9,
          7.5,
          8.5,
          6,
          7.5,
          7.5,
          8.5,
          7.5,
          8,
          7.5,
          8.5,
          7.5,
          7,
          8,
          9,
          7,
          7.5,
          8,
          6.5,
          7,
          7.5,
          8.5,
          9,
          6.5,
          8,
          7,
          7.5,
          9,
          8.5,
          9,
          8,
          9,
          8,
          7.5,
          7.5,
          9,
          6.5,
          7.5,
          6.5,
          8,
          7,
          8,
          7,
          7.5,
          9,
          7,
          8.5,
          6.5,
          8,
          7,
          8.5,
          6.5,
          7.5,
          7.5,
          8,
          6,
          7.5,
          9,
          6.5,
          8,
          8,
          7.5,
          9.5,
          8,
          7,
          7,
          8.5,
          8,
          7,
          9.5,
          8.5,
          7,
          6.5,
          7.5,
          9.5,
          6.5,
          8.5,
          7,
          9,
          7,
          7.5,
          8,
          9.5,
          7.5,
          8,
          6.5,
          7.5,
          7.5,
          9,
          7.5,
          8.5,
          8.5,
          7.5,
          8.5,
          6,
          7.5,
          8.5,
          7,
          7.5,
          8.5,
          8,
          7.5,
          8.5,
          6.5,
          9.5,
          7,
          8.5,
          7.5,
          6.5,
          8.5,
          7.5,
          8,
          9,
          7,
          7.5,
          7,
          8,
          8.5,
          7,
          8.5,
          7,
          9.5,
          7,
          8,
          7.5,
          9,
          9,
          7.5,
          7.5,
          7,
          6.5,
          8.5,
          7.5,
          8.5,
          6.5,
          9,
          8,
          7.5,
          7.5,
          8,
          6.5,
          7,
          8.5,
          8.5,
          7,
          8.5,
          7.5,
          6,
          9,
          8.5,
          7.5,
          8.5,
          7.5,
          7.5,
          9.5,
          8,
          7,
          7.5,
          8.5,
          8,
          7.5,
          7.5,
          8.5,
          7.5,
          9,
          8,
          7,
          7.5,
          8.5,
          8,
          7,
          8.5,
          8,
          7,
          6.5,
          8,
          7,
          8.5,
          7.5,
          7,
          8.5,
          7.5,
          7,
          8,
          6,
          9,
          6.5,
          8,
          7,
          7,
          8.5,
          9,
          7,
          8,
          8.5,
          6.5,
          7.5,
          8.5,
          9,
          8,
          9,
          7.5,
          7.5,
          6.5,
          8.5,
          7,
          8.5,
          8.5,
          8,
          9,
          7.5,
          7.5,
          6.5,
          8.5,
          7,
          8.5,
          8.5,
          7.5,
          9.5,
          6.5,
          8,
          7.5,
          8.5,
          7.5,
          9,
          7.5,
          8,
          8.5,
          7,
          9,
          7.5,
          6.5,
          7.5,
          8,
          6,
          9,
          8,
          7,
          9,
          8.5,
          8.5,
          7.5,
          6,
          10,
          7.5,
          7.5
         ],
         "xaxis": "x",
         "yaxis": "y"
        }
       ],
       "layout": {
        "barmode": "relative",
        "legend": {
         "title": {
          "text": "Gender"
         },
         "tracegroupgap": 0
        },
        "margin": {
         "t": 60
        },
        "template": {
         "data": {
          "bar": [
           {
            "error_x": {
             "color": "#2a3f5f"
            },
            "error_y": {
             "color": "#2a3f5f"
            },
            "marker": {
             "line": {
              "color": "#E5ECF6",
              "width": 0.5
             },
             "pattern": {
              "fillmode": "overlay",
              "size": 10,
              "solidity": 0.2
             }
            },
            "type": "bar"
           }
          ],
          "barpolar": [
           {
            "marker": {
             "line": {
              "color": "#E5ECF6",
              "width": 0.5
             },
             "pattern": {
              "fillmode": "overlay",
              "size": 10,
              "solidity": 0.2
             }
            },
            "type": "barpolar"
           }
          ],
          "carpet": [
           {
            "aaxis": {
             "endlinecolor": "#2a3f5f",
             "gridcolor": "white",
             "linecolor": "white",
             "minorgridcolor": "white",
             "startlinecolor": "#2a3f5f"
            },
            "baxis": {
             "endlinecolor": "#2a3f5f",
             "gridcolor": "white",
             "linecolor": "white",
             "minorgridcolor": "white",
             "startlinecolor": "#2a3f5f"
            },
            "type": "carpet"
           }
          ],
          "choropleth": [
           {
            "colorbar": {
             "outlinewidth": 0,
             "ticks": ""
            },
            "type": "choropleth"
           }
          ],
          "contour": [
           {
            "colorbar": {
             "outlinewidth": 0,
             "ticks": ""
            },
            "colorscale": [
             [
              0,
              "#0d0887"
             ],
             [
              0.1111111111111111,
              "#46039f"
             ],
             [
              0.2222222222222222,
              "#7201a8"
             ],
             [
              0.3333333333333333,
              "#9c179e"
             ],
             [
              0.4444444444444444,
              "#bd3786"
             ],
             [
              0.5555555555555556,
              "#d8576b"
             ],
             [
              0.6666666666666666,
              "#ed7953"
             ],
             [
              0.7777777777777778,
              "#fb9f3a"
             ],
             [
              0.8888888888888888,
              "#fdca26"
             ],
             [
              1,
              "#f0f921"
             ]
            ],
            "type": "contour"
           }
          ],
          "contourcarpet": [
           {
            "colorbar": {
             "outlinewidth": 0,
             "ticks": ""
            },
            "type": "contourcarpet"
           }
          ],
          "heatmap": [
           {
            "colorbar": {
             "outlinewidth": 0,
             "ticks": ""
            },
            "colorscale": [
             [
              0,
              "#0d0887"
             ],
             [
              0.1111111111111111,
              "#46039f"
             ],
             [
              0.2222222222222222,
              "#7201a8"
             ],
             [
              0.3333333333333333,
              "#9c179e"
             ],
             [
              0.4444444444444444,
              "#bd3786"
             ],
             [
              0.5555555555555556,
              "#d8576b"
             ],
             [
              0.6666666666666666,
              "#ed7953"
             ],
             [
              0.7777777777777778,
              "#fb9f3a"
             ],
             [
              0.8888888888888888,
              "#fdca26"
             ],
             [
              1,
              "#f0f921"
             ]
            ],
            "type": "heatmap"
           }
          ],
          "heatmapgl": [
           {
            "colorbar": {
             "outlinewidth": 0,
             "ticks": ""
            },
            "colorscale": [
             [
              0,
              "#0d0887"
             ],
             [
              0.1111111111111111,
              "#46039f"
             ],
             [
              0.2222222222222222,
              "#7201a8"
             ],
             [
              0.3333333333333333,
              "#9c179e"
             ],
             [
              0.4444444444444444,
              "#bd3786"
             ],
             [
              0.5555555555555556,
              "#d8576b"
             ],
             [
              0.6666666666666666,
              "#ed7953"
             ],
             [
              0.7777777777777778,
              "#fb9f3a"
             ],
             [
              0.8888888888888888,
              "#fdca26"
             ],
             [
              1,
              "#f0f921"
             ]
            ],
            "type": "heatmapgl"
           }
          ],
          "histogram": [
           {
            "marker": {
             "pattern": {
              "fillmode": "overlay",
              "size": 10,
              "solidity": 0.2
             }
            },
            "type": "histogram"
           }
          ],
          "histogram2d": [
           {
            "colorbar": {
             "outlinewidth": 0,
             "ticks": ""
            },
            "colorscale": [
             [
              0,
              "#0d0887"
             ],
             [
              0.1111111111111111,
              "#46039f"
             ],
             [
              0.2222222222222222,
              "#7201a8"
             ],
             [
              0.3333333333333333,
              "#9c179e"
             ],
             [
              0.4444444444444444,
              "#bd3786"
             ],
             [
              0.5555555555555556,
              "#d8576b"
             ],
             [
              0.6666666666666666,
              "#ed7953"
             ],
             [
              0.7777777777777778,
              "#fb9f3a"
             ],
             [
              0.8888888888888888,
              "#fdca26"
             ],
             [
              1,
              "#f0f921"
             ]
            ],
            "type": "histogram2d"
           }
          ],
          "histogram2dcontour": [
           {
            "colorbar": {
             "outlinewidth": 0,
             "ticks": ""
            },
            "colorscale": [
             [
              0,
              "#0d0887"
             ],
             [
              0.1111111111111111,
              "#46039f"
             ],
             [
              0.2222222222222222,
              "#7201a8"
             ],
             [
              0.3333333333333333,
              "#9c179e"
             ],
             [
              0.4444444444444444,
              "#bd3786"
             ],
             [
              0.5555555555555556,
              "#d8576b"
             ],
             [
              0.6666666666666666,
              "#ed7953"
             ],
             [
              0.7777777777777778,
              "#fb9f3a"
             ],
             [
              0.8888888888888888,
              "#fdca26"
             ],
             [
              1,
              "#f0f921"
             ]
            ],
            "type": "histogram2dcontour"
           }
          ],
          "mesh3d": [
           {
            "colorbar": {
             "outlinewidth": 0,
             "ticks": ""
            },
            "type": "mesh3d"
           }
          ],
          "parcoords": [
           {
            "line": {
             "colorbar": {
              "outlinewidth": 0,
              "ticks": ""
             }
            },
            "type": "parcoords"
           }
          ],
          "pie": [
           {
            "automargin": true,
            "type": "pie"
           }
          ],
          "scatter": [
           {
            "fillpattern": {
             "fillmode": "overlay",
             "size": 10,
             "solidity": 0.2
            },
            "type": "scatter"
           }
          ],
          "scatter3d": [
           {
            "line": {
             "colorbar": {
              "outlinewidth": 0,
              "ticks": ""
             }
            },
            "marker": {
             "colorbar": {
              "outlinewidth": 0,
              "ticks": ""
             }
            },
            "type": "scatter3d"
           }
          ],
          "scattercarpet": [
           {
            "marker": {
             "colorbar": {
              "outlinewidth": 0,
              "ticks": ""
             }
            },
            "type": "scattercarpet"
           }
          ],
          "scattergeo": [
           {
            "marker": {
             "colorbar": {
              "outlinewidth": 0,
              "ticks": ""
             }
            },
            "type": "scattergeo"
           }
          ],
          "scattergl": [
           {
            "marker": {
             "colorbar": {
              "outlinewidth": 0,
              "ticks": ""
             }
            },
            "type": "scattergl"
           }
          ],
          "scattermapbox": [
           {
            "marker": {
             "colorbar": {
              "outlinewidth": 0,
              "ticks": ""
             }
            },
            "type": "scattermapbox"
           }
          ],
          "scatterpolar": [
           {
            "marker": {
             "colorbar": {
              "outlinewidth": 0,
              "ticks": ""
             }
            },
            "type": "scatterpolar"
           }
          ],
          "scatterpolargl": [
           {
            "marker": {
             "colorbar": {
              "outlinewidth": 0,
              "ticks": ""
             }
            },
            "type": "scatterpolargl"
           }
          ],
          "scatterternary": [
           {
            "marker": {
             "colorbar": {
              "outlinewidth": 0,
              "ticks": ""
             }
            },
            "type": "scatterternary"
           }
          ],
          "surface": [
           {
            "colorbar": {
             "outlinewidth": 0,
             "ticks": ""
            },
            "colorscale": [
             [
              0,
              "#0d0887"
             ],
             [
              0.1111111111111111,
              "#46039f"
             ],
             [
              0.2222222222222222,
              "#7201a8"
             ],
             [
              0.3333333333333333,
              "#9c179e"
             ],
             [
              0.4444444444444444,
              "#bd3786"
             ],
             [
              0.5555555555555556,
              "#d8576b"
             ],
             [
              0.6666666666666666,
              "#ed7953"
             ],
             [
              0.7777777777777778,
              "#fb9f3a"
             ],
             [
              0.8888888888888888,
              "#fdca26"
             ],
             [
              1,
              "#f0f921"
             ]
            ],
            "type": "surface"
           }
          ],
          "table": [
           {
            "cells": {
             "fill": {
              "color": "#EBF0F8"
             },
             "line": {
              "color": "white"
             }
            },
            "header": {
             "fill": {
              "color": "#C8D4E3"
             },
             "line": {
              "color": "white"
             }
            },
            "type": "table"
           }
          ]
         },
         "layout": {
          "annotationdefaults": {
           "arrowcolor": "#2a3f5f",
           "arrowhead": 0,
           "arrowwidth": 1
          },
          "autotypenumbers": "strict",
          "coloraxis": {
           "colorbar": {
            "outlinewidth": 0,
            "ticks": ""
           }
          },
          "colorscale": {
           "diverging": [
            [
             0,
             "#8e0152"
            ],
            [
             0.1,
             "#c51b7d"
            ],
            [
             0.2,
             "#de77ae"
            ],
            [
             0.3,
             "#f1b6da"
            ],
            [
             0.4,
             "#fde0ef"
            ],
            [
             0.5,
             "#f7f7f7"
            ],
            [
             0.6,
             "#e6f5d0"
            ],
            [
             0.7,
             "#b8e186"
            ],
            [
             0.8,
             "#7fbc41"
            ],
            [
             0.9,
             "#4d9221"
            ],
            [
             1,
             "#276419"
            ]
           ],
           "sequential": [
            [
             0,
             "#0d0887"
            ],
            [
             0.1111111111111111,
             "#46039f"
            ],
            [
             0.2222222222222222,
             "#7201a8"
            ],
            [
             0.3333333333333333,
             "#9c179e"
            ],
            [
             0.4444444444444444,
             "#bd3786"
            ],
            [
             0.5555555555555556,
             "#d8576b"
            ],
            [
             0.6666666666666666,
             "#ed7953"
            ],
            [
             0.7777777777777778,
             "#fb9f3a"
            ],
            [
             0.8888888888888888,
             "#fdca26"
            ],
            [
             1,
             "#f0f921"
            ]
           ],
           "sequentialminus": [
            [
             0,
             "#0d0887"
            ],
            [
             0.1111111111111111,
             "#46039f"
            ],
            [
             0.2222222222222222,
             "#7201a8"
            ],
            [
             0.3333333333333333,
             "#9c179e"
            ],
            [
             0.4444444444444444,
             "#bd3786"
            ],
            [
             0.5555555555555556,
             "#d8576b"
            ],
            [
             0.6666666666666666,
             "#ed7953"
            ],
            [
             0.7777777777777778,
             "#fb9f3a"
            ],
            [
             0.8888888888888888,
             "#fdca26"
            ],
            [
             1,
             "#f0f921"
            ]
           ]
          },
          "colorway": [
           "#636efa",
           "#EF553B",
           "#00cc96",
           "#ab63fa",
           "#FFA15A",
           "#19d3f3",
           "#FF6692",
           "#B6E880",
           "#FF97FF",
           "#FECB52"
          ],
          "font": {
           "color": "#2a3f5f"
          },
          "geo": {
           "bgcolor": "white",
           "lakecolor": "white",
           "landcolor": "#E5ECF6",
           "showlakes": true,
           "showland": true,
           "subunitcolor": "white"
          },
          "hoverlabel": {
           "align": "left"
          },
          "hovermode": "closest",
          "mapbox": {
           "style": "light"
          },
          "paper_bgcolor": "white",
          "plot_bgcolor": "#E5ECF6",
          "polar": {
           "angularaxis": {
            "gridcolor": "white",
            "linecolor": "white",
            "ticks": ""
           },
           "bgcolor": "#E5ECF6",
           "radialaxis": {
            "gridcolor": "white",
            "linecolor": "white",
            "ticks": ""
           }
          },
          "scene": {
           "xaxis": {
            "backgroundcolor": "#E5ECF6",
            "gridcolor": "white",
            "gridwidth": 2,
            "linecolor": "white",
            "showbackground": true,
            "ticks": "",
            "zerolinecolor": "white"
           },
           "yaxis": {
            "backgroundcolor": "#E5ECF6",
            "gridcolor": "white",
            "gridwidth": 2,
            "linecolor": "white",
            "showbackground": true,
            "ticks": "",
            "zerolinecolor": "white"
           },
           "zaxis": {
            "backgroundcolor": "#E5ECF6",
            "gridcolor": "white",
            "gridwidth": 2,
            "linecolor": "white",
            "showbackground": true,
            "ticks": "",
            "zerolinecolor": "white"
           }
          },
          "shapedefaults": {
           "line": {
            "color": "#2a3f5f"
           }
          },
          "ternary": {
           "aaxis": {
            "gridcolor": "white",
            "linecolor": "white",
            "ticks": ""
           },
           "baxis": {
            "gridcolor": "white",
            "linecolor": "white",
            "ticks": ""
           },
           "bgcolor": "#E5ECF6",
           "caxis": {
            "gridcolor": "white",
            "linecolor": "white",
            "ticks": ""
           }
          },
          "title": {
           "x": 0.05
          },
          "xaxis": {
           "automargin": true,
           "gridcolor": "white",
           "linecolor": "white",
           "ticks": "",
           "title": {
            "standoff": 15
           },
           "zerolinecolor": "white",
           "zerolinewidth": 2
          },
          "yaxis": {
           "automargin": true,
           "gridcolor": "white",
           "linecolor": "white",
           "ticks": "",
           "title": {
            "standoff": 15
           },
           "zerolinecolor": "white",
           "zerolinewidth": 2
          }
         }
        },
        "xaxis": {
         "anchor": "y",
         "domain": [
          0,
          1
         ],
         "title": {
          "text": "Size"
         }
        },
        "yaxis": {
         "anchor": "x",
         "domain": [
          0,
          1
         ],
         "title": {
          "text": "count"
         }
        }
       }
      }
     },
     "metadata": {},
     "output_type": "display_data"
    }
   ],
   "source": [
    "px.histogram(shoe , x = 'Size' , color='Gender')"
   ]
  },
  {
   "cell_type": "markdown",
   "id": "682f4088",
   "metadata": {},
   "source": [
    "Upon examining the plot, it is observed that the female sizes are predominantly concentrated between 6 and 9, indicating a narrower range of sizes compared to males. This suggests that, in the dataset, females tend to have smaller shoe sizes overall. On the other hand, the male sizes span a wider range, starting from 8 and extending to 12. This indicates that males have a broader distribution of shoe sizes, with a tendency towards larger sizes."
   ]
  },
  {
   "cell_type": "code",
   "execution_count": 552,
   "id": "dd20fbae",
   "metadata": {},
   "outputs": [
    {
     "data": {
      "application/vnd.plotly.v1+json": {
       "config": {
        "plotlyServerURL": "https://plot.ly"
       },
       "data": [
        {
         "alignmentgroup": "True",
         "bingroup": "x",
         "hovertemplate": "Gender=Men<br>Type=%{x}<br>count=%{y}<extra></extra>",
         "legendgroup": "Men",
         "marker": {
          "color": "#636efa",
          "pattern": {
           "shape": ""
          }
         },
         "name": "Men",
         "offsetgroup": "Men",
         "orientation": "v",
         "showlegend": true,
         "type": "histogram",
         "x": [
          "Basketball",
          "Running",
          "Casual",
          "Skate",
          "Running",
          "Running",
          "Casual",
          "Skate",
          "Lifestyle",
          "Running",
          "Fashion",
          "Casual",
          "Running",
          "Running",
          "Lifestyle",
          "Fashion",
          "Running",
          "Cross-training",
          "Lifestyle",
          "Casual",
          "Fashion",
          "Casual",
          "Running",
          "Casual",
          "Skate",
          "Casual",
          "Running",
          "Crossfit",
          "Basketball",
          "Running",
          "Casual",
          "Basketball",
          "Training",
          "Basketball",
          "Running",
          "Running",
          "Lifestyle",
          "Casual",
          "Skate",
          "Running",
          "Walking",
          "Basketball",
          "Lifestyle",
          "Casual",
          "Basketball",
          "Casual",
          "Fashion",
          "Running",
          "Basketball",
          "Casual",
          "Running",
          "Running",
          "Walking",
          "Casual",
          "Casual",
          "Skate",
          "Running",
          "Fashion",
          "Running",
          "Casual",
          "Lifestyle",
          "Running",
          "Fashion",
          "Basketball",
          "Training",
          "Running",
          "Running",
          "Fashion",
          "Running",
          "Casual",
          "Casual",
          "Running",
          "Casual",
          "Casual",
          "Running",
          "Basketball",
          "Casual",
          "Fashion",
          "Casual",
          "Running",
          "Running",
          "Running",
          "Fashion",
          "Basketball",
          "Lifestyle",
          "Casual",
          "Running",
          "Casual",
          "Fashion",
          "Casual",
          "Casual",
          "Basketball",
          "Running",
          "Basketball",
          "Basketball",
          "Training",
          "Running",
          "Lifestyle",
          "Walking",
          "Running",
          "Running",
          "Basketball",
          "Running",
          "Fashion",
          "Casual",
          "Running",
          "Casual",
          "Skate",
          "Running",
          "Walking",
          "Casual",
          "Casual",
          "Running",
          "Running",
          "Fashion",
          "Casual",
          "Training",
          "Running",
          "Lifestyle",
          "Fashion",
          "Running",
          "Casual",
          "Lifestyle",
          "Running",
          "Fashion",
          "Running",
          "Basketball",
          "Fashion",
          "Training",
          "Basketball",
          "Trail",
          "Fashion",
          "Running",
          "Running",
          "Casual",
          "Skate",
          "Running",
          "Running",
          "Basketball",
          "Trail",
          "Running",
          "Running",
          "Running",
          "Running",
          "Training",
          "Casual",
          "Casual",
          "Running",
          "Casual",
          "Casual",
          "Casual",
          "Crossfit",
          "Running",
          "Skate",
          "Running",
          "Running",
          "Running",
          "Casual",
          "Running",
          "Fashion",
          "Running",
          "Casual",
          "Running",
          "Casual",
          "Skate",
          "Running",
          "Walking",
          "Casual",
          "Lifestyle",
          "Running",
          "Fashion",
          "Casual",
          "Running",
          "Casual",
          "Basketball",
          "Running",
          "Casual",
          "Running",
          "Casual",
          "Basketball",
          "Skate",
          "Running",
          "Walking",
          "Basketball",
          "Running",
          "Running",
          "Running",
          "Fashion",
          "Running",
          "Casual",
          "Basketball",
          "Trail Running",
          "Fashion",
          "Running",
          "Casual",
          "Running",
          "Lifestyle",
          "Fashion",
          "Casual",
          "Weightlifting",
          "Lifestyle",
          "Running",
          "Fashion",
          "Running",
          "Crossfit",
          "Casual",
          "Casual",
          "Fashion",
          "Casual",
          "Weightlifting",
          "Lifestyle",
          "Running",
          "Fashion",
          "Basketball",
          "Casual",
          "Running",
          "Running",
          "Fashion",
          "Running",
          "Casual",
          "Lifestyle",
          "Running",
          "Fashion",
          "Basketball",
          "Running",
          "Basketball",
          "Running",
          "Fashion",
          "Running",
          "Casual",
          "Basketball",
          "Running",
          "Casual",
          "Running",
          "Casual",
          "Training",
          "Running",
          "Running",
          "Fashion",
          "Running",
          "Training",
          "Casual",
          "Skate",
          "Running",
          "Casual",
          "CrossFit",
          "Running",
          "Skate",
          "Running",
          "Walking",
          "Running",
          "Casual",
          "Skate",
          "Running",
          "Walking",
          "Running",
          "Training",
          "Basketball",
          "Casual",
          "Fashion",
          "Casual",
          "Casual",
          "Basketball",
          "Skate",
          "Running",
          "Training",
          "Basketball",
          "Lifestyle",
          "Casual",
          "Basketball",
          "Casual",
          "Fashion",
          "Running",
          "Training",
          "Running",
          "Skate",
          "Running",
          "Running",
          "Basketball",
          "CrossFit",
          "Running",
          "Casual",
          "Casual",
          "Running",
          "Running",
          "Basketball",
          "Running",
          "Running",
          "Running",
          "CrossFit",
          "Running",
          "Casual",
          "Fashion",
          "Running",
          "Casual",
          "Lifestyle",
          "Running",
          "Fashion",
          "Basketball",
          "Training",
          "Basketball",
          "Lifestyle",
          "Fashion",
          "Running",
          "Running",
          "Casual",
          "Skate",
          "Running",
          "Walking",
          "Skate",
          "Casual",
          "Running",
          "Running",
          "Fashion",
          "Running",
          "Training",
          "Casual",
          "Running",
          "Fashion",
          "Running",
          "Casual",
          "Training",
          "Running",
          "Casual",
          "Fashion",
          "Casual",
          "Casual",
          "Casual",
          "Racing",
          "Casual",
          "Casual",
          "Training",
          "Skate",
          "Running",
          "Running",
          "Casual",
          "Casual",
          "Skate",
          "Running",
          "Training",
          "Casual",
          "Lifestyle",
          "Casual",
          "Skate",
          "Retro",
          "Fashion",
          "Running",
          "Casual",
          "Retro",
          "Running",
          "Casual",
          "Basketball",
          "Lifestyle",
          "Weightlifting",
          "Running",
          "Casual",
          "Fashion",
          "Running",
          "Crossfit",
          "Basketball",
          "Skate",
          "Running",
          "Walking",
          "Casual",
          "Lifestyle",
          "Casual",
          "Basketball",
          "Lifestyle",
          "Fashion",
          "Running",
          "Casual",
          "Lifestyle",
          "Running",
          "Training",
          "Skate",
          "Casual",
          "Running",
          "Running",
          "Casual",
          "Fashion",
          "Running",
          "Casual",
          "Casual",
          "Running",
          "Fashion",
          "Casual",
          "Training",
          "Casual",
          "Basketball",
          "Lifestyle",
          "Fashion",
          "Running",
          "Casual",
          "Casual",
          "Skate",
          "Running",
          "Walking",
          "Casual",
          "Training",
          "Running",
          "Running",
          "Walking",
          "Running",
          "Weightlifting",
          "Lifestyle",
          "Casual",
          "Running",
          "Training",
          "Casual",
          "Skate",
          "Running",
          "Running",
          "Lifestyle",
          "Casual",
          "Skate",
          "Running",
          "Fashion",
          "Casual",
          "Casual",
          "Running",
          "Running",
          "Skate",
          "Running",
          "Walking",
          "Casual",
          "Casual",
          "Skate",
          "Running",
          "Running",
          "Running",
          "Running",
          "Casual",
          "Skate",
          "Running",
          "Walking",
          "Running",
          "Casual",
          "Casual",
          "Running",
          "Running",
          "Casual",
          "Crossfit",
          "Running",
          "Skate",
          "Running",
          "Walking",
          "Casual",
          "Casual",
          "Casual",
          "Running",
          "Walking",
          "Casual",
          "Training",
          "Casual",
          "Skate",
          "Running",
          "Walking",
          "Running",
          "Casual",
          "Skate",
          "Trail Running",
          "Fashion",
          "Casual",
          "Training",
          "Basketball",
          "Casual",
          "Fashion",
          "Casual",
          "Casual",
          "Running",
          "Running",
          "Casual",
          "Running",
          "Casual",
          "Casual",
          "Skate",
          "Running",
          "Running",
          "Casual",
          "Basketball",
          "Skate",
          "Running",
          "Walking",
          "Casual",
          "Crossfit",
          "Casual",
          "Skate",
          "Running",
          "Training",
          "Running",
          "Casual",
          "Skate",
          "Running",
          "Casual",
          "Crossfit",
          "Casual",
          "Skate",
          "Running",
          "Training",
          "Running",
          "Casual",
          "Skate",
          "Running",
          "Casual",
          "Crossfit",
          "Running",
          "Skate",
          "Running",
          "Running",
          "Casual",
          "Casual",
          "Skate",
          "Running",
          "Walking",
          "Lifestyle",
          "Training",
          "Lifestyle",
          "Running",
          "Fashion",
          "Running",
          "Casual",
          "Lifestyle",
          "Trail",
          "Fashion",
          "Casual",
          "Crossfit",
          "Casual",
          "Skate",
          "Running",
          "Walking",
          "Running",
          "Casual",
          "Skate",
          "Running",
          "Training"
         ],
         "xaxis": "x",
         "yaxis": "y"
        },
        {
         "alignmentgroup": "True",
         "bingroup": "x",
         "hovertemplate": "Gender=Women<br>Type=%{x}<br>count=%{y}<extra></extra>",
         "legendgroup": "Women",
         "marker": {
          "color": "#EF553B",
          "pattern": {
           "shape": ""
          }
         },
         "name": "Women",
         "offsetgroup": "Women",
         "orientation": "v",
         "showlegend": true,
         "type": "histogram",
         "x": [
          "Casual",
          "Lifestyle",
          "Running",
          "Fashion",
          "Running",
          "Casual",
          "Skate",
          "Running",
          "Walking",
          "Running",
          "Casual",
          "Skate",
          "Running",
          "Walking",
          "Running",
          "Casual",
          "Skate",
          "Running",
          "Walking",
          "Running",
          "Casual",
          "Casual",
          "Running",
          "Walking",
          "Slides",
          "Casual",
          "Skate",
          "Running",
          "Training",
          "Lifestyle",
          "Casual",
          "Skate",
          "Running",
          "Casual",
          "Lifestyle",
          "Casual",
          "Running",
          "Running",
          "Casual",
          "Lifestyle",
          "Training",
          "Skate",
          "Casual",
          "Running",
          "Casual",
          "Skate",
          "Running",
          "Fashion",
          "Running",
          "Running",
          "Running",
          "Lifestyle",
          "Trail",
          "Running",
          "Running",
          "Casual",
          "Skate",
          "Running",
          "Walking",
          "Running",
          "Casual",
          "Skate",
          "Running",
          "Walking",
          "Running",
          "Casual",
          "Skate",
          "Running",
          "Running",
          "Running",
          "Casual",
          "Skate",
          "Running",
          "Running",
          "Casual",
          "Casual",
          "Skate",
          "Trail",
          "Training",
          "Running",
          "Casual",
          "Skate",
          "Running",
          "Running",
          "Running",
          "Casual",
          "Skate",
          "Running",
          "Casual",
          "Lifestyle",
          "Casual",
          "Skate",
          "Running",
          "Running",
          "Running",
          "Casual",
          "Skate",
          "Running",
          "Walking",
          "Casual",
          "Casual",
          "Running",
          "Fashion",
          "Casual",
          "Casual",
          "Skate",
          "Running",
          "Lifestyle",
          "Casual",
          "Skate",
          "Running",
          "Walking",
          "Slides",
          "Casual",
          "Skate",
          "Running",
          "Training",
          "Casual",
          "Skate",
          "Running",
          "Walking",
          "Casual",
          "Running",
          "Running",
          "Fashion",
          "Running",
          "Casual",
          "Skate",
          "Running",
          "Fashion",
          "Casual",
          "Lifestyle",
          "Running",
          "Walking",
          "Lifestyle",
          "Casual",
          "Casual",
          "Fashion",
          "Running",
          "Running",
          "Casual",
          "Skate",
          "Running",
          "Walking",
          "Lifestyle",
          "Running",
          "Lifestyle",
          "Fashion",
          "Running",
          "Crossfit",
          "Casual",
          "Skate",
          "Running",
          "Walking",
          "Lifestyle",
          "Skate",
          "Running",
          "Casual",
          "Casual",
          "Running",
          "Running",
          "Casual",
          "Running",
          "Fashion",
          "Casual",
          "Skate",
          "Running",
          "Walking",
          "Casual",
          "Casual",
          "Casual",
          "Running",
          "Walking",
          "Running",
          "Training",
          "Skate",
          "Running",
          "Walking",
          "Lifestyle",
          "Casual",
          "Casual",
          "Running",
          "Lifestyle",
          "Basketball",
          "Skate",
          "Running",
          "Running",
          "Lifestyle",
          "Casual",
          "Skate",
          "Running",
          "Walking",
          "Running",
          "Casual",
          "Skate",
          "Running",
          "Walking",
          "Casual",
          "Casual",
          "Skate",
          "Running",
          "Running",
          "Casual",
          "Skate",
          "Running",
          "Lifestyle",
          "Casual",
          "Casual",
          "Skate",
          "Running",
          "Training",
          "Fashion",
          "Casual",
          "Skate",
          "Running",
          "Running",
          "Fashion",
          "Lifestyle",
          "Running",
          "Fashion",
          "Fashion",
          "Casual",
          "Casual",
          "Fashion",
          "Running",
          "Casual",
          "Fashion",
          "Running",
          "Fashion",
          "Running",
          "Lifestyle",
          "Basketball",
          "Skate",
          "Running",
          "Walking",
          "Casual",
          "Casual",
          "Running",
          "Hiking",
          "Running",
          "Skate",
          "Running",
          "Walking",
          "Running",
          "Casual",
          "Running",
          "Casual",
          "Running",
          "Lifestyle",
          "Casual",
          "Skate",
          "Running",
          "Walking",
          "Lifestyle",
          "Skate",
          "Skate",
          "Running",
          "Lifestyle",
          "Casual",
          "Skate",
          "Running",
          "Running",
          "Fashion",
          "Casual",
          "Skate",
          "Running",
          "Lifestyle",
          "Casual",
          "Skate",
          "Lifestyle",
          "Running",
          "Basketball",
          "Lifestyle",
          "Running",
          "Fashion",
          "Running",
          "Casual",
          "Skate",
          "Running",
          "Walking",
          "Slides",
          "Casual",
          "Skate",
          "Trail",
          "Running",
          "Fashion",
          "Casual",
          "Skate",
          "Running",
          "Walking",
          "Running",
          "Basketball",
          "Skate",
          "Running",
          "Running",
          "Lifestyle",
          "Casual",
          "Fashion",
          "Running",
          "Hiking",
          "Running",
          "Casual",
          "Casual",
          "Casual",
          "Running",
          "Retro",
          "Running",
          "Running",
          "Running",
          "Lifestyle",
          "Skate",
          "Skate",
          "Running",
          "Walking",
          "Casual",
          "Skate",
          "Running",
          "Running",
          "Running",
          "Skate",
          "Casual",
          "Casual",
          "Crossfit",
          "Skate",
          "Running",
          "Walking",
          "Lifestyle",
          "Basketball",
          "Skate",
          "Running",
          "Fashion",
          "Fashion",
          "Casual",
          "Skate",
          "Running",
          "Lifestyle",
          "Running",
          "Casual",
          "Skate",
          "Running",
          "Lifestyle",
          "Skate",
          "Running",
          "Running",
          "Basketball",
          "Casual",
          "Running",
          "Fashion",
          "Lifestyle",
          "Casual",
          "Skate",
          "Running",
          "Fashion",
          "Running",
          "Basketball",
          "Casual",
          "Running",
          "Lifestyle",
          "Running",
          "Lifestyle",
          "Casual",
          "Running",
          "Casual",
          "Basketball",
          "Lifestyle",
          "Walking",
          "Casual",
          "Casual",
          "Running",
          "Fashion",
          "Running",
          "Casual",
          "Fashion",
          "Running",
          "Fashion",
          "Casual",
          "Casual",
          "Running",
          "Casual",
          "Fashion",
          "Casual",
          "Training",
          "Basketball",
          "Running",
          "Fashion",
          "Running",
          "Running",
          "Casual",
          "Casual",
          "Casual",
          "Casual",
          "Casual",
          "Basketball",
          "Casual",
          "Basketball",
          "Lifestyle",
          "Casual",
          "Lifestyle",
          "Fashion",
          "Running",
          "Running",
          "Running",
          "Running",
          "Running",
          "Running",
          "Casual",
          "Skate",
          "Running",
          "Running",
          "Running",
          "Casual",
          "Skate",
          "Trail Running",
          "Walking",
          "Running",
          "Training",
          "Running",
          "Lifestyle",
          "Fashion",
          "Casual",
          "Running",
          "Lifestyle",
          "Running",
          "Fashion",
          "Lifestyle",
          "Running",
          "Lifestyle",
          "Fashion",
          "Running",
          "Casual",
          "Basketball",
          "Running",
          "Fashion",
          "Lifestyle",
          "Running",
          "Lifestyle",
          "Fashion",
          "Running",
          "Casual",
          "Basketball",
          "Running",
          "Fashion",
          "Lifestyle",
          "Casual",
          "Lifestyle",
          "Fashion",
          "Running",
          "Casual",
          "Lifestyle",
          "Running",
          "Fashion",
          "Running",
          "Lifestyle",
          "Casual",
          "Skate",
          "Running",
          "Running",
          "Casual",
          "Casual",
          "Skate",
          "Running",
          "Lifestyle",
          "Running",
          "Running",
          "Fashion",
          "Running",
          "Casual",
          "Lifestyle",
          "Running",
          "Fashion",
          "Running"
         ],
         "xaxis": "x",
         "yaxis": "y"
        }
       ],
       "layout": {
        "barmode": "relative",
        "legend": {
         "title": {
          "text": "Gender"
         },
         "tracegroupgap": 0
        },
        "margin": {
         "t": 60
        },
        "template": {
         "data": {
          "bar": [
           {
            "error_x": {
             "color": "#2a3f5f"
            },
            "error_y": {
             "color": "#2a3f5f"
            },
            "marker": {
             "line": {
              "color": "#E5ECF6",
              "width": 0.5
             },
             "pattern": {
              "fillmode": "overlay",
              "size": 10,
              "solidity": 0.2
             }
            },
            "type": "bar"
           }
          ],
          "barpolar": [
           {
            "marker": {
             "line": {
              "color": "#E5ECF6",
              "width": 0.5
             },
             "pattern": {
              "fillmode": "overlay",
              "size": 10,
              "solidity": 0.2
             }
            },
            "type": "barpolar"
           }
          ],
          "carpet": [
           {
            "aaxis": {
             "endlinecolor": "#2a3f5f",
             "gridcolor": "white",
             "linecolor": "white",
             "minorgridcolor": "white",
             "startlinecolor": "#2a3f5f"
            },
            "baxis": {
             "endlinecolor": "#2a3f5f",
             "gridcolor": "white",
             "linecolor": "white",
             "minorgridcolor": "white",
             "startlinecolor": "#2a3f5f"
            },
            "type": "carpet"
           }
          ],
          "choropleth": [
           {
            "colorbar": {
             "outlinewidth": 0,
             "ticks": ""
            },
            "type": "choropleth"
           }
          ],
          "contour": [
           {
            "colorbar": {
             "outlinewidth": 0,
             "ticks": ""
            },
            "colorscale": [
             [
              0,
              "#0d0887"
             ],
             [
              0.1111111111111111,
              "#46039f"
             ],
             [
              0.2222222222222222,
              "#7201a8"
             ],
             [
              0.3333333333333333,
              "#9c179e"
             ],
             [
              0.4444444444444444,
              "#bd3786"
             ],
             [
              0.5555555555555556,
              "#d8576b"
             ],
             [
              0.6666666666666666,
              "#ed7953"
             ],
             [
              0.7777777777777778,
              "#fb9f3a"
             ],
             [
              0.8888888888888888,
              "#fdca26"
             ],
             [
              1,
              "#f0f921"
             ]
            ],
            "type": "contour"
           }
          ],
          "contourcarpet": [
           {
            "colorbar": {
             "outlinewidth": 0,
             "ticks": ""
            },
            "type": "contourcarpet"
           }
          ],
          "heatmap": [
           {
            "colorbar": {
             "outlinewidth": 0,
             "ticks": ""
            },
            "colorscale": [
             [
              0,
              "#0d0887"
             ],
             [
              0.1111111111111111,
              "#46039f"
             ],
             [
              0.2222222222222222,
              "#7201a8"
             ],
             [
              0.3333333333333333,
              "#9c179e"
             ],
             [
              0.4444444444444444,
              "#bd3786"
             ],
             [
              0.5555555555555556,
              "#d8576b"
             ],
             [
              0.6666666666666666,
              "#ed7953"
             ],
             [
              0.7777777777777778,
              "#fb9f3a"
             ],
             [
              0.8888888888888888,
              "#fdca26"
             ],
             [
              1,
              "#f0f921"
             ]
            ],
            "type": "heatmap"
           }
          ],
          "heatmapgl": [
           {
            "colorbar": {
             "outlinewidth": 0,
             "ticks": ""
            },
            "colorscale": [
             [
              0,
              "#0d0887"
             ],
             [
              0.1111111111111111,
              "#46039f"
             ],
             [
              0.2222222222222222,
              "#7201a8"
             ],
             [
              0.3333333333333333,
              "#9c179e"
             ],
             [
              0.4444444444444444,
              "#bd3786"
             ],
             [
              0.5555555555555556,
              "#d8576b"
             ],
             [
              0.6666666666666666,
              "#ed7953"
             ],
             [
              0.7777777777777778,
              "#fb9f3a"
             ],
             [
              0.8888888888888888,
              "#fdca26"
             ],
             [
              1,
              "#f0f921"
             ]
            ],
            "type": "heatmapgl"
           }
          ],
          "histogram": [
           {
            "marker": {
             "pattern": {
              "fillmode": "overlay",
              "size": 10,
              "solidity": 0.2
             }
            },
            "type": "histogram"
           }
          ],
          "histogram2d": [
           {
            "colorbar": {
             "outlinewidth": 0,
             "ticks": ""
            },
            "colorscale": [
             [
              0,
              "#0d0887"
             ],
             [
              0.1111111111111111,
              "#46039f"
             ],
             [
              0.2222222222222222,
              "#7201a8"
             ],
             [
              0.3333333333333333,
              "#9c179e"
             ],
             [
              0.4444444444444444,
              "#bd3786"
             ],
             [
              0.5555555555555556,
              "#d8576b"
             ],
             [
              0.6666666666666666,
              "#ed7953"
             ],
             [
              0.7777777777777778,
              "#fb9f3a"
             ],
             [
              0.8888888888888888,
              "#fdca26"
             ],
             [
              1,
              "#f0f921"
             ]
            ],
            "type": "histogram2d"
           }
          ],
          "histogram2dcontour": [
           {
            "colorbar": {
             "outlinewidth": 0,
             "ticks": ""
            },
            "colorscale": [
             [
              0,
              "#0d0887"
             ],
             [
              0.1111111111111111,
              "#46039f"
             ],
             [
              0.2222222222222222,
              "#7201a8"
             ],
             [
              0.3333333333333333,
              "#9c179e"
             ],
             [
              0.4444444444444444,
              "#bd3786"
             ],
             [
              0.5555555555555556,
              "#d8576b"
             ],
             [
              0.6666666666666666,
              "#ed7953"
             ],
             [
              0.7777777777777778,
              "#fb9f3a"
             ],
             [
              0.8888888888888888,
              "#fdca26"
             ],
             [
              1,
              "#f0f921"
             ]
            ],
            "type": "histogram2dcontour"
           }
          ],
          "mesh3d": [
           {
            "colorbar": {
             "outlinewidth": 0,
             "ticks": ""
            },
            "type": "mesh3d"
           }
          ],
          "parcoords": [
           {
            "line": {
             "colorbar": {
              "outlinewidth": 0,
              "ticks": ""
             }
            },
            "type": "parcoords"
           }
          ],
          "pie": [
           {
            "automargin": true,
            "type": "pie"
           }
          ],
          "scatter": [
           {
            "fillpattern": {
             "fillmode": "overlay",
             "size": 10,
             "solidity": 0.2
            },
            "type": "scatter"
           }
          ],
          "scatter3d": [
           {
            "line": {
             "colorbar": {
              "outlinewidth": 0,
              "ticks": ""
             }
            },
            "marker": {
             "colorbar": {
              "outlinewidth": 0,
              "ticks": ""
             }
            },
            "type": "scatter3d"
           }
          ],
          "scattercarpet": [
           {
            "marker": {
             "colorbar": {
              "outlinewidth": 0,
              "ticks": ""
             }
            },
            "type": "scattercarpet"
           }
          ],
          "scattergeo": [
           {
            "marker": {
             "colorbar": {
              "outlinewidth": 0,
              "ticks": ""
             }
            },
            "type": "scattergeo"
           }
          ],
          "scattergl": [
           {
            "marker": {
             "colorbar": {
              "outlinewidth": 0,
              "ticks": ""
             }
            },
            "type": "scattergl"
           }
          ],
          "scattermapbox": [
           {
            "marker": {
             "colorbar": {
              "outlinewidth": 0,
              "ticks": ""
             }
            },
            "type": "scattermapbox"
           }
          ],
          "scatterpolar": [
           {
            "marker": {
             "colorbar": {
              "outlinewidth": 0,
              "ticks": ""
             }
            },
            "type": "scatterpolar"
           }
          ],
          "scatterpolargl": [
           {
            "marker": {
             "colorbar": {
              "outlinewidth": 0,
              "ticks": ""
             }
            },
            "type": "scatterpolargl"
           }
          ],
          "scatterternary": [
           {
            "marker": {
             "colorbar": {
              "outlinewidth": 0,
              "ticks": ""
             }
            },
            "type": "scatterternary"
           }
          ],
          "surface": [
           {
            "colorbar": {
             "outlinewidth": 0,
             "ticks": ""
            },
            "colorscale": [
             [
              0,
              "#0d0887"
             ],
             [
              0.1111111111111111,
              "#46039f"
             ],
             [
              0.2222222222222222,
              "#7201a8"
             ],
             [
              0.3333333333333333,
              "#9c179e"
             ],
             [
              0.4444444444444444,
              "#bd3786"
             ],
             [
              0.5555555555555556,
              "#d8576b"
             ],
             [
              0.6666666666666666,
              "#ed7953"
             ],
             [
              0.7777777777777778,
              "#fb9f3a"
             ],
             [
              0.8888888888888888,
              "#fdca26"
             ],
             [
              1,
              "#f0f921"
             ]
            ],
            "type": "surface"
           }
          ],
          "table": [
           {
            "cells": {
             "fill": {
              "color": "#EBF0F8"
             },
             "line": {
              "color": "white"
             }
            },
            "header": {
             "fill": {
              "color": "#C8D4E3"
             },
             "line": {
              "color": "white"
             }
            },
            "type": "table"
           }
          ]
         },
         "layout": {
          "annotationdefaults": {
           "arrowcolor": "#2a3f5f",
           "arrowhead": 0,
           "arrowwidth": 1
          },
          "autotypenumbers": "strict",
          "coloraxis": {
           "colorbar": {
            "outlinewidth": 0,
            "ticks": ""
           }
          },
          "colorscale": {
           "diverging": [
            [
             0,
             "#8e0152"
            ],
            [
             0.1,
             "#c51b7d"
            ],
            [
             0.2,
             "#de77ae"
            ],
            [
             0.3,
             "#f1b6da"
            ],
            [
             0.4,
             "#fde0ef"
            ],
            [
             0.5,
             "#f7f7f7"
            ],
            [
             0.6,
             "#e6f5d0"
            ],
            [
             0.7,
             "#b8e186"
            ],
            [
             0.8,
             "#7fbc41"
            ],
            [
             0.9,
             "#4d9221"
            ],
            [
             1,
             "#276419"
            ]
           ],
           "sequential": [
            [
             0,
             "#0d0887"
            ],
            [
             0.1111111111111111,
             "#46039f"
            ],
            [
             0.2222222222222222,
             "#7201a8"
            ],
            [
             0.3333333333333333,
             "#9c179e"
            ],
            [
             0.4444444444444444,
             "#bd3786"
            ],
            [
             0.5555555555555556,
             "#d8576b"
            ],
            [
             0.6666666666666666,
             "#ed7953"
            ],
            [
             0.7777777777777778,
             "#fb9f3a"
            ],
            [
             0.8888888888888888,
             "#fdca26"
            ],
            [
             1,
             "#f0f921"
            ]
           ],
           "sequentialminus": [
            [
             0,
             "#0d0887"
            ],
            [
             0.1111111111111111,
             "#46039f"
            ],
            [
             0.2222222222222222,
             "#7201a8"
            ],
            [
             0.3333333333333333,
             "#9c179e"
            ],
            [
             0.4444444444444444,
             "#bd3786"
            ],
            [
             0.5555555555555556,
             "#d8576b"
            ],
            [
             0.6666666666666666,
             "#ed7953"
            ],
            [
             0.7777777777777778,
             "#fb9f3a"
            ],
            [
             0.8888888888888888,
             "#fdca26"
            ],
            [
             1,
             "#f0f921"
            ]
           ]
          },
          "colorway": [
           "#636efa",
           "#EF553B",
           "#00cc96",
           "#ab63fa",
           "#FFA15A",
           "#19d3f3",
           "#FF6692",
           "#B6E880",
           "#FF97FF",
           "#FECB52"
          ],
          "font": {
           "color": "#2a3f5f"
          },
          "geo": {
           "bgcolor": "white",
           "lakecolor": "white",
           "landcolor": "#E5ECF6",
           "showlakes": true,
           "showland": true,
           "subunitcolor": "white"
          },
          "hoverlabel": {
           "align": "left"
          },
          "hovermode": "closest",
          "mapbox": {
           "style": "light"
          },
          "paper_bgcolor": "white",
          "plot_bgcolor": "#E5ECF6",
          "polar": {
           "angularaxis": {
            "gridcolor": "white",
            "linecolor": "white",
            "ticks": ""
           },
           "bgcolor": "#E5ECF6",
           "radialaxis": {
            "gridcolor": "white",
            "linecolor": "white",
            "ticks": ""
           }
          },
          "scene": {
           "xaxis": {
            "backgroundcolor": "#E5ECF6",
            "gridcolor": "white",
            "gridwidth": 2,
            "linecolor": "white",
            "showbackground": true,
            "ticks": "",
            "zerolinecolor": "white"
           },
           "yaxis": {
            "backgroundcolor": "#E5ECF6",
            "gridcolor": "white",
            "gridwidth": 2,
            "linecolor": "white",
            "showbackground": true,
            "ticks": "",
            "zerolinecolor": "white"
           },
           "zaxis": {
            "backgroundcolor": "#E5ECF6",
            "gridcolor": "white",
            "gridwidth": 2,
            "linecolor": "white",
            "showbackground": true,
            "ticks": "",
            "zerolinecolor": "white"
           }
          },
          "shapedefaults": {
           "line": {
            "color": "#2a3f5f"
           }
          },
          "ternary": {
           "aaxis": {
            "gridcolor": "white",
            "linecolor": "white",
            "ticks": ""
           },
           "baxis": {
            "gridcolor": "white",
            "linecolor": "white",
            "ticks": ""
           },
           "bgcolor": "#E5ECF6",
           "caxis": {
            "gridcolor": "white",
            "linecolor": "white",
            "ticks": ""
           }
          },
          "title": {
           "x": 0.05
          },
          "xaxis": {
           "automargin": true,
           "gridcolor": "white",
           "linecolor": "white",
           "ticks": "",
           "title": {
            "standoff": 15
           },
           "zerolinecolor": "white",
           "zerolinewidth": 2
          },
          "yaxis": {
           "automargin": true,
           "gridcolor": "white",
           "linecolor": "white",
           "ticks": "",
           "title": {
            "standoff": 15
           },
           "zerolinecolor": "white",
           "zerolinewidth": 2
          }
         }
        },
        "xaxis": {
         "anchor": "y",
         "domain": [
          0,
          1
         ],
         "title": {
          "text": "Type"
         }
        },
        "yaxis": {
         "anchor": "x",
         "domain": [
          0,
          1
         ],
         "title": {
          "text": "count"
         }
        }
       }
      }
     },
     "metadata": {},
     "output_type": "display_data"
    }
   ],
   "source": [
    "px.histogram(shoe , x = 'Type' , color='Gender')"
   ]
  },
  {
   "cell_type": "markdown",
   "id": "cac1f9d4",
   "metadata": {},
   "source": [
    "Upon analyzing the plot, it can be observed that the distribution of shoe types appears to be relatively consistent across genders. The counts of each shoe type, as indicated by the height of the bars, do not show significant variations when comparing males and females.\n",
    "\n",
    "This suggests that there may not be a strong correlation between the specific shoe type and gender in the given dataset. The frequencies of each shoe type do not differ noticeably between males and females, implying that both genders are likely to have similar preferences or proportions for each shoe type."
   ]
  },
  {
   "cell_type": "markdown",
   "id": "c6b2b886",
   "metadata": {},
   "source": [
    "## Feature encoding With Scikit Learn"
   ]
  },
  {
   "cell_type": "code",
   "execution_count": 553,
   "id": "ab38d3e1",
   "metadata": {},
   "outputs": [],
   "source": [
    "from sklearn.preprocessing import LabelEncoder"
   ]
  },
  {
   "cell_type": "code",
   "execution_count": 554,
   "id": "9c2fd241",
   "metadata": {},
   "outputs": [],
   "source": [
    "LE = LabelEncoder()"
   ]
  },
  {
   "cell_type": "code",
   "execution_count": 555,
   "id": "0885b5ed",
   "metadata": {},
   "outputs": [
    {
     "name": "stdout",
     "output_type": "stream",
     "text": [
      "<class 'pandas.core.frame.DataFrame'>\n",
      "RangeIndex: 1006 entries, 0 to 1005\n",
      "Data columns (total 8 columns):\n",
      " #   Column    Non-Null Count  Dtype  \n",
      "---  ------    --------------  -----  \n",
      " 0   Brand     1006 non-null   object \n",
      " 1   Model     1006 non-null   object \n",
      " 2   Type      1006 non-null   object \n",
      " 3   Gender    1006 non-null   object \n",
      " 4   Size      1006 non-null   float64\n",
      " 5   Color     1006 non-null   object \n",
      " 6   Material  1006 non-null   object \n",
      " 7   Price     1006 non-null   float64\n",
      "dtypes: float64(2), object(6)\n",
      "memory usage: 63.0+ KB\n"
     ]
    }
   ],
   "source": [
    "shoe.info()"
   ]
  },
  {
   "cell_type": "code",
   "execution_count": 556,
   "id": "80945345",
   "metadata": {},
   "outputs": [],
   "source": [
    "shoe['Gender_Encoded'] = LE.fit_transform(shoe['Gender'])\n"
   ]
  },
  {
   "cell_type": "code",
   "execution_count": 557,
   "id": "f6bb464f",
   "metadata": {},
   "outputs": [
    {
     "data": {
      "text/plain": [
       "0       0\n",
       "1       0\n",
       "2       0\n",
       "3       1\n",
       "4       1\n",
       "       ..\n",
       "1001    1\n",
       "1002    0\n",
       "1003    1\n",
       "1004    0\n",
       "1005    1\n",
       "Name: Gender_Encoded, Length: 1006, dtype: int64"
      ]
     },
     "execution_count": 557,
     "metadata": {},
     "output_type": "execute_result"
    }
   ],
   "source": [
    "shoe['Gender_Encoded']"
   ]
  },
  {
   "cell_type": "code",
   "execution_count": 558,
   "id": "a6e89097",
   "metadata": {},
   "outputs": [
    {
     "data": {
      "text/plain": [
       "np.float64(250.0)"
      ]
     },
     "execution_count": 558,
     "metadata": {},
     "output_type": "execute_result"
    }
   ],
   "source": [
    "shoe['Price'].unique().max()"
   ]
  },
  {
   "cell_type": "code",
   "execution_count": 559,
   "id": "80184fb7",
   "metadata": {},
   "outputs": [
    {
     "data": {
      "text/plain": [
       "np.float64(25.0)"
      ]
     },
     "execution_count": 559,
     "metadata": {},
     "output_type": "execute_result"
    }
   ],
   "source": [
    "shoe['Price'].unique().min()"
   ]
  },
  {
   "cell_type": "code",
   "execution_count": 560,
   "id": "b15757c2",
   "metadata": {},
   "outputs": [],
   "source": [
    "# define the bins and labels\n",
    "bins = [0,50 , 150,250]\n",
    "labels = ['Low' , 'Medium' , 'High']\n",
    "shoe['Price_Discrete'] = pd.cut(shoe['Price'] , bins=bins , labels=labels)"
   ]
  },
  {
   "cell_type": "code",
   "execution_count": 561,
   "id": "46448b1f",
   "metadata": {},
   "outputs": [
    {
     "data": {
      "text/plain": [
       "Price_Discrete\n",
       "Medium    837\n",
       "High      127\n",
       "Low        42\n",
       "Name: count, dtype: int64"
      ]
     },
     "execution_count": 561,
     "metadata": {},
     "output_type": "execute_result"
    }
   ],
   "source": [
    "shoe['Price_Discrete'].value_counts()"
   ]
  },
  {
   "cell_type": "code",
   "execution_count": 562,
   "id": "7811e9c6",
   "metadata": {},
   "outputs": [],
   "source": [
    "shoe['Price_Encoded'] = LE.fit_transform(shoe['Price_Discrete'])"
   ]
  },
  {
   "cell_type": "code",
   "execution_count": 571,
   "id": "09e1d773",
   "metadata": {},
   "outputs": [
    {
     "name": "stdout",
     "output_type": "stream",
     "text": [
      "<class 'pandas.core.frame.DataFrame'>\n",
      "RangeIndex: 1006 entries, 0 to 1005\n",
      "Data columns (total 8 columns):\n",
      " #   Column       Non-Null Count  Dtype \n",
      "---  ------       --------------  ----- \n",
      " 0   Brand        1006 non-null   object\n",
      " 1   Model        1006 non-null   object\n",
      " 2   Type         1006 non-null   object\n",
      " 3   Gender       1006 non-null   object\n",
      " 4   Size         1006 non-null   object\n",
      " 5   Color        1006 non-null   object\n",
      " 6   Material     1006 non-null   object\n",
      " 7   Price (USD)  1006 non-null   object\n",
      "dtypes: object(8)\n",
      "memory usage: 63.0+ KB\n"
     ]
    }
   ],
   "source": [
    "shoe.info()"
   ]
  },
  {
   "cell_type": "code",
   "execution_count": 564,
   "id": "463d9349",
   "metadata": {},
   "outputs": [],
   "source": [
    "import numpy as np\n",
    "import pandas as pd\n",
    "from sklearn.model_selection import train_test_split, cross_val_score, GridSearchCV\n",
    "from sklearn.preprocessing import OneHotEncoder, StandardScaler\n",
    "from sklearn.compose import ColumnTransformer\n",
    "from sklearn.pipeline import Pipeline\n",
    "from sklearn.linear_model import LinearRegression, Ridge, Lasso\n",
    "from sklearn.ensemble import RandomForestRegressor, GradientBoostingRegressor\n",
    "from sklearn.metrics import mean_squared_error, r2_score, mean_absolute_error\n",
    "import warnings\n",
    "warnings.filterwarnings('ignore')"
   ]
  },
  {
   "cell_type": "code",
   "execution_count": 565,
   "id": "b500305b",
   "metadata": {},
   "outputs": [],
   "source": [
    "# Feature engineered again to ensure no issues with the data\n",
    "def prepare_features(df):\n",
    "    \"\"\"Prepare features for modeling\"\"\"\n",
    "    # Make a copy to avoid modifying the original\n",
    "    df_processed = df.copy()\n",
    "    \n",
    "    # Clean and convert Size column - extract numeric value from strings like \"US 7\"\n",
    "    if 'Size' in df_processed.columns:\n",
    "        # Check if Size contains strings like \"US 7\"\n",
    "        if df_processed['Size'].dtype == 'object':\n",
    "            # Extract numeric part from strings like \"US 7\"\n",
    "            df_processed['Size'] = df_processed['Size'].str.replace('US ', '', regex=True)\n",
    "            # Convert to float\n",
    "            df_processed['Size'] = pd.to_numeric(df_processed['Size'], errors='coerce')\n",
    "    \n",
    "    # Clean Price column if needed (remove dollar signs, etc.)\n",
    "    if 'Price' in df_processed.columns and df_processed['Price'].dtype == 'object':\n",
    "        # Remove $ and convert to float\n",
    "        df_processed['Price'] = df_processed['Price'].str.replace('[$,]', '', regex=True)\n",
    "        df_processed['Price'] = df_processed['Price'].str.strip()\n",
    "        df_processed['Price'] = pd.to_numeric(df_processed['Price'], errors='coerce')\n",
    "    \n",
    "    # Handle categorical features\n",
    "    # For columns with high cardinality like Model and Color, we might need a different approach\n",
    "    # For now, let's keep Brand, Type, Gender, and Material\n",
    "    \n",
    "    categorical_features = ['Brand', 'Type', 'Gender', 'Material']\n",
    "    numerical_features = ['Size']\n",
    "    \n",
    "    # We'll use one-hot encoding for categorical features\n",
    "    # We'll drop Color and Model due to high cardinality\n",
    "    \n",
    "    return df_processed, categorical_features, numerical_features\n"
   ]
  },
  {
   "cell_type": "code",
   "execution_count": 566,
   "id": "8b76bccb",
   "metadata": {},
   "outputs": [],
   "source": [
    "# Model Building \n",
    "def build_and_evaluate_models(df, categorical_features, numerical_features):\n",
    "    \"\"\"Build and evaluate multiple regression models\"\"\"\n",
    "    # Prepare X and y\n",
    "    X = df.drop(['Price', 'Model', 'Color'], axis=1)  # Drop high cardinality features\n",
    "    y = df['Price']\n",
    "    \n",
    "    # Split the data\n",
    "    X_train, X_test, y_train, y_test = train_test_split(X, y, test_size=0.2, random_state=42)\n",
    "    \n",
    "    # Create preprocessor\n",
    "    preprocessor = ColumnTransformer(\n",
    "        transformers=[\n",
    "            ('cat', OneHotEncoder(handle_unknown='ignore'), categorical_features),\n",
    "            ('num', StandardScaler(), numerical_features)\n",
    "        ])\n",
    "    \n",
    "    # Define models to try\n",
    "    models = {\n",
    "        'Linear Regression': LinearRegression(),\n",
    "        'Ridge Regression': Ridge(),\n",
    "        'Lasso Regression': Lasso(),\n",
    "        'Random Forest': RandomForestRegressor(random_state=42),\n",
    "        'Gradient Boosting': GradientBoostingRegressor(random_state=42)\n",
    "    }\n",
    "    # Train and evaluate models\n",
    "    results = {}\n",
    "    \n",
    "    for name, model in models.items():\n",
    "        # Create pipeline\n",
    "        pipeline = Pipeline(steps=[\n",
    "            ('preprocessor', preprocessor),\n",
    "            ('model', model)\n",
    "        ])\n",
    "        \n",
    "        # Train model\n",
    "        pipeline.fit(X_train, y_train)\n",
    "        \n",
    "        # Predict\n",
    "        y_pred = pipeline.predict(X_test)\n",
    "        \n",
    "        # Evaluate\n",
    "        mse = mean_squared_error(y_test, y_pred)\n",
    "        rmse = np.sqrt(mse)\n",
    "        r2 = r2_score(y_test, y_pred)\n",
    "        mae = mean_absolute_error(y_test, y_pred)\n",
    "        \n",
    "        results[name] = {\n",
    "            'MSE': mse,\n",
    "            'RMSE': rmse,\n",
    "            'R2': r2,\n",
    "            'MAE': mae\n",
    "        } \n",
    "        print(f\"Model: {name}\")\n",
    "        print(f\"Mean Squared Error: {mse:.2f}\")\n",
    "        print(f\"Root Mean Squared Error: {rmse:.2f}\")\n",
    "        print(f\"R² Score: {r2:.2f}\")\n",
    "        print(f\"Mean Absolute Error: {mae:.2f}\")\n",
    "        print(\"-\" * 50)\n",
    "    \n",
    "    return results, preprocessor, models\n"
   ]
  },
  {
   "cell_type": "code",
   "execution_count": 567,
   "id": "d9f6e334",
   "metadata": {},
   "outputs": [],
   "source": [
    "# MODEL TUNING\n",
    "def tune_best_model(X, y, best_model_name, preprocessor):\n",
    "    \"\"\"Tune the hyperparameters of the best model\"\"\"\n",
    "    # Split the data\n",
    "    X_train, X_test, y_train, y_test = train_test_split(X, y, test_size=0.2, random_state=42)\n",
    "    \n",
    "    # Define parameter grid based on the best model\n",
    "    if best_model_name == 'Random Forest':\n",
    "        model = RandomForestRegressor(random_state=42)\n",
    "        param_grid = {\n",
    "            'model__n_estimators': [50, 100, 200],\n",
    "            'model__max_depth': [None, 10, 20, 30],\n",
    "            'model__min_samples_split': [2, 5, 10],\n",
    "            'model__min_samples_leaf': [1, 2, 4]\n",
    "        }\n",
    "    elif best_model_name == 'Gradient Boosting':\n",
    "        model = GradientBoostingRegressor(random_state=42)\n",
    "        param_grid = {\n",
    "            'model__n_estimators': [50, 100, 200],\n",
    "            'model__learning_rate': [0.01, 0.1, 0.2],\n",
    "            'model__max_depth': [3, 5, 7],\n",
    "            'model__min_samples_split': [2, 5, 10]\n",
    "        }\n",
    "    elif best_model_name == 'Ridge Regression':\n",
    "        model = Ridge()\n",
    "        param_grid = {\n",
    "            'model__alpha': [0.01, 0.1, 1.0, 10.0, 100.0]\n",
    "        }\n",
    "    elif best_model_name == 'Lasso Regression':\n",
    "        model = Lasso()\n",
    "        param_grid = {\n",
    "            'model__alpha': [0.001, 0.01, 0.1, 1.0, 10.0]\n",
    "        }\n",
    "    else:  # Linear Regression has no hyperparameters to tune\n",
    "        model = LinearRegression()\n",
    "        param_grid = {}\n",
    "    \n",
    "    # Create pipeline\n",
    "    pipeline = Pipeline(steps=[\n",
    "        ('preprocessor', preprocessor),\n",
    "        ('model', model)\n",
    "    ])\n",
    "    \n",
    "    # If there are parameters to tune\n",
    "    if param_grid:\n",
    "        # Perform grid search\n",
    "        grid_search = GridSearchCV(\n",
    "            pipeline, \n",
    "            param_grid=param_grid, \n",
    "            cv=5, \n",
    "            scoring='neg_mean_squared_error',\n",
    "            n_jobs=-1\n",
    "        )\n",
    "        \n",
    "        # Fit grid search\n",
    "        grid_search.fit(X_train, y_train)\n",
    "        \n",
    "        # Best parameters\n",
    "        best_params = grid_search.best_params_\n",
    "        print(f\"Best Parameters: {best_params}\")\n",
    "        \n",
    "        # Evaluate best model\n",
    "        best_model = grid_search.best_estimator_\n",
    "    else:\n",
    "        # Just fit the pipeline for Linear Regression\n",
    "        pipeline.fit(X_train, y_train)\n",
    "        best_model = pipeline\n",
    "    \n",
    "    # Predict\n",
    "    y_pred = best_model.predict(X_test)\n",
    "    \n",
    "    # Evaluate\n",
    "    mse = mean_squared_error(y_test, y_pred)\n",
    "    rmse = np.sqrt(mse)\n",
    "    r2 = r2_score(y_test, y_pred)\n",
    "    mae = mean_absolute_error(y_test, y_pred)\n",
    "    \n",
    "    print(f\"Tuned Model: {best_model_name}\")\n",
    "    print(f\"Mean Squared Error: {mse:.2f}\")\n",
    "    print(f\"Root Mean Squared Error: {rmse:.2f}\")\n",
    "    print(f\"R² Score: {r2:.2f}\")\n",
    "    print(f\"Mean Absolute Error: {mae:.2f}\")\n",
    "    \n",
    "    return best_model"
   ]
  },
  {
   "cell_type": "code",
   "execution_count": 568,
   "id": "fbfa51c7",
   "metadata": {},
   "outputs": [],
   "source": [
    "# FEATURE IMPORTANCE ANALYSIS (for tree-based models)\n",
    "\n",
    "def analyze_feature_importance(model, preprocessor, X):\n",
    "    \"\"\"Analyze feature importance for tree-based models\"\"\"\n",
    "    # Get feature names from preprocessor\n",
    "    if hasattr(preprocessor, 'transformers_'):\n",
    "        cat_features = preprocessor.transformers_[0][1].get_feature_names_out(\n",
    "            input_features=['Brand', 'Type', 'Gender', 'Material']\n",
    "        )\n",
    "        num_features = ['Size']\n",
    "        feature_names = np.concatenate([cat_features, num_features])\n",
    "        \n",
    "        # Extract model from pipeline\n",
    "        if hasattr(model, 'named_steps') and 'model' in model.named_steps:\n",
    "            model_step = model.named_steps['model']\n",
    "            \n",
    "            # Get feature importances for tree-based models\n",
    "            if hasattr(model_step, 'feature_importances_'):\n",
    "                importances = model_step.feature_importances_\n",
    "                \n",
    "                # Create DataFrame for visualization\n",
    "                importance_df = pd.DataFrame({\n",
    "                    'Feature': feature_names,\n",
    "                    'Importance': importances\n",
    "                })\n",
    "                \n",
    "                # Sort by importance\n",
    "                importance_df = importance_df.sort_values('Importance', ascending=False)\n",
    "                \n",
    "                return importance_df\n",
    "    \n",
    "    return None"
   ]
  },
  {
   "cell_type": "code",
   "execution_count": 569,
   "id": "17999c96",
   "metadata": {},
   "outputs": [],
   "source": [
    "# PREDICTION FUNCTION\n",
    "\n",
    "def predict_shoe_price(model, preprocessor, brand, type_of_shoe, gender, size, material):\n",
    "    \"\"\"Predict the price of a shoe based on its features\"\"\"\n",
    "    # Create a DataFrame with the input features\n",
    "    input_data = pd.DataFrame({\n",
    "        'Brand': [brand],\n",
    "        'Type': [type_of_shoe],\n",
    "        'Gender': [gender],\n",
    "        'Size': [size],\n",
    "        'Material': [material]\n",
    "    })\n",
    "    \n",
    "    # Make prediction\n",
    "    prediction = model.predict(input_data)\n",
    "    \n",
    "    return prediction[0]\n"
   ]
  },
  {
   "cell_type": "code",
   "execution_count": null,
   "id": "82bf8bf9",
   "metadata": {},
   "outputs": [
    {
     "name": "stdout",
     "output_type": "stream",
     "text": [
      "Data types before processing:\n",
      "Brand          object\n",
      "Model          object\n",
      "Type           object\n",
      "Gender         object\n",
      "Size           object\n",
      "Color          object\n",
      "Material       object\n",
      "Price (USD)    object\n",
      "dtype: object\n",
      "\n",
      "Missing values before processing:\n",
      "Brand          0\n",
      "Model          0\n",
      "Type           0\n",
      "Gender         0\n",
      "Size           0\n",
      "Color          0\n",
      "Material       0\n",
      "Price (USD)    0\n",
      "dtype: int64\n"
     ]
    },
    {
     "ename": "NameError",
     "evalue": "name 'data' is not defined",
     "output_type": "error",
     "traceback": [
      "\u001b[1;31m---------------------------------------------------------------------------\u001b[0m",
      "\u001b[1;31mNameError\u001b[0m                                 Traceback (most recent call last)",
      "Cell \u001b[1;32mIn[570], line 17\u001b[0m\n\u001b[0;32m     13\u001b[0m \u001b[38;5;28mprint\u001b[39m(shoe\u001b[38;5;241m.\u001b[39misnull()\u001b[38;5;241m.\u001b[39msum())\n\u001b[0;32m     16\u001b[0m \u001b[38;5;66;03m# Create dataframe (for demonstration only, use your actual data)\u001b[39;00m\n\u001b[1;32m---> 17\u001b[0m shoe \u001b[38;5;241m=\u001b[39m pd\u001b[38;5;241m.\u001b[39mDataFrame(data)\n\u001b[0;32m     19\u001b[0m \u001b[38;5;66;03m# 1. Feature Engineering\u001b[39;00m\n\u001b[0;32m     20\u001b[0m \u001b[38;5;28mprint\u001b[39m(\u001b[38;5;124m\"\u001b[39m\u001b[38;5;130;01m\\n\u001b[39;00m\u001b[38;5;124mPreparing features...\u001b[39m\u001b[38;5;124m\"\u001b[39m)\n",
      "\u001b[1;31mNameError\u001b[0m: name 'data' is not defined"
     ]
    }
   ],
   "source": [
    "# MAIN EXECUTION\n",
    "if __name__ == \"__main__\":\n",
    "    # Load your actual dataset here\n",
    "    # IMPORTANT: Uncomment and use the correct file path\n",
    "    shoe = pd.read_csv('Shoe prices.csv')\n",
    "    \n",
    "    # FOR DEBUGGING: Print the datatypes of columns to help identify issues\n",
    "    print(\"Data types before processing:\")\n",
    "    print(shoe.dtypes)\n",
    "    \n",
    "    # Check for missing values\n",
    "    print(\"\\nMissing values before processing:\")\n",
    "    print(shoe.isnull().sum())\n",
    "    \n",
    "    \n",
    "    # Create dataframe (for demonstration only, use your actual data)\n",
    "    shoe = pd.DataFrame(shoe)\n",
    "    \n",
    "    # 1. Feature Engineering\n",
    "    print(\"\\nPreparing features...\")\n",
    "    shoe_processed, categorical_features, numerical_features = prepare_features(shoe)\n",
    "    \n",
    "    # 2. Model Building & Evaluation\n",
    "    print(\"\\nBuilding and evaluating models...\")\n",
    "    \n",
    "    # Debug information to help identify problems\n",
    "    print(\"\\nColumns in dataset after processing:\")\n",
    "    print(shoe_processed.columns.tolist())\n",
    "    \n",
    "    # Make sure the columns we're looking for actually exist\n",
    "    columns_to_drop = []\n",
    "    if 'Price' in shoe_processed.columns:\n",
    "        columns_to_drop.append('Price')\n",
    "    if 'Model' in shoe_processed.columns:\n",
    "        columns_to_drop.append('Model')\n",
    "    if 'Color' in shoe_processed.columns:\n",
    "        columns_to_drop.append('Color')\n",
    "    \n",
    "    # Only drop columns that exist\n",
    "    X = shoe_processed.drop(columns_to_drop, axis=1)\n",
    "    \n",
    "    # Make sure Price column exists for target variable\n",
    "    if 'Price' in shoe_processed.columns:\n",
    "        y = shoe_processed['Price']\n",
    "        \n",
    "        # Debug information for y values\n",
    "        print(\"\\nTarget variable statistics:\")\n",
    "        print(f\"Min price: {y.min()}\")\n",
    "        print(f\"Max price: {y.max()}\")\n",
    "        print(f\"Mean price: {y.mean()}\")\n",
    "        \n",
    "        # Check for NaN values in X and y\n",
    "        print(f\"\\nNaN values in X: {X.isnull().sum().sum()}\")\n",
    "        print(f\"NaN values in y: {y.isnull().sum()}\")\n",
    "        \n",
    "        # Drop NaN values if any\n",
    "        if X.isnull().sum().sum() > 0 or y.isnull().sum() > 0:\n",
    "            print(\"Dropping rows with NaN values...\")\n",
    "            mask = ~(X.isnull().any(axis=1) | y.isnull())\n",
    "            X = X[mask]\n",
    "            y = y[mask]\n",
    "            \n",
    "        # Now proceed with modeling\n",
    "        results, preprocessor, models = build_and_evaluate_models(shoe_processed, categorical_features, numerical_features)\n",
    "    else:\n",
    "        print(\"Error: 'Price' column not found in the dataset!\")\n",
    "    \n",
    "    # 3. Find the best model based on R2 score\n",
    "    best_model_name = max(results, key=lambda x: results[x]['R2'])\n",
    "    print(f\"\\nBest model based on R² score: {best_model_name}\")\n",
    "    \n",
    "    # 4. Tune the best model\n",
    "    print(f\"\\nTuning {best_model_name}...\")\n",
    "    best_model = tune_best_model(X, y, best_model_name, preprocessor)\n",
    "    \n",
    "    # 5. Feature Importance Analysis (for tree-based models)\n",
    "    if best_model_name in ['Random Forest', 'Gradient Boosting']:\n",
    "        print(\"\\nAnalyzing feature importance...\")\n",
    "        importance_df = analyze_feature_importance(best_model, preprocessor, X)\n",
    "        if importance_df is not None:\n",
    "            print(\"\\nTop 10 important features:\")\n",
    "            print(importance_df.head(10))\n",
    "    \n",
    "    # 6. Make predictions for various brands and shoe types\n",
    "    print(\"\\nSample predictions for different brands:\")\n",
    "    \n",
    "    # Nike prediction\n",
    "    nike_price = predict_shoe_price(\n",
    "        best_model, preprocessor, \n",
    "        brand='Nike', \n",
    "        type_of_shoe='Running', \n",
    "        gender='Men', \n",
    "        size=10.0, \n",
    "        material='Mesh'\n",
    "    )\n",
    "    print(f\"Nike Running shoe (Men, Size 10, Mesh): ${nike_price:.2f}\")\n",
    "    \n",
    "    # Adidas prediction\n",
    "    adidas_price = predict_shoe_price(\n",
    "        best_model, preprocessor, \n",
    "        brand='Adidas', \n",
    "        type_of_shoe='Basketball', \n",
    "        gender='Men', \n",
    "        size=11.0, \n",
    "        material='Primeknit'\n",
    "    )\n",
    "    print(f\"Adidas Basketball shoe (Men, Size 11, Primeknit): ${adidas_price:.2f}\")\n",
    "    \n",
    "    # Reebok prediction\n",
    "    reebok_price = predict_shoe_price(\n",
    "        best_model, preprocessor, \n",
    "        brand='Reebok', \n",
    "        type_of_shoe='Training', \n",
    "        gender='Women', \n",
    "        size=8.5, \n",
    "        material='Leather'\n",
    "    )\n",
    "    print(f\"Reebok Training shoe (Women, Size 8.5, Leather): ${reebok_price:.2f}\")\n",
    "    \n",
    "    # Converse prediction\n",
    "    converse_price = predict_shoe_price(\n",
    "        best_model, preprocessor, \n",
    "        brand='Converse', \n",
    "        type_of_shoe='Casual', \n",
    "        gender='Women', \n",
    "        size=7.0, \n",
    "        material='Canvas'\n",
    "    )\n",
    "    print(f\"Converse Casual shoe (Women, Size 7, Canvas): ${converse_price:.2f}\")\n",
    "    \n",
    "    # Puma prediction\n",
    "    puma_price = predict_shoe_price(\n",
    "        best_model, preprocessor, \n",
    "        brand='Puma', \n",
    "        type_of_shoe='Lifestyle', \n",
    "        gender='Men', \n",
    "        size=9.5, \n",
    "        material='Suede'\n",
    "    )\n",
    "    print(f\"Puma Lifestyle shoe (Men, Size 9.5, Suede): ${puma_price:.2f}\")"
   ]
  },
  {
   "cell_type": "code",
   "execution_count": null,
   "id": "aae4928d",
   "metadata": {},
   "outputs": [],
   "source": []
  }
 ],
 "metadata": {
  "kernelspec": {
   "display_name": "base",
   "language": "python",
   "name": "python3"
  },
  "language_info": {
   "codemirror_mode": {
    "name": "ipython",
    "version": 3
   },
   "file_extension": ".py",
   "mimetype": "text/x-python",
   "name": "python",
   "nbconvert_exporter": "python",
   "pygments_lexer": "ipython3",
   "version": "3.11.11"
  }
 },
 "nbformat": 4,
 "nbformat_minor": 5
}
